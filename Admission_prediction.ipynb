{
  "nbformat": 4,
  "nbformat_minor": 0,
  "metadata": {
    "colab": {
      "provenance": [],
      "collapsed_sections": []
    },
    "kernelspec": {
      "name": "python3",
      "display_name": "Python 3"
    },
    "language_info": {
      "name": "python"
    }
  },
  "cells": [
    {
      "cell_type": "code",
      "source": [],
      "metadata": {
        "id": "4NDgAjn25qFC"
      },
      "execution_count": null,
      "outputs": []
    },
    {
      "cell_type": "markdown",
      "source": [
        "### Business Problem:\n",
        "\n",
        "*  To understand about the factors which are important in graduate admissions and \n",
        "   how these factors are interrelated among themselves which will help Educational \n",
        "   Institutions to predict one's chances of admission given the rest of the variables.\n",
        "   "
      ],
      "metadata": {
        "id": "1bQRU-AR5t00"
      }
    },
    {
      "cell_type": "markdown",
      "source": [
        "### Column Profiling:\n",
        "* Serial No. (Unique row ID)\n",
        "* GRE Scores (out of 340)\n",
        "* TOEFL Scores (out of 120)\n",
        "* University Rating (out of 5)\n",
        "* Statement of Purpose and Letter of Recommendation Strength (out of 5)\n",
        "* Undergraduate GPA (out of 10)\n",
        "* Research Experience (either 0 or 1)\n",
        "* Chance of Admit (ranging from 0 to 1)"
      ],
      "metadata": {
        "id": "UiO9TkdD5wUn"
      }
    },
    {
      "cell_type": "markdown",
      "source": [
        "### Overview of the notebook:\n",
        "* Missing and Duplicacy Check\n",
        "* Exploratory Data Analysis\n",
        "   * Univariate Analysis\n",
        "   * Bivariate Analysis\n",
        "* Module Building   "
      ],
      "metadata": {
        "id": "UplBUT6r5weG"
      }
    },
    {
      "cell_type": "code",
      "source": [
        "import pandas as pd\n",
        "import numpy as np\n",
        "import matplotlib.pyplot as plt\n",
        "import seaborn as sns"
      ],
      "metadata": {
        "id": "kGIYmss52EuO"
      },
      "execution_count": 100,
      "outputs": []
    },
    {
      "cell_type": "code",
      "execution_count": 90,
      "metadata": {
        "colab": {
          "base_uri": "https://localhost:8080/",
          "height": 485
        },
        "id": "SQNF7zIM1t58",
        "outputId": "6fd9b1eb-0e11-4df8-b1d6-47ce35878fd2"
      },
      "outputs": [
        {
          "output_type": "execute_result",
          "data": {
            "text/plain": [
              "     Serial No.  GREScore  TOEFLScore  UniversityRating  SOP  LOR  CGPA  \\\n",
              "0             1       337         118                 4  4.5  4.5  9.65   \n",
              "1             2       324         107                 4  4.0  4.5  8.87   \n",
              "2             3       316         104                 3  3.0  3.5  8.00   \n",
              "3             4       322         110                 3  3.5  2.5  8.67   \n",
              "4             5       314         103                 2  2.0  3.0  8.21   \n",
              "..          ...       ...         ...               ...  ...  ...   ...   \n",
              "395         396       324         110                 3  3.5  3.5  9.04   \n",
              "396         397       325         107                 3  3.0  3.5  9.11   \n",
              "397         398       330         116                 4  5.0  4.5  9.45   \n",
              "398         399       312         103                 3  3.5  4.0  8.78   \n",
              "399         400       333         117                 4  5.0  4.0  9.66   \n",
              "\n",
              "     Research  ChanceofAdmit  \n",
              "0           1           0.92  \n",
              "1           1           0.76  \n",
              "2           1           0.72  \n",
              "3           1           0.80  \n",
              "4           0           0.65  \n",
              "..        ...            ...  \n",
              "395         1           0.82  \n",
              "396         1           0.84  \n",
              "397         1           0.91  \n",
              "398         0           0.67  \n",
              "399         1           0.95  \n",
              "\n",
              "[400 rows x 9 columns]"
            ],
            "text/html": [
              "\n",
              "  <div id=\"df-4327f7b8-83d9-45fc-90df-d9ed113884ba\">\n",
              "    <div class=\"colab-df-container\">\n",
              "      <div>\n",
              "<style scoped>\n",
              "    .dataframe tbody tr th:only-of-type {\n",
              "        vertical-align: middle;\n",
              "    }\n",
              "\n",
              "    .dataframe tbody tr th {\n",
              "        vertical-align: top;\n",
              "    }\n",
              "\n",
              "    .dataframe thead th {\n",
              "        text-align: right;\n",
              "    }\n",
              "</style>\n",
              "<table border=\"1\" class=\"dataframe\">\n",
              "  <thead>\n",
              "    <tr style=\"text-align: right;\">\n",
              "      <th></th>\n",
              "      <th>Serial No.</th>\n",
              "      <th>GREScore</th>\n",
              "      <th>TOEFLScore</th>\n",
              "      <th>UniversityRating</th>\n",
              "      <th>SOP</th>\n",
              "      <th>LOR</th>\n",
              "      <th>CGPA</th>\n",
              "      <th>Research</th>\n",
              "      <th>ChanceofAdmit</th>\n",
              "    </tr>\n",
              "  </thead>\n",
              "  <tbody>\n",
              "    <tr>\n",
              "      <th>0</th>\n",
              "      <td>1</td>\n",
              "      <td>337</td>\n",
              "      <td>118</td>\n",
              "      <td>4</td>\n",
              "      <td>4.5</td>\n",
              "      <td>4.5</td>\n",
              "      <td>9.65</td>\n",
              "      <td>1</td>\n",
              "      <td>0.92</td>\n",
              "    </tr>\n",
              "    <tr>\n",
              "      <th>1</th>\n",
              "      <td>2</td>\n",
              "      <td>324</td>\n",
              "      <td>107</td>\n",
              "      <td>4</td>\n",
              "      <td>4.0</td>\n",
              "      <td>4.5</td>\n",
              "      <td>8.87</td>\n",
              "      <td>1</td>\n",
              "      <td>0.76</td>\n",
              "    </tr>\n",
              "    <tr>\n",
              "      <th>2</th>\n",
              "      <td>3</td>\n",
              "      <td>316</td>\n",
              "      <td>104</td>\n",
              "      <td>3</td>\n",
              "      <td>3.0</td>\n",
              "      <td>3.5</td>\n",
              "      <td>8.00</td>\n",
              "      <td>1</td>\n",
              "      <td>0.72</td>\n",
              "    </tr>\n",
              "    <tr>\n",
              "      <th>3</th>\n",
              "      <td>4</td>\n",
              "      <td>322</td>\n",
              "      <td>110</td>\n",
              "      <td>3</td>\n",
              "      <td>3.5</td>\n",
              "      <td>2.5</td>\n",
              "      <td>8.67</td>\n",
              "      <td>1</td>\n",
              "      <td>0.80</td>\n",
              "    </tr>\n",
              "    <tr>\n",
              "      <th>4</th>\n",
              "      <td>5</td>\n",
              "      <td>314</td>\n",
              "      <td>103</td>\n",
              "      <td>2</td>\n",
              "      <td>2.0</td>\n",
              "      <td>3.0</td>\n",
              "      <td>8.21</td>\n",
              "      <td>0</td>\n",
              "      <td>0.65</td>\n",
              "    </tr>\n",
              "    <tr>\n",
              "      <th>...</th>\n",
              "      <td>...</td>\n",
              "      <td>...</td>\n",
              "      <td>...</td>\n",
              "      <td>...</td>\n",
              "      <td>...</td>\n",
              "      <td>...</td>\n",
              "      <td>...</td>\n",
              "      <td>...</td>\n",
              "      <td>...</td>\n",
              "    </tr>\n",
              "    <tr>\n",
              "      <th>395</th>\n",
              "      <td>396</td>\n",
              "      <td>324</td>\n",
              "      <td>110</td>\n",
              "      <td>3</td>\n",
              "      <td>3.5</td>\n",
              "      <td>3.5</td>\n",
              "      <td>9.04</td>\n",
              "      <td>1</td>\n",
              "      <td>0.82</td>\n",
              "    </tr>\n",
              "    <tr>\n",
              "      <th>396</th>\n",
              "      <td>397</td>\n",
              "      <td>325</td>\n",
              "      <td>107</td>\n",
              "      <td>3</td>\n",
              "      <td>3.0</td>\n",
              "      <td>3.5</td>\n",
              "      <td>9.11</td>\n",
              "      <td>1</td>\n",
              "      <td>0.84</td>\n",
              "    </tr>\n",
              "    <tr>\n",
              "      <th>397</th>\n",
              "      <td>398</td>\n",
              "      <td>330</td>\n",
              "      <td>116</td>\n",
              "      <td>4</td>\n",
              "      <td>5.0</td>\n",
              "      <td>4.5</td>\n",
              "      <td>9.45</td>\n",
              "      <td>1</td>\n",
              "      <td>0.91</td>\n",
              "    </tr>\n",
              "    <tr>\n",
              "      <th>398</th>\n",
              "      <td>399</td>\n",
              "      <td>312</td>\n",
              "      <td>103</td>\n",
              "      <td>3</td>\n",
              "      <td>3.5</td>\n",
              "      <td>4.0</td>\n",
              "      <td>8.78</td>\n",
              "      <td>0</td>\n",
              "      <td>0.67</td>\n",
              "    </tr>\n",
              "    <tr>\n",
              "      <th>399</th>\n",
              "      <td>400</td>\n",
              "      <td>333</td>\n",
              "      <td>117</td>\n",
              "      <td>4</td>\n",
              "      <td>5.0</td>\n",
              "      <td>4.0</td>\n",
              "      <td>9.66</td>\n",
              "      <td>1</td>\n",
              "      <td>0.95</td>\n",
              "    </tr>\n",
              "  </tbody>\n",
              "</table>\n",
              "<p>400 rows × 9 columns</p>\n",
              "</div>\n",
              "      <button class=\"colab-df-convert\" onclick=\"convertToInteractive('df-4327f7b8-83d9-45fc-90df-d9ed113884ba')\"\n",
              "              title=\"Convert this dataframe to an interactive table.\"\n",
              "              style=\"display:none;\">\n",
              "        \n",
              "  <svg xmlns=\"http://www.w3.org/2000/svg\" height=\"24px\"viewBox=\"0 0 24 24\"\n",
              "       width=\"24px\">\n",
              "    <path d=\"M0 0h24v24H0V0z\" fill=\"none\"/>\n",
              "    <path d=\"M18.56 5.44l.94 2.06.94-2.06 2.06-.94-2.06-.94-.94-2.06-.94 2.06-2.06.94zm-11 1L8.5 8.5l.94-2.06 2.06-.94-2.06-.94L8.5 2.5l-.94 2.06-2.06.94zm10 10l.94 2.06.94-2.06 2.06-.94-2.06-.94-.94-2.06-.94 2.06-2.06.94z\"/><path d=\"M17.41 7.96l-1.37-1.37c-.4-.4-.92-.59-1.43-.59-.52 0-1.04.2-1.43.59L10.3 9.45l-7.72 7.72c-.78.78-.78 2.05 0 2.83L4 21.41c.39.39.9.59 1.41.59.51 0 1.02-.2 1.41-.59l7.78-7.78 2.81-2.81c.8-.78.8-2.07 0-2.86zM5.41 20L4 18.59l7.72-7.72 1.47 1.35L5.41 20z\"/>\n",
              "  </svg>\n",
              "      </button>\n",
              "      \n",
              "  <style>\n",
              "    .colab-df-container {\n",
              "      display:flex;\n",
              "      flex-wrap:wrap;\n",
              "      gap: 12px;\n",
              "    }\n",
              "\n",
              "    .colab-df-convert {\n",
              "      background-color: #E8F0FE;\n",
              "      border: none;\n",
              "      border-radius: 50%;\n",
              "      cursor: pointer;\n",
              "      display: none;\n",
              "      fill: #1967D2;\n",
              "      height: 32px;\n",
              "      padding: 0 0 0 0;\n",
              "      width: 32px;\n",
              "    }\n",
              "\n",
              "    .colab-df-convert:hover {\n",
              "      background-color: #E2EBFA;\n",
              "      box-shadow: 0px 1px 2px rgba(60, 64, 67, 0.3), 0px 1px 3px 1px rgba(60, 64, 67, 0.15);\n",
              "      fill: #174EA6;\n",
              "    }\n",
              "\n",
              "    [theme=dark] .colab-df-convert {\n",
              "      background-color: #3B4455;\n",
              "      fill: #D2E3FC;\n",
              "    }\n",
              "\n",
              "    [theme=dark] .colab-df-convert:hover {\n",
              "      background-color: #434B5C;\n",
              "      box-shadow: 0px 1px 3px 1px rgba(0, 0, 0, 0.15);\n",
              "      filter: drop-shadow(0px 1px 2px rgba(0, 0, 0, 0.3));\n",
              "      fill: #FFFFFF;\n",
              "    }\n",
              "  </style>\n",
              "\n",
              "      <script>\n",
              "        const buttonEl =\n",
              "          document.querySelector('#df-4327f7b8-83d9-45fc-90df-d9ed113884ba button.colab-df-convert');\n",
              "        buttonEl.style.display =\n",
              "          google.colab.kernel.accessAllowed ? 'block' : 'none';\n",
              "\n",
              "        async function convertToInteractive(key) {\n",
              "          const element = document.querySelector('#df-4327f7b8-83d9-45fc-90df-d9ed113884ba');\n",
              "          const dataTable =\n",
              "            await google.colab.kernel.invokeFunction('convertToInteractive',\n",
              "                                                     [key], {});\n",
              "          if (!dataTable) return;\n",
              "\n",
              "          const docLinkHtml = 'Like what you see? Visit the ' +\n",
              "            '<a target=\"_blank\" href=https://colab.research.google.com/notebooks/data_table.ipynb>data table notebook</a>'\n",
              "            + ' to learn more about interactive tables.';\n",
              "          element.innerHTML = '';\n",
              "          dataTable['output_type'] = 'display_data';\n",
              "          await google.colab.output.renderOutput(dataTable, element);\n",
              "          const docLink = document.createElement('div');\n",
              "          docLink.innerHTML = docLinkHtml;\n",
              "          element.appendChild(docLink);\n",
              "        }\n",
              "      </script>\n",
              "    </div>\n",
              "  </div>\n",
              "  "
            ]
          },
          "metadata": {},
          "execution_count": 90
        }
      ],
      "source": [
        "data1 = pd.read_csv('Admission_Predict.csv')\n",
        "data1"
      ]
    },
    {
      "cell_type": "code",
      "source": [
        " data1.isnull().sum()"
      ],
      "metadata": {
        "colab": {
          "base_uri": "https://localhost:8080/"
        },
        "id": "kU5v4RHL5k4I",
        "outputId": "e605c92a-533d-4524-cc72-c07ea44cfaaf"
      },
      "execution_count": 91,
      "outputs": [
        {
          "output_type": "execute_result",
          "data": {
            "text/plain": [
              "Serial No.          0\n",
              "GREScore            0\n",
              "TOEFLScore          0\n",
              "UniversityRating    0\n",
              "SOP                 0\n",
              "LOR                 0\n",
              "CGPA                0\n",
              "Research            0\n",
              "ChanceofAdmit       0\n",
              "dtype: int64"
            ]
          },
          "metadata": {},
          "execution_count": 91
        }
      ]
    },
    {
      "cell_type": "code",
      "source": [
        "#Dropping the unique row Identifier - which is Serial No.\n",
        "\n",
        "data = data1.drop('Serial No.', axis = 1)\n",
        "data.head()"
      ],
      "metadata": {
        "colab": {
          "base_uri": "https://localhost:8080/",
          "height": 206
        },
        "id": "2vzM8WoG5k69",
        "outputId": "813a85ba-093a-4080-b497-30bef99bdff2"
      },
      "execution_count": 92,
      "outputs": [
        {
          "output_type": "execute_result",
          "data": {
            "text/plain": [
              "   GREScore  TOEFLScore  UniversityRating  SOP  LOR  CGPA  Research  \\\n",
              "0       337         118                 4  4.5  4.5  9.65         1   \n",
              "1       324         107                 4  4.0  4.5  8.87         1   \n",
              "2       316         104                 3  3.0  3.5  8.00         1   \n",
              "3       322         110                 3  3.5  2.5  8.67         1   \n",
              "4       314         103                 2  2.0  3.0  8.21         0   \n",
              "\n",
              "   ChanceofAdmit  \n",
              "0           0.92  \n",
              "1           0.76  \n",
              "2           0.72  \n",
              "3           0.80  \n",
              "4           0.65  "
            ],
            "text/html": [
              "\n",
              "  <div id=\"df-030c078c-de68-41a8-ae41-522b74ea5bbc\">\n",
              "    <div class=\"colab-df-container\">\n",
              "      <div>\n",
              "<style scoped>\n",
              "    .dataframe tbody tr th:only-of-type {\n",
              "        vertical-align: middle;\n",
              "    }\n",
              "\n",
              "    .dataframe tbody tr th {\n",
              "        vertical-align: top;\n",
              "    }\n",
              "\n",
              "    .dataframe thead th {\n",
              "        text-align: right;\n",
              "    }\n",
              "</style>\n",
              "<table border=\"1\" class=\"dataframe\">\n",
              "  <thead>\n",
              "    <tr style=\"text-align: right;\">\n",
              "      <th></th>\n",
              "      <th>GREScore</th>\n",
              "      <th>TOEFLScore</th>\n",
              "      <th>UniversityRating</th>\n",
              "      <th>SOP</th>\n",
              "      <th>LOR</th>\n",
              "      <th>CGPA</th>\n",
              "      <th>Research</th>\n",
              "      <th>ChanceofAdmit</th>\n",
              "    </tr>\n",
              "  </thead>\n",
              "  <tbody>\n",
              "    <tr>\n",
              "      <th>0</th>\n",
              "      <td>337</td>\n",
              "      <td>118</td>\n",
              "      <td>4</td>\n",
              "      <td>4.5</td>\n",
              "      <td>4.5</td>\n",
              "      <td>9.65</td>\n",
              "      <td>1</td>\n",
              "      <td>0.92</td>\n",
              "    </tr>\n",
              "    <tr>\n",
              "      <th>1</th>\n",
              "      <td>324</td>\n",
              "      <td>107</td>\n",
              "      <td>4</td>\n",
              "      <td>4.0</td>\n",
              "      <td>4.5</td>\n",
              "      <td>8.87</td>\n",
              "      <td>1</td>\n",
              "      <td>0.76</td>\n",
              "    </tr>\n",
              "    <tr>\n",
              "      <th>2</th>\n",
              "      <td>316</td>\n",
              "      <td>104</td>\n",
              "      <td>3</td>\n",
              "      <td>3.0</td>\n",
              "      <td>3.5</td>\n",
              "      <td>8.00</td>\n",
              "      <td>1</td>\n",
              "      <td>0.72</td>\n",
              "    </tr>\n",
              "    <tr>\n",
              "      <th>3</th>\n",
              "      <td>322</td>\n",
              "      <td>110</td>\n",
              "      <td>3</td>\n",
              "      <td>3.5</td>\n",
              "      <td>2.5</td>\n",
              "      <td>8.67</td>\n",
              "      <td>1</td>\n",
              "      <td>0.80</td>\n",
              "    </tr>\n",
              "    <tr>\n",
              "      <th>4</th>\n",
              "      <td>314</td>\n",
              "      <td>103</td>\n",
              "      <td>2</td>\n",
              "      <td>2.0</td>\n",
              "      <td>3.0</td>\n",
              "      <td>8.21</td>\n",
              "      <td>0</td>\n",
              "      <td>0.65</td>\n",
              "    </tr>\n",
              "  </tbody>\n",
              "</table>\n",
              "</div>\n",
              "      <button class=\"colab-df-convert\" onclick=\"convertToInteractive('df-030c078c-de68-41a8-ae41-522b74ea5bbc')\"\n",
              "              title=\"Convert this dataframe to an interactive table.\"\n",
              "              style=\"display:none;\">\n",
              "        \n",
              "  <svg xmlns=\"http://www.w3.org/2000/svg\" height=\"24px\"viewBox=\"0 0 24 24\"\n",
              "       width=\"24px\">\n",
              "    <path d=\"M0 0h24v24H0V0z\" fill=\"none\"/>\n",
              "    <path d=\"M18.56 5.44l.94 2.06.94-2.06 2.06-.94-2.06-.94-.94-2.06-.94 2.06-2.06.94zm-11 1L8.5 8.5l.94-2.06 2.06-.94-2.06-.94L8.5 2.5l-.94 2.06-2.06.94zm10 10l.94 2.06.94-2.06 2.06-.94-2.06-.94-.94-2.06-.94 2.06-2.06.94z\"/><path d=\"M17.41 7.96l-1.37-1.37c-.4-.4-.92-.59-1.43-.59-.52 0-1.04.2-1.43.59L10.3 9.45l-7.72 7.72c-.78.78-.78 2.05 0 2.83L4 21.41c.39.39.9.59 1.41.59.51 0 1.02-.2 1.41-.59l7.78-7.78 2.81-2.81c.8-.78.8-2.07 0-2.86zM5.41 20L4 18.59l7.72-7.72 1.47 1.35L5.41 20z\"/>\n",
              "  </svg>\n",
              "      </button>\n",
              "      \n",
              "  <style>\n",
              "    .colab-df-container {\n",
              "      display:flex;\n",
              "      flex-wrap:wrap;\n",
              "      gap: 12px;\n",
              "    }\n",
              "\n",
              "    .colab-df-convert {\n",
              "      background-color: #E8F0FE;\n",
              "      border: none;\n",
              "      border-radius: 50%;\n",
              "      cursor: pointer;\n",
              "      display: none;\n",
              "      fill: #1967D2;\n",
              "      height: 32px;\n",
              "      padding: 0 0 0 0;\n",
              "      width: 32px;\n",
              "    }\n",
              "\n",
              "    .colab-df-convert:hover {\n",
              "      background-color: #E2EBFA;\n",
              "      box-shadow: 0px 1px 2px rgba(60, 64, 67, 0.3), 0px 1px 3px 1px rgba(60, 64, 67, 0.15);\n",
              "      fill: #174EA6;\n",
              "    }\n",
              "\n",
              "    [theme=dark] .colab-df-convert {\n",
              "      background-color: #3B4455;\n",
              "      fill: #D2E3FC;\n",
              "    }\n",
              "\n",
              "    [theme=dark] .colab-df-convert:hover {\n",
              "      background-color: #434B5C;\n",
              "      box-shadow: 0px 1px 3px 1px rgba(0, 0, 0, 0.15);\n",
              "      filter: drop-shadow(0px 1px 2px rgba(0, 0, 0, 0.3));\n",
              "      fill: #FFFFFF;\n",
              "    }\n",
              "  </style>\n",
              "\n",
              "      <script>\n",
              "        const buttonEl =\n",
              "          document.querySelector('#df-030c078c-de68-41a8-ae41-522b74ea5bbc button.colab-df-convert');\n",
              "        buttonEl.style.display =\n",
              "          google.colab.kernel.accessAllowed ? 'block' : 'none';\n",
              "\n",
              "        async function convertToInteractive(key) {\n",
              "          const element = document.querySelector('#df-030c078c-de68-41a8-ae41-522b74ea5bbc');\n",
              "          const dataTable =\n",
              "            await google.colab.kernel.invokeFunction('convertToInteractive',\n",
              "                                                     [key], {});\n",
              "          if (!dataTable) return;\n",
              "\n",
              "          const docLinkHtml = 'Like what you see? Visit the ' +\n",
              "            '<a target=\"_blank\" href=https://colab.research.google.com/notebooks/data_table.ipynb>data table notebook</a>'\n",
              "            + ' to learn more about interactive tables.';\n",
              "          element.innerHTML = '';\n",
              "          dataTable['output_type'] = 'display_data';\n",
              "          await google.colab.output.renderOutput(dataTable, element);\n",
              "          const docLink = document.createElement('div');\n",
              "          docLink.innerHTML = docLinkHtml;\n",
              "          element.appendChild(docLink);\n",
              "        }\n",
              "      </script>\n",
              "    </div>\n",
              "  </div>\n",
              "  "
            ]
          },
          "metadata": {},
          "execution_count": 92
        }
      ]
    },
    {
      "cell_type": "code",
      "source": [
        "data.shape"
      ],
      "metadata": {
        "colab": {
          "base_uri": "https://localhost:8080/"
        },
        "id": "CfgIPVXk5k93",
        "outputId": "0571046e-c93b-4643-adca-007e31d87fbb"
      },
      "execution_count": 93,
      "outputs": [
        {
          "output_type": "execute_result",
          "data": {
            "text/plain": [
              "(400, 8)"
            ]
          },
          "metadata": {},
          "execution_count": 93
        }
      ]
    },
    {
      "cell_type": "code",
      "source": [
        "data.info()"
      ],
      "metadata": {
        "colab": {
          "base_uri": "https://localhost:8080/"
        },
        "id": "sqW288HZ5lA7",
        "outputId": "2bddef98-ed13-408c-f4df-97171c6ab60b"
      },
      "execution_count": 94,
      "outputs": [
        {
          "output_type": "stream",
          "name": "stdout",
          "text": [
            "<class 'pandas.core.frame.DataFrame'>\n",
            "RangeIndex: 400 entries, 0 to 399\n",
            "Data columns (total 8 columns):\n",
            " #   Column            Non-Null Count  Dtype  \n",
            "---  ------            --------------  -----  \n",
            " 0   GREScore          400 non-null    int64  \n",
            " 1   TOEFLScore        400 non-null    int64  \n",
            " 2   UniversityRating  400 non-null    int64  \n",
            " 3   SOP               400 non-null    float64\n",
            " 4   LOR               400 non-null    float64\n",
            " 5   CGPA              400 non-null    float64\n",
            " 6   Research          400 non-null    int64  \n",
            " 7   ChanceofAdmit     400 non-null    float64\n",
            "dtypes: float64(4), int64(4)\n",
            "memory usage: 25.1 KB\n"
          ]
        }
      ]
    },
    {
      "cell_type": "code",
      "source": [
        "data.describe()"
      ],
      "metadata": {
        "colab": {
          "base_uri": "https://localhost:8080/",
          "height": 300
        },
        "id": "k8VqhZo-5lDs",
        "outputId": "a9d0786a-9753-4271-8817-d14e578ab7b6"
      },
      "execution_count": null,
      "outputs": [
        {
          "output_type": "execute_result",
          "data": {
            "text/plain": [
              "         GREScore  TOEFLScore  UniversityRating         SOP         LOR  \\\n",
              "count  400.000000  400.000000        400.000000  400.000000  400.000000   \n",
              "mean   316.807500  107.410000          3.087500    3.400000    3.452500   \n",
              "std     11.473646    6.069514          1.143728    1.006869    0.898478   \n",
              "min    290.000000   92.000000          1.000000    1.000000    1.000000   \n",
              "25%    308.000000  103.000000          2.000000    2.500000    3.000000   \n",
              "50%    317.000000  107.000000          3.000000    3.500000    3.500000   \n",
              "75%    325.000000  112.000000          4.000000    4.000000    4.000000   \n",
              "max    340.000000  120.000000          5.000000    5.000000    5.000000   \n",
              "\n",
              "             CGPA    Research  ChanceofAdmit  \n",
              "count  400.000000  400.000000     400.000000  \n",
              "mean     8.598925    0.547500       0.724350  \n",
              "std      0.596317    0.498362       0.142609  \n",
              "min      6.800000    0.000000       0.340000  \n",
              "25%      8.170000    0.000000       0.640000  \n",
              "50%      8.610000    1.000000       0.730000  \n",
              "75%      9.062500    1.000000       0.830000  \n",
              "max      9.920000    1.000000       0.970000  "
            ],
            "text/html": [
              "\n",
              "  <div id=\"df-aef48e05-11f7-4969-9e88-20ad8f3a5e0d\">\n",
              "    <div class=\"colab-df-container\">\n",
              "      <div>\n",
              "<style scoped>\n",
              "    .dataframe tbody tr th:only-of-type {\n",
              "        vertical-align: middle;\n",
              "    }\n",
              "\n",
              "    .dataframe tbody tr th {\n",
              "        vertical-align: top;\n",
              "    }\n",
              "\n",
              "    .dataframe thead th {\n",
              "        text-align: right;\n",
              "    }\n",
              "</style>\n",
              "<table border=\"1\" class=\"dataframe\">\n",
              "  <thead>\n",
              "    <tr style=\"text-align: right;\">\n",
              "      <th></th>\n",
              "      <th>GREScore</th>\n",
              "      <th>TOEFLScore</th>\n",
              "      <th>UniversityRating</th>\n",
              "      <th>SOP</th>\n",
              "      <th>LOR</th>\n",
              "      <th>CGPA</th>\n",
              "      <th>Research</th>\n",
              "      <th>ChanceofAdmit</th>\n",
              "    </tr>\n",
              "  </thead>\n",
              "  <tbody>\n",
              "    <tr>\n",
              "      <th>count</th>\n",
              "      <td>400.000000</td>\n",
              "      <td>400.000000</td>\n",
              "      <td>400.000000</td>\n",
              "      <td>400.000000</td>\n",
              "      <td>400.000000</td>\n",
              "      <td>400.000000</td>\n",
              "      <td>400.000000</td>\n",
              "      <td>400.000000</td>\n",
              "    </tr>\n",
              "    <tr>\n",
              "      <th>mean</th>\n",
              "      <td>316.807500</td>\n",
              "      <td>107.410000</td>\n",
              "      <td>3.087500</td>\n",
              "      <td>3.400000</td>\n",
              "      <td>3.452500</td>\n",
              "      <td>8.598925</td>\n",
              "      <td>0.547500</td>\n",
              "      <td>0.724350</td>\n",
              "    </tr>\n",
              "    <tr>\n",
              "      <th>std</th>\n",
              "      <td>11.473646</td>\n",
              "      <td>6.069514</td>\n",
              "      <td>1.143728</td>\n",
              "      <td>1.006869</td>\n",
              "      <td>0.898478</td>\n",
              "      <td>0.596317</td>\n",
              "      <td>0.498362</td>\n",
              "      <td>0.142609</td>\n",
              "    </tr>\n",
              "    <tr>\n",
              "      <th>min</th>\n",
              "      <td>290.000000</td>\n",
              "      <td>92.000000</td>\n",
              "      <td>1.000000</td>\n",
              "      <td>1.000000</td>\n",
              "      <td>1.000000</td>\n",
              "      <td>6.800000</td>\n",
              "      <td>0.000000</td>\n",
              "      <td>0.340000</td>\n",
              "    </tr>\n",
              "    <tr>\n",
              "      <th>25%</th>\n",
              "      <td>308.000000</td>\n",
              "      <td>103.000000</td>\n",
              "      <td>2.000000</td>\n",
              "      <td>2.500000</td>\n",
              "      <td>3.000000</td>\n",
              "      <td>8.170000</td>\n",
              "      <td>0.000000</td>\n",
              "      <td>0.640000</td>\n",
              "    </tr>\n",
              "    <tr>\n",
              "      <th>50%</th>\n",
              "      <td>317.000000</td>\n",
              "      <td>107.000000</td>\n",
              "      <td>3.000000</td>\n",
              "      <td>3.500000</td>\n",
              "      <td>3.500000</td>\n",
              "      <td>8.610000</td>\n",
              "      <td>1.000000</td>\n",
              "      <td>0.730000</td>\n",
              "    </tr>\n",
              "    <tr>\n",
              "      <th>75%</th>\n",
              "      <td>325.000000</td>\n",
              "      <td>112.000000</td>\n",
              "      <td>4.000000</td>\n",
              "      <td>4.000000</td>\n",
              "      <td>4.000000</td>\n",
              "      <td>9.062500</td>\n",
              "      <td>1.000000</td>\n",
              "      <td>0.830000</td>\n",
              "    </tr>\n",
              "    <tr>\n",
              "      <th>max</th>\n",
              "      <td>340.000000</td>\n",
              "      <td>120.000000</td>\n",
              "      <td>5.000000</td>\n",
              "      <td>5.000000</td>\n",
              "      <td>5.000000</td>\n",
              "      <td>9.920000</td>\n",
              "      <td>1.000000</td>\n",
              "      <td>0.970000</td>\n",
              "    </tr>\n",
              "  </tbody>\n",
              "</table>\n",
              "</div>\n",
              "      <button class=\"colab-df-convert\" onclick=\"convertToInteractive('df-aef48e05-11f7-4969-9e88-20ad8f3a5e0d')\"\n",
              "              title=\"Convert this dataframe to an interactive table.\"\n",
              "              style=\"display:none;\">\n",
              "        \n",
              "  <svg xmlns=\"http://www.w3.org/2000/svg\" height=\"24px\"viewBox=\"0 0 24 24\"\n",
              "       width=\"24px\">\n",
              "    <path d=\"M0 0h24v24H0V0z\" fill=\"none\"/>\n",
              "    <path d=\"M18.56 5.44l.94 2.06.94-2.06 2.06-.94-2.06-.94-.94-2.06-.94 2.06-2.06.94zm-11 1L8.5 8.5l.94-2.06 2.06-.94-2.06-.94L8.5 2.5l-.94 2.06-2.06.94zm10 10l.94 2.06.94-2.06 2.06-.94-2.06-.94-.94-2.06-.94 2.06-2.06.94z\"/><path d=\"M17.41 7.96l-1.37-1.37c-.4-.4-.92-.59-1.43-.59-.52 0-1.04.2-1.43.59L10.3 9.45l-7.72 7.72c-.78.78-.78 2.05 0 2.83L4 21.41c.39.39.9.59 1.41.59.51 0 1.02-.2 1.41-.59l7.78-7.78 2.81-2.81c.8-.78.8-2.07 0-2.86zM5.41 20L4 18.59l7.72-7.72 1.47 1.35L5.41 20z\"/>\n",
              "  </svg>\n",
              "      </button>\n",
              "      \n",
              "  <style>\n",
              "    .colab-df-container {\n",
              "      display:flex;\n",
              "      flex-wrap:wrap;\n",
              "      gap: 12px;\n",
              "    }\n",
              "\n",
              "    .colab-df-convert {\n",
              "      background-color: #E8F0FE;\n",
              "      border: none;\n",
              "      border-radius: 50%;\n",
              "      cursor: pointer;\n",
              "      display: none;\n",
              "      fill: #1967D2;\n",
              "      height: 32px;\n",
              "      padding: 0 0 0 0;\n",
              "      width: 32px;\n",
              "    }\n",
              "\n",
              "    .colab-df-convert:hover {\n",
              "      background-color: #E2EBFA;\n",
              "      box-shadow: 0px 1px 2px rgba(60, 64, 67, 0.3), 0px 1px 3px 1px rgba(60, 64, 67, 0.15);\n",
              "      fill: #174EA6;\n",
              "    }\n",
              "\n",
              "    [theme=dark] .colab-df-convert {\n",
              "      background-color: #3B4455;\n",
              "      fill: #D2E3FC;\n",
              "    }\n",
              "\n",
              "    [theme=dark] .colab-df-convert:hover {\n",
              "      background-color: #434B5C;\n",
              "      box-shadow: 0px 1px 3px 1px rgba(0, 0, 0, 0.15);\n",
              "      filter: drop-shadow(0px 1px 2px rgba(0, 0, 0, 0.3));\n",
              "      fill: #FFFFFF;\n",
              "    }\n",
              "  </style>\n",
              "\n",
              "      <script>\n",
              "        const buttonEl =\n",
              "          document.querySelector('#df-aef48e05-11f7-4969-9e88-20ad8f3a5e0d button.colab-df-convert');\n",
              "        buttonEl.style.display =\n",
              "          google.colab.kernel.accessAllowed ? 'block' : 'none';\n",
              "\n",
              "        async function convertToInteractive(key) {\n",
              "          const element = document.querySelector('#df-aef48e05-11f7-4969-9e88-20ad8f3a5e0d');\n",
              "          const dataTable =\n",
              "            await google.colab.kernel.invokeFunction('convertToInteractive',\n",
              "                                                     [key], {});\n",
              "          if (!dataTable) return;\n",
              "\n",
              "          const docLinkHtml = 'Like what you see? Visit the ' +\n",
              "            '<a target=\"_blank\" href=https://colab.research.google.com/notebooks/data_table.ipynb>data table notebook</a>'\n",
              "            + ' to learn more about interactive tables.';\n",
              "          element.innerHTML = '';\n",
              "          dataTable['output_type'] = 'display_data';\n",
              "          await google.colab.output.renderOutput(dataTable, element);\n",
              "          const docLink = document.createElement('div');\n",
              "          docLink.innerHTML = docLinkHtml;\n",
              "          element.appendChild(docLink);\n",
              "        }\n",
              "      </script>\n",
              "    </div>\n",
              "  </div>\n",
              "  "
            ]
          },
          "metadata": {},
          "execution_count": 49
        }
      ]
    },
    {
      "cell_type": "code",
      "source": [
        "numerical_var_colm = ['GREScore', 'TOEFLScore', 'UniversityRating', 'SOP', 'LOR', 'CGPA', 'Research', 'ChanceofAdmit']\n",
        "\n",
        "for i in numerical_var_colm:\n",
        "    print(f\" Unique value count in {i} is {data[i].nunique()}\")"
      ],
      "metadata": {
        "colab": {
          "base_uri": "https://localhost:8080/"
        },
        "id": "lrn7geb-5lGY",
        "outputId": "0710f7f0-eade-4bb6-b377-cf5dd4a0adbc"
      },
      "execution_count": null,
      "outputs": [
        {
          "output_type": "stream",
          "name": "stdout",
          "text": [
            " Unique value count in GREScore is 49\n",
            " Unique value count in TOEFLScore is 29\n",
            " Unique value count in UniversityRating is 5\n",
            " Unique value count in SOP is 9\n",
            " Unique value count in LOR is 9\n",
            " Unique value count in CGPA is 168\n",
            " Unique value count in Research is 2\n",
            " Unique value count in ChanceofAdmit is 60\n"
          ]
        }
      ]
    },
    {
      "cell_type": "code",
      "source": [
        "disc_var_colm = ['UniversityRating', 'SOP', 'LOR','Research']\n",
        "for i in disc_var_colm:\n",
        "    print(f\" Unique values in {i} are {data[i].unique()}\")"
      ],
      "metadata": {
        "colab": {
          "base_uri": "https://localhost:8080/"
        },
        "id": "XSzVtm1v5lJV",
        "outputId": "34c6c667-ce08-4a63-f5ab-ec4fb9d4e588"
      },
      "execution_count": null,
      "outputs": [
        {
          "output_type": "stream",
          "name": "stdout",
          "text": [
            " Unique values in UniversityRating are [4 3 2 5 1]\n",
            " Unique values in SOP are [4.5 4.  3.  3.5 2.  5.  1.5 1.  2.5]\n",
            " Unique values in LOR are [4.5 3.5 2.5 3.  4.  1.5 2.  5.  1. ]\n",
            " Unique values in Research are [1 0]\n"
          ]
        }
      ]
    },
    {
      "cell_type": "code",
      "source": [
        "numerical_var_colm = ['GREScore', 'TOEFLScore', 'CGPA', 'ChanceofAdmit']\n",
        "\n",
        "for i in numerical_var_colm:\n",
        "    data.hist(column=i,grid=False,figsize=(6,6),color= 'black',edgecolor='white',bins=10)\n",
        "\n",
        "    \n",
        "    plt.xlabel(i,fontsize = 12)\n",
        "    plt.ylabel('Counts',fontsize = 12)\n",
        "    plt.title( f'Histogram of {i}',fontsize = 16)\n",
        "    plt.show()\n",
        "    \n",
        "for i in numerical_var_colm:\n",
        "    data.boxplot(column=i,grid=False)\n",
        "    plt.ylabel(i,fontsize = 12)\n",
        "    plt.title( f'boxplot of {i}',fontsize = 16)\n",
        "    plt.show()"
      ],
      "metadata": {
        "colab": {
          "base_uri": "https://localhost:8080/",
          "height": 1000
        },
        "id": "KRR28Yf95lMI",
        "outputId": "8b511cf2-9726-42b7-9bc8-ae2043764ab0"
      },
      "execution_count": null,
      "outputs": [
        {
          "output_type": "display_data",
          "data": {
            "text/plain": [
              "<Figure size 432x432 with 1 Axes>"
            ],
            "image/png": "[encoded data removed]"
          },
          "metadata": {}
        },
        {
          "output_type": "display_data",
          "data": {
            "text/plain": [
              "<Figure size 432x432 with 1 Axes>"
            ],
            "image/png": "[encoded data removed]"
          },
          "metadata": {}
        },
        {
          "output_type": "display_data",
          "data": {
            "text/plain": [
              "<Figure size 432x432 with 1 Axes>"
            ],
            "image/png": "[encoded data removed]"
          },
          "metadata": {}
        },
        {
          "output_type": "display_data",
          "data": {
            "text/plain": [
              "<Figure size 432x432 with 1 Axes>"
            ],
            "image/png": "[encoded data removed]"
          },
          "metadata": {}
        },
        {
          "output_type": "display_data",
          "data": {
            "text/plain": [
              "<Figure size 432x288 with 1 Axes>"
            ],
            "image/png": "[encoded data removed]"
          },
          "metadata": {}
        },
        {
          "output_type": "display_data",
          "data": {
            "text/plain": [
              "<Figure size 432x288 with 1 Axes>"
            ],
            "image/png": "[encoded data removed]"
          },
          "metadata": {}
        },
        {
          "output_type": "display_data",
          "data": {
            "text/plain": [
              "<Figure size 432x288 with 1 Axes>"
            ],
            "image/png": "[encoded data removed]"
          },
          "metadata": {}
        },
        {
          "output_type": "display_data",
          "data": {
            "text/plain": [
              "<Figure size 432x288 with 1 Axes>"
            ],
            "image/png": "[encoded data removed]"
          },
          "metadata": {}
        }
      ]
    },
    {
      "cell_type": "code",
      "source": [
        "disc_var_colm = ['UniversityRating', 'SOP', 'LOR', 'Research']\n",
        "for i in disc_var_colm:\n",
        "    data[i].value_counts().plot(kind='bar',figsize=(4,4),color='coral',fontsize=10)\n",
        "    plt.xlabel(i,fontsize = 12)\n",
        "    plt.title( f'barplot of {i}',fontsize = 16)\n",
        "    \n",
        "    plt.show()\n",
        "    \n",
        "for i in disc_var_colm:\n",
        "    data[i].value_counts().plot(kind='pie',figsize=(4,4),fontsize=10, autopct='%1.1f%%')\n",
        "    plt.xlabel(i,fontsize = 12)\n",
        "    plt.title( f'piechart of {i}',fontsize = 16)\n",
        "    \n",
        "    plt.show()"
      ],
      "metadata": {
        "colab": {
          "base_uri": "https://localhost:8080/",
          "height": 1000
        },
        "id": "MIwYJ5656g4C",
        "outputId": "36b44e4e-f4ab-49cc-cc50-284f7c33b3b9"
      },
      "execution_count": null,
      "outputs": [
        {
          "output_type": "display_data",
          "data": {
            "text/plain": [
              "<Figure size 288x288 with 1 Axes>"
            ],
            "image/png": "[encoded data removed]"
          },
          "metadata": {}
        },
        {
          "output_type": "display_data",
          "data": {
            "text/plain": [
              "<Figure size 288x288 with 1 Axes>"
            ],
            "image/png": "[encoded data removed]"
          },
          "metadata": {}
        },
        {
          "output_type": "display_data",
          "data": {
            "text/plain": [
              "<Figure size 288x288 with 1 Axes>"
            ],
            "image/png": "[encoded data removed]"
          },
          "metadata": {}
        },
        {
          "output_type": "display_data",
          "data": {
            "text/plain": [
              "<Figure size 288x288 with 1 Axes>"
            ],
            "image/png": "[encoded data removed]"
          },
          "metadata": {}
        },
        {
          "output_type": "display_data",
          "data": {
            "text/plain": [
              "<Figure size 288x288 with 1 Axes>"
            ],
            "image/png": "[encoded data removed]"
          },
          "metadata": {}
        },
        {
          "output_type": "display_data",
          "data": {
            "text/plain": [
              "<Figure size 288x288 with 1 Axes>"
            ],
            "image/png": "[encoded data removed]"
          },
          "metadata": {}
        },
        {
          "output_type": "display_data",
          "data": {
            "text/plain": [
              "<Figure size 288x288 with 1 Axes>"
            ],
            "image/png": "[encoded data removed]"
          },
          "metadata": {}
        },
        {
          "output_type": "display_data",
          "data": {
            "text/plain": [
              "<Figure size 288x288 with 1 Axes>"
            ],
            "image/png": "[encoded data removed]"
          },
          "metadata": {}
        }
      ]
    },
    {
      "cell_type": "code",
      "source": [
        "data_new = data.copy()\n",
        "bins = [290,300,310,320,330,340]\n",
        "labels =[\"290-300\",\"300-310\",\"310-320\",\"320-330\",\"330-340\"]\n",
        "data_new['GRE_Score_bins'] = pd.cut(data_new['GREScore'], bins,labels=labels)\n",
        "\n",
        "bins = [90,100,110,120]\n",
        "labels =['90-100','100-110','110-120']\n",
        "data_new['TOEFL_Score_bins'] = pd.cut(data_new['TOEFLScore'], bins,labels=labels)\n",
        "\n",
        "bins = [6.5,7.0,7.5,8.0,8.5,9.0,9.5,10.0]\n",
        "labels =['6.5-7.0','7.0-7.5','7.5-8.0','8.0-8.5','8.5-9.0','9.0-9.5','Above 9.5']\n",
        "data_new['CGPA_bins'] = pd.cut(data_new['CGPA'], bins,labels=labels)\n",
        "\n",
        "data_new.head()"
      ],
      "metadata": {
        "colab": {
          "base_uri": "https://localhost:8080/",
          "height": 206
        },
        "id": "0kIBjVtm6g6t",
        "outputId": "b84c6bee-96b9-4f75-f470-cabe4a2f4968"
      },
      "execution_count": null,
      "outputs": [
        {
          "output_type": "execute_result",
          "data": {
            "text/plain": [
              "   GREScore  TOEFLScore  UniversityRating  SOP  LOR  CGPA  Research  \\\n",
              "0       337         118                 4  4.5  4.5  9.65         1   \n",
              "1       324         107                 4  4.0  4.5  8.87         1   \n",
              "2       316         104                 3  3.0  3.5  8.00         1   \n",
              "3       322         110                 3  3.5  2.5  8.67         1   \n",
              "4       314         103                 2  2.0  3.0  8.21         0   \n",
              "\n",
              "   ChanceofAdmit GRE_Score_bins TOEFL_Score_bins  CGPA_bins  \n",
              "0           0.92        330-340          110-120  Above 9.5  \n",
              "1           0.76        320-330          100-110    8.5-9.0  \n",
              "2           0.72        310-320          100-110    7.5-8.0  \n",
              "3           0.80        320-330          100-110    8.5-9.0  \n",
              "4           0.65        310-320          100-110    8.0-8.5  "
            ],
            "text/html": [
              "\n",
              "  <div id=\"df-ad32a735-83c2-4a25-b211-3aa1342a7e43\">\n",
              "    <div class=\"colab-df-container\">\n",
              "      <div>\n",
              "<style scoped>\n",
              "    .dataframe tbody tr th:only-of-type {\n",
              "        vertical-align: middle;\n",
              "    }\n",
              "\n",
              "    .dataframe tbody tr th {\n",
              "        vertical-align: top;\n",
              "    }\n",
              "\n",
              "    .dataframe thead th {\n",
              "        text-align: right;\n",
              "    }\n",
              "</style>\n",
              "<table border=\"1\" class=\"dataframe\">\n",
              "  <thead>\n",
              "    <tr style=\"text-align: right;\">\n",
              "      <th></th>\n",
              "      <th>GREScore</th>\n",
              "      <th>TOEFLScore</th>\n",
              "      <th>UniversityRating</th>\n",
              "      <th>SOP</th>\n",
              "      <th>LOR</th>\n",
              "      <th>CGPA</th>\n",
              "      <th>Research</th>\n",
              "      <th>ChanceofAdmit</th>\n",
              "      <th>GRE_Score_bins</th>\n",
              "      <th>TOEFL_Score_bins</th>\n",
              "      <th>CGPA_bins</th>\n",
              "    </tr>\n",
              "  </thead>\n",
              "  <tbody>\n",
              "    <tr>\n",
              "      <th>0</th>\n",
              "      <td>337</td>\n",
              "      <td>118</td>\n",
              "      <td>4</td>\n",
              "      <td>4.5</td>\n",
              "      <td>4.5</td>\n",
              "      <td>9.65</td>\n",
              "      <td>1</td>\n",
              "      <td>0.92</td>\n",
              "      <td>330-340</td>\n",
              "      <td>110-120</td>\n",
              "      <td>Above 9.5</td>\n",
              "    </tr>\n",
              "    <tr>\n",
              "      <th>1</th>\n",
              "      <td>324</td>\n",
              "      <td>107</td>\n",
              "      <td>4</td>\n",
              "      <td>4.0</td>\n",
              "      <td>4.5</td>\n",
              "      <td>8.87</td>\n",
              "      <td>1</td>\n",
              "      <td>0.76</td>\n",
              "      <td>320-330</td>\n",
              "      <td>100-110</td>\n",
              "      <td>8.5-9.0</td>\n",
              "    </tr>\n",
              "    <tr>\n",
              "      <th>2</th>\n",
              "      <td>316</td>\n",
              "      <td>104</td>\n",
              "      <td>3</td>\n",
              "      <td>3.0</td>\n",
              "      <td>3.5</td>\n",
              "      <td>8.00</td>\n",
              "      <td>1</td>\n",
              "      <td>0.72</td>\n",
              "      <td>310-320</td>\n",
              "      <td>100-110</td>\n",
              "      <td>7.5-8.0</td>\n",
              "    </tr>\n",
              "    <tr>\n",
              "      <th>3</th>\n",
              "      <td>322</td>\n",
              "      <td>110</td>\n",
              "      <td>3</td>\n",
              "      <td>3.5</td>\n",
              "      <td>2.5</td>\n",
              "      <td>8.67</td>\n",
              "      <td>1</td>\n",
              "      <td>0.80</td>\n",
              "      <td>320-330</td>\n",
              "      <td>100-110</td>\n",
              "      <td>8.5-9.0</td>\n",
              "    </tr>\n",
              "    <tr>\n",
              "      <th>4</th>\n",
              "      <td>314</td>\n",
              "      <td>103</td>\n",
              "      <td>2</td>\n",
              "      <td>2.0</td>\n",
              "      <td>3.0</td>\n",
              "      <td>8.21</td>\n",
              "      <td>0</td>\n",
              "      <td>0.65</td>\n",
              "      <td>310-320</td>\n",
              "      <td>100-110</td>\n",
              "      <td>8.0-8.5</td>\n",
              "    </tr>\n",
              "  </tbody>\n",
              "</table>\n",
              "</div>\n",
              "      <button class=\"colab-df-convert\" onclick=\"convertToInteractive('df-ad32a735-83c2-4a25-b211-3aa1342a7e43')\"\n",
              "              title=\"Convert this dataframe to an interactive table.\"\n",
              "              style=\"display:none;\">\n",
              "        \n",
              "  <svg xmlns=\"http://www.w3.org/2000/svg\" height=\"24px\"viewBox=\"0 0 24 24\"\n",
              "       width=\"24px\">\n",
              "    <path d=\"M0 0h24v24H0V0z\" fill=\"none\"/>\n",
              "    <path d=\"M18.56 5.44l.94 2.06.94-2.06 2.06-.94-2.06-.94-.94-2.06-.94 2.06-2.06.94zm-11 1L8.5 8.5l.94-2.06 2.06-.94-2.06-.94L8.5 2.5l-.94 2.06-2.06.94zm10 10l.94 2.06.94-2.06 2.06-.94-2.06-.94-.94-2.06-.94 2.06-2.06.94z\"/><path d=\"M17.41 7.96l-1.37-1.37c-.4-.4-.92-.59-1.43-.59-.52 0-1.04.2-1.43.59L10.3 9.45l-7.72 7.72c-.78.78-.78 2.05 0 2.83L4 21.41c.39.39.9.59 1.41.59.51 0 1.02-.2 1.41-.59l7.78-7.78 2.81-2.81c.8-.78.8-2.07 0-2.86zM5.41 20L4 18.59l7.72-7.72 1.47 1.35L5.41 20z\"/>\n",
              "  </svg>\n",
              "      </button>\n",
              "      \n",
              "  <style>\n",
              "    .colab-df-container {\n",
              "      display:flex;\n",
              "      flex-wrap:wrap;\n",
              "      gap: 12px;\n",
              "    }\n",
              "\n",
              "    .colab-df-convert {\n",
              "      background-color: #E8F0FE;\n",
              "      border: none;\n",
              "      border-radius: 50%;\n",
              "      cursor: pointer;\n",
              "      display: none;\n",
              "      fill: #1967D2;\n",
              "      height: 32px;\n",
              "      padding: 0 0 0 0;\n",
              "      width: 32px;\n",
              "    }\n",
              "\n",
              "    .colab-df-convert:hover {\n",
              "      background-color: #E2EBFA;\n",
              "      box-shadow: 0px 1px 2px rgba(60, 64, 67, 0.3), 0px 1px 3px 1px rgba(60, 64, 67, 0.15);\n",
              "      fill: #174EA6;\n",
              "    }\n",
              "\n",
              "    [theme=dark] .colab-df-convert {\n",
              "      background-color: #3B4455;\n",
              "      fill: #D2E3FC;\n",
              "    }\n",
              "\n",
              "    [theme=dark] .colab-df-convert:hover {\n",
              "      background-color: #434B5C;\n",
              "      box-shadow: 0px 1px 3px 1px rgba(0, 0, 0, 0.15);\n",
              "      filter: drop-shadow(0px 1px 2px rgba(0, 0, 0, 0.3));\n",
              "      fill: #FFFFFF;\n",
              "    }\n",
              "  </style>\n",
              "\n",
              "      <script>\n",
              "        const buttonEl =\n",
              "          document.querySelector('#df-ad32a735-83c2-4a25-b211-3aa1342a7e43 button.colab-df-convert');\n",
              "        buttonEl.style.display =\n",
              "          google.colab.kernel.accessAllowed ? 'block' : 'none';\n",
              "\n",
              "        async function convertToInteractive(key) {\n",
              "          const element = document.querySelector('#df-ad32a735-83c2-4a25-b211-3aa1342a7e43');\n",
              "          const dataTable =\n",
              "            await google.colab.kernel.invokeFunction('convertToInteractive',\n",
              "                                                     [key], {});\n",
              "          if (!dataTable) return;\n",
              "\n",
              "          const docLinkHtml = 'Like what you see? Visit the ' +\n",
              "            '<a target=\"_blank\" href=https://colab.research.google.com/notebooks/data_table.ipynb>data table notebook</a>'\n",
              "            + ' to learn more about interactive tables.';\n",
              "          element.innerHTML = '';\n",
              "          dataTable['output_type'] = 'display_data';\n",
              "          await google.colab.output.renderOutput(dataTable, element);\n",
              "          const docLink = document.createElement('div');\n",
              "          docLink.innerHTML = docLinkHtml;\n",
              "          element.appendChild(docLink);\n",
              "        }\n",
              "      </script>\n",
              "    </div>\n",
              "  </div>\n",
              "  "
            ]
          },
          "metadata": {},
          "execution_count": 55
        }
      ]
    },
    {
      "cell_type": "code",
      "source": [
        "list1 = ['UniversityRating', 'SOP','Research','LOR']\n",
        "\n",
        "for cvar in list1:\n",
        "    if cvar == 'Research':\n",
        "        continue\n",
        "    print('------------',cvar.upper(),'------------------')\n",
        "    tab = pd.crosstab(data[cvar],columns=data.Research)\n",
        "    print(tab)\n",
        "    print(' ')\n",
        "    rowtotal = tab.sum(axis =1)\n",
        "    tab2 = tab.div(rowtotal,axis=0)\n",
        "    print(tab2)\n",
        "    tab2.plot.bar(rot=0)\n",
        "    plt.show()\n",
        "    print(' ')\n",
        "    \n",
        "\n",
        "for cvar in list1:\n",
        "    if cvar == 'SOP':\n",
        "        continue\n",
        "    print('------------',cvar.upper(),'------------------')\n",
        "    tab = pd.crosstab(data[cvar],columns=data.SOP)\n",
        "    print(tab)\n",
        "    print(' ')\n",
        "    rowtotal = tab.sum(axis =1)\n",
        "    tab2 = tab.div(rowtotal,axis=0)\n",
        "    print(tab2)\n",
        "    tab2.plot.bar(rot=0)\n",
        "    plt.show()\n",
        "    print(' ')\n",
        "\n",
        "for cvar in list1:\n",
        "    if cvar == 'UniversityRating':\n",
        "        continue\n",
        "    print('------------',cvar.upper(),'------------------')\n",
        "    tab = pd.crosstab(data[cvar],columns=data.University_Rating)\n",
        "    print(tab)\n",
        "    print(' ')\n",
        "    rowtotal = tab.sum(axis =1)\n",
        "    tab2 = tab.div(rowtotal,axis=0)\n",
        "    print(tab2)\n",
        "    tab2.plot.bar(rot=0)\n",
        "    plt.show()\n",
        "    print(' ')\n",
        "    \n",
        "for cvar in list1:\n",
        "    if cvar == 'LOR':\n",
        "        continue\n",
        "    print('------------',cvar.upper(),'------------------')\n",
        "    tab = pd.crosstab(data[cvar],columns=data.LOR)\n",
        "    print(tab)\n",
        "    print(' ')\n",
        "    rowtotal = tab.sum(axis =1)\n",
        "    tab2 = tab.div(rowtotal,axis=0)\n",
        "    print(tab2)\n",
        "    tab2.plot.bar(rot=0)\n",
        "    plt.show()\n",
        "    print(' ')\n",
        "    \n",
        "    "
      ],
      "metadata": {
        "colab": {
          "base_uri": "https://localhost:8080/",
          "height": 1000
        },
        "id": "5SQOBlia6g-H",
        "outputId": "bcfed3f0-67b7-4c87-d924-3b24ffdf9479"
      },
      "execution_count": null,
      "outputs": [
        {
          "output_type": "stream",
          "name": "stdout",
          "text": [
            "------------ UNIVERSITYRATING ------------------\n",
            "Research           0   1\n",
            "UniversityRating        \n",
            "1                 21   5\n",
            "2                 75  32\n",
            "3                 62  71\n",
            "4                 15  59\n",
            "5                  8  52\n",
            " \n",
            "Research                 0         1\n",
            "UniversityRating                    \n",
            "1                 0.807692  0.192308\n",
            "2                 0.700935  0.299065\n",
            "3                 0.466165  0.533835\n",
            "4                 0.202703  0.797297\n",
            "5                 0.133333  0.866667\n"
          ]
        },
        {
          "output_type": "display_data",
          "data": {
            "text/plain": [
              "<Figure size 432x288 with 1 Axes>"
            ],
            "image/png": "[encoded data removed]"
          },
          "metadata": {}
        },
        {
          "output_type": "stream",
          "name": "stdout",
          "text": [
            " \n",
            "------------ SOP ------------------\n",
            "Research   0   1\n",
            "SOP             \n",
            "1.0        5   1\n",
            "1.5       17   3\n",
            "2.0       27   6\n",
            "2.5       33  14\n",
            "3.0       34  30\n",
            "3.5       27  43\n",
            "4.0       21  49\n",
            "4.5       12  41\n",
            "5.0        5  32\n",
            " \n",
            "Research         0         1\n",
            "SOP                         \n",
            "1.0       0.833333  0.166667\n",
            "1.5       0.850000  0.150000\n",
            "2.0       0.818182  0.181818\n",
            "2.5       0.702128  0.297872\n",
            "3.0       0.531250  0.468750\n",
            "3.5       0.385714  0.614286\n",
            "4.0       0.300000  0.700000\n",
            "4.5       0.226415  0.773585\n",
            "5.0       0.135135  0.864865\n"
          ]
        },
        {
          "output_type": "display_data",
          "data": {
            "text/plain": [
              "<Figure size 432x288 with 1 Axes>"
            ],
            "image/png": "[encoded data removed]"
          },
          "metadata": {}
        },
        {
          "output_type": "stream",
          "name": "stdout",
          "text": [
            " \n",
            "------------ LOR ------------------\n",
            "Research   0   1\n",
            "LOR             \n",
            "1.0        1   0\n",
            "1.5        5   2\n",
            "2.0       29   9\n",
            "2.5       29  10\n",
            "3.0       45  40\n",
            "3.5       35  38\n",
            "4.0       24  53\n",
            "4.5        7  38\n",
            "5.0        6  29\n",
            " \n",
            "Research         0         1\n",
            "LOR                         \n",
            "1.0       1.000000  0.000000\n",
            "1.5       0.714286  0.285714\n",
            "2.0       0.763158  0.236842\n",
            "2.5       0.743590  0.256410\n",
            "3.0       0.529412  0.470588\n",
            "3.5       0.479452  0.520548\n",
            "4.0       0.311688  0.688312\n",
            "4.5       0.155556  0.844444\n",
            "5.0       0.171429  0.828571\n"
          ]
        },
        {
          "output_type": "display_data",
          "data": {
            "text/plain": [
              "<Figure size 432x288 with 1 Axes>"
            ],
            "image/png": "[encoded data removed]"
          },
          "metadata": {}
        },
        {
          "output_type": "stream",
          "name": "stdout",
          "text": [
            " \n",
            "------------ UNIVERSITYRATING ------------------\n",
            "SOP               1.0  1.5  2.0  2.5  3.0  3.5  4.0  4.5  5.0\n",
            "UniversityRating                                             \n",
            "1                   5    8    7    2    2    2    0    0    0\n",
            "2                   1   10   15   35   25    9    9    3    0\n",
            "3                   0    0   10    9   30   51   26    5    2\n",
            "4                   0    2    1    1    5    6   21   27   11\n",
            "5                   0    0    0    0    2    2   14   18   24\n",
            " \n",
            "SOP                    1.0       1.5       2.0       2.5       3.0       3.5  \\\n",
            "UniversityRating                                                               \n",
            "1                 0.192308  0.307692  0.269231  0.076923  0.076923  0.076923   \n",
            "2                 0.009346  0.093458  0.140187  0.327103  0.233645  0.084112   \n",
            "3                 0.000000  0.000000  0.075188  0.067669  0.225564  0.383459   \n",
            "4                 0.000000  0.027027  0.013514  0.013514  0.067568  0.081081   \n",
            "5                 0.000000  0.000000  0.000000  0.000000  0.033333  0.033333   \n",
            "\n",
            "SOP                    4.0       4.5       5.0  \n",
            "UniversityRating                                \n",
            "1                 0.000000  0.000000  0.000000  \n",
            "2                 0.084112  0.028037  0.000000  \n",
            "3                 0.195489  0.037594  0.015038  \n",
            "4                 0.283784  0.364865  0.148649  \n",
            "5                 0.233333  0.300000  0.400000  \n"
          ]
        },
        {
          "output_type": "display_data",
          "data": {
            "text/plain": [
              "<Figure size 432x288 with 1 Axes>"
            ],
            "image/png": "[encoded data removed]"
          },
          "metadata": {}
        },
        {
          "output_type": "stream",
          "name": "stdout",
          "text": [
            " \n",
            "------------ RESEARCH ------------------\n",
            "SOP       1.0  1.5  2.0  2.5  3.0  3.5  4.0  4.5  5.0\n",
            "Research                                             \n",
            "0           5   17   27   33   34   27   21   12    5\n",
            "1           1    3    6   14   30   43   49   41   32\n",
            " \n",
            "SOP            1.0       1.5       2.0       2.5       3.0       3.5  \\\n",
            "Research                                                               \n",
            "0         0.027624  0.093923  0.149171  0.182320  0.187845  0.149171   \n",
            "1         0.004566  0.013699  0.027397  0.063927  0.136986  0.196347   \n",
            "\n",
            "SOP            4.0       4.5       5.0  \n",
            "Research                                \n",
            "0         0.116022  0.066298  0.027624  \n",
            "1         0.223744  0.187215  0.146119  \n"
          ]
        },
        {
          "output_type": "display_data",
          "data": {
            "text/plain": [
              "<Figure size 432x288 with 1 Axes>"
            ],
            "image/png": "[encoded data removed]"
          },
          "metadata": {}
        },
        {
          "output_type": "stream",
          "name": "stdout",
          "text": [
            " \n",
            "------------ LOR ------------------\n",
            "SOP  1.0  1.5  2.0  2.5  3.0  3.5  4.0  4.5  5.0\n",
            "LOR                                             \n",
            "1.0    1    0    0    0    0    0    0    0    0\n",
            "1.5    1    1    2    2    1    0    0    0    0\n",
            "2.0    2   13    5    9    7    1    1    0    0\n",
            "2.5    2    3   14    6    6    6    2    0    0\n",
            "3.0    0    2    7   18   20   25   10    3    0\n",
            "3.5    0    1    3    7   21   15   15    9    2\n",
            "4.0    0    0    2    4    7   19   18   21    6\n",
            "4.5    0    0    0    1    1    2   16   14   11\n",
            "5.0    0    0    0    0    1    2    8    6   18\n",
            " \n",
            "SOP       1.0       1.5       2.0       2.5       3.0       3.5       4.0  \\\n",
            "LOR                                                                         \n",
            "1.0  1.000000  0.000000  0.000000  0.000000  0.000000  0.000000  0.000000   \n",
            "1.5  0.142857  0.142857  0.285714  0.285714  0.142857  0.000000  0.000000   \n",
            "2.0  0.052632  0.342105  0.131579  0.236842  0.184211  0.026316  0.026316   \n",
            "2.5  0.051282  0.076923  0.358974  0.153846  0.153846  0.153846  0.051282   \n",
            "3.0  0.000000  0.023529  0.082353  0.211765  0.235294  0.294118  0.117647   \n",
            "3.5  0.000000  0.013699  0.041096  0.095890  0.287671  0.205479  0.205479   \n",
            "4.0  0.000000  0.000000  0.025974  0.051948  0.090909  0.246753  0.233766   \n",
            "4.5  0.000000  0.000000  0.000000  0.022222  0.022222  0.044444  0.355556   \n",
            "5.0  0.000000  0.000000  0.000000  0.000000  0.028571  0.057143  0.228571   \n",
            "\n",
            "SOP       4.5       5.0  \n",
            "LOR                      \n",
            "1.0  0.000000  0.000000  \n",
            "1.5  0.000000  0.000000  \n",
            "2.0  0.000000  0.000000  \n",
            "2.5  0.000000  0.000000  \n",
            "3.0  0.035294  0.000000  \n",
            "3.5  0.123288  0.027397  \n",
            "4.0  0.272727  0.077922  \n",
            "4.5  0.311111  0.244444  \n",
            "5.0  0.171429  0.514286  \n"
          ]
        },
        {
          "output_type": "display_data",
          "data": {
            "text/plain": [
              "<Figure size 432x288 with 1 Axes>"
            ],
            "image/png": "[encoded data removed]"
          },
          "metadata": {}
        },
        {
          "output_type": "stream",
          "name": "stdout",
          "text": [
            " \n",
            "------------ SOP ------------------\n"
          ]
        },
        {
          "output_type": "error",
          "ename": "AttributeError",
          "evalue": "ignored",
          "traceback": [
            "\u001b[0;31m---------------------------------------------------------------------------\u001b[0m",
            "\u001b[0;31mAttributeError\u001b[0m                            Traceback (most recent call last)",
            "\u001b[0;32m<ipython-input-58-fcd69b5c18d7>\u001b[0m in \u001b[0;36m<module>\u001b[0;34m\u001b[0m\n\u001b[1;32m     34\u001b[0m         \u001b[0;32mcontinue\u001b[0m\u001b[0;34m\u001b[0m\u001b[0;34m\u001b[0m\u001b[0m\n\u001b[1;32m     35\u001b[0m     \u001b[0mprint\u001b[0m\u001b[0;34m(\u001b[0m\u001b[0;34m'------------'\u001b[0m\u001b[0;34m,\u001b[0m\u001b[0mcvar\u001b[0m\u001b[0;34m.\u001b[0m\u001b[0mupper\u001b[0m\u001b[0;34m(\u001b[0m\u001b[0;34m)\u001b[0m\u001b[0;34m,\u001b[0m\u001b[0;34m'------------------'\u001b[0m\u001b[0;34m)\u001b[0m\u001b[0;34m\u001b[0m\u001b[0;34m\u001b[0m\u001b[0m\n\u001b[0;32m---> 36\u001b[0;31m     \u001b[0mtab\u001b[0m \u001b[0;34m=\u001b[0m \u001b[0mpd\u001b[0m\u001b[0;34m.\u001b[0m\u001b[0mcrosstab\u001b[0m\u001b[0;34m(\u001b[0m\u001b[0mdata\u001b[0m\u001b[0;34m[\u001b[0m\u001b[0mcvar\u001b[0m\u001b[0;34m]\u001b[0m\u001b[0;34m,\u001b[0m\u001b[0mcolumns\u001b[0m\u001b[0;34m=\u001b[0m\u001b[0mdata\u001b[0m\u001b[0;34m.\u001b[0m\u001b[0mUniversity_Rating\u001b[0m\u001b[0;34m)\u001b[0m\u001b[0;34m\u001b[0m\u001b[0;34m\u001b[0m\u001b[0m\n\u001b[0m\u001b[1;32m     37\u001b[0m     \u001b[0mprint\u001b[0m\u001b[0;34m(\u001b[0m\u001b[0mtab\u001b[0m\u001b[0;34m)\u001b[0m\u001b[0;34m\u001b[0m\u001b[0;34m\u001b[0m\u001b[0m\n\u001b[1;32m     38\u001b[0m     \u001b[0mprint\u001b[0m\u001b[0;34m(\u001b[0m\u001b[0;34m' '\u001b[0m\u001b[0;34m)\u001b[0m\u001b[0;34m\u001b[0m\u001b[0;34m\u001b[0m\u001b[0m\n",
            "\u001b[0;32m/usr/local/lib/python3.7/dist-packages/pandas/core/generic.py\u001b[0m in \u001b[0;36m__getattr__\u001b[0;34m(self, name)\u001b[0m\n\u001b[1;32m   5485\u001b[0m         ):\n\u001b[1;32m   5486\u001b[0m             \u001b[0;32mreturn\u001b[0m \u001b[0mself\u001b[0m\u001b[0;34m[\u001b[0m\u001b[0mname\u001b[0m\u001b[0;34m]\u001b[0m\u001b[0;34m\u001b[0m\u001b[0;34m\u001b[0m\u001b[0m\n\u001b[0;32m-> 5487\u001b[0;31m         \u001b[0;32mreturn\u001b[0m \u001b[0mobject\u001b[0m\u001b[0;34m.\u001b[0m\u001b[0m__getattribute__\u001b[0m\u001b[0;34m(\u001b[0m\u001b[0mself\u001b[0m\u001b[0;34m,\u001b[0m \u001b[0mname\u001b[0m\u001b[0;34m)\u001b[0m\u001b[0;34m\u001b[0m\u001b[0;34m\u001b[0m\u001b[0m\n\u001b[0m\u001b[1;32m   5488\u001b[0m \u001b[0;34m\u001b[0m\u001b[0m\n\u001b[1;32m   5489\u001b[0m     \u001b[0;32mdef\u001b[0m \u001b[0m__setattr__\u001b[0m\u001b[0;34m(\u001b[0m\u001b[0mself\u001b[0m\u001b[0;34m,\u001b[0m \u001b[0mname\u001b[0m\u001b[0;34m:\u001b[0m \u001b[0mstr\u001b[0m\u001b[0;34m,\u001b[0m \u001b[0mvalue\u001b[0m\u001b[0;34m)\u001b[0m \u001b[0;34m->\u001b[0m \u001b[0;32mNone\u001b[0m\u001b[0;34m:\u001b[0m\u001b[0;34m\u001b[0m\u001b[0;34m\u001b[0m\u001b[0m\n",
            "\u001b[0;31mAttributeError\u001b[0m: 'DataFrame' object has no attribute 'University_Rating'"
          ]
        }
      ]
    },
    {
      "cell_type": "code",
      "source": [
        "data = data.drop('UniversityRating', axis = 1)\n",
        "data = data.drop('SOP', axis = 1)\n",
        "data = data.drop('LOR', axis = 1)\n",
        "data = data.drop('Research', axis = 1)"
      ],
      "metadata": {
        "id": "9-a8ryNR67F2"
      },
      "execution_count": null,
      "outputs": []
    },
    {
      "cell_type": "code",
      "source": [
        "# Correaltion between numerical variables\n",
        "\n",
        "plt.figure(figsize = (10, 5))\n",
        "sns.heatmap(data.corr(method=\"pearson\"),annot = True)\n",
        "plt.yticks(rotation = 360)\n",
        "plt.xticks(rotation = 45)\n",
        "plt.show()"
      ],
      "metadata": {
        "colab": {
          "base_uri": "https://localhost:8080/",
          "height": 383
        },
        "id": "tN75A_dy67Ir",
        "outputId": "8acf85f7-4a3d-42ac-d126-5dfda226129c"
      },
      "execution_count": null,
      "outputs": [
        {
          "output_type": "display_data",
          "data": {
            "text/plain": [
              "<Figure size 720x360 with 2 Axes>"
            ],
            "image/png": "[encoded data removed]"
          },
          "metadata": {}
        }
      ]
    },
    {
      "cell_type": "code",
      "source": [],
      "metadata": {
        "id": "02Ky29Pi67MK"
      },
      "execution_count": null,
      "outputs": []
    },
    {
      "cell_type": "markdown",
      "source": [
        "### Linear Regression Module"
      ],
      "metadata": {
        "id": "tX8vpxQC7bCl"
      }
    },
    {
      "cell_type": "code",
      "source": [
        "import statsmodels.api as stm"
      ],
      "metadata": {
        "id": "tPfkG6zn2Bw5"
      },
      "execution_count": null,
      "outputs": []
    },
    {
      "cell_type": "code",
      "source": [
        "df = pd.get_dummies(data,columns=['UniversityRating', 'SOP', 'LOR', 'Research'],drop_first=True)\n",
        "df.head()"
      ],
      "metadata": {
        "colab": {
          "base_uri": "https://localhost:8080/",
          "height": 299
        },
        "id": "DNHZ0dc32DjH",
        "outputId": "51715877-a98b-4b90-b215-0c407594ac58"
      },
      "execution_count": null,
      "outputs": [
        {
          "output_type": "execute_result",
          "data": {
            "text/plain": [
              "   GREScore  TOEFLScore  CGPA  ChanceofAdmit  UniversityRating_2  \\\n",
              "0       337         118  9.65           0.92                   0   \n",
              "1       324         107  8.87           0.76                   0   \n",
              "2       316         104  8.00           0.72                   0   \n",
              "3       322         110  8.67           0.80                   0   \n",
              "4       314         103  8.21           0.65                   1   \n",
              "\n",
              "   UniversityRating_3  UniversityRating_4  UniversityRating_5  SOP_1.5  \\\n",
              "0                   0                   1                   0        0   \n",
              "1                   0                   1                   0        0   \n",
              "2                   1                   0                   0        0   \n",
              "3                   1                   0                   0        0   \n",
              "4                   0                   0                   0        0   \n",
              "\n",
              "   SOP_2.0  ...  SOP_5.0  LOR_1.5  LOR_2.0  LOR_2.5  LOR_3.0  LOR_3.5  \\\n",
              "0        0  ...        0        0        0        0        0        0   \n",
              "1        0  ...        0        0        0        0        0        0   \n",
              "2        0  ...        0        0        0        0        0        1   \n",
              "3        0  ...        0        0        0        1        0        0   \n",
              "4        1  ...        0        0        0        0        1        0   \n",
              "\n",
              "   LOR_4.0  LOR_4.5  LOR_5.0  Research_1  \n",
              "0        0        1        0           1  \n",
              "1        0        1        0           1  \n",
              "2        0        0        0           1  \n",
              "3        0        0        0           1  \n",
              "4        0        0        0           0  \n",
              "\n",
              "[5 rows x 25 columns]"
            ],
            "text/html": [
              "\n",
              "  <div id=\"df-30877a6c-d76a-4e93-83ad-0668779e2030\">\n",
              "    <div class=\"colab-df-container\">\n",
              "      <div>\n",
              "<style scoped>\n",
              "    .dataframe tbody tr th:only-of-type {\n",
              "        vertical-align: middle;\n",
              "    }\n",
              "\n",
              "    .dataframe tbody tr th {\n",
              "        vertical-align: top;\n",
              "    }\n",
              "\n",
              "    .dataframe thead th {\n",
              "        text-align: right;\n",
              "    }\n",
              "</style>\n",
              "<table border=\"1\" class=\"dataframe\">\n",
              "  <thead>\n",
              "    <tr style=\"text-align: right;\">\n",
              "      <th></th>\n",
              "      <th>GREScore</th>\n",
              "      <th>TOEFLScore</th>\n",
              "      <th>CGPA</th>\n",
              "      <th>ChanceofAdmit</th>\n",
              "      <th>UniversityRating_2</th>\n",
              "      <th>UniversityRating_3</th>\n",
              "      <th>UniversityRating_4</th>\n",
              "      <th>UniversityRating_5</th>\n",
              "      <th>SOP_1.5</th>\n",
              "      <th>SOP_2.0</th>\n",
              "      <th>...</th>\n",
              "      <th>SOP_5.0</th>\n",
              "      <th>LOR_1.5</th>\n",
              "      <th>LOR_2.0</th>\n",
              "      <th>LOR_2.5</th>\n",
              "      <th>LOR_3.0</th>\n",
              "      <th>LOR_3.5</th>\n",
              "      <th>LOR_4.0</th>\n",
              "      <th>LOR_4.5</th>\n",
              "      <th>LOR_5.0</th>\n",
              "      <th>Research_1</th>\n",
              "    </tr>\n",
              "  </thead>\n",
              "  <tbody>\n",
              "    <tr>\n",
              "      <th>0</th>\n",
              "      <td>337</td>\n",
              "      <td>118</td>\n",
              "      <td>9.65</td>\n",
              "      <td>0.92</td>\n",
              "      <td>0</td>\n",
              "      <td>0</td>\n",
              "      <td>1</td>\n",
              "      <td>0</td>\n",
              "      <td>0</td>\n",
              "      <td>0</td>\n",
              "      <td>...</td>\n",
              "      <td>0</td>\n",
              "      <td>0</td>\n",
              "      <td>0</td>\n",
              "      <td>0</td>\n",
              "      <td>0</td>\n",
              "      <td>0</td>\n",
              "      <td>0</td>\n",
              "      <td>1</td>\n",
              "      <td>0</td>\n",
              "      <td>1</td>\n",
              "    </tr>\n",
              "    <tr>\n",
              "      <th>1</th>\n",
              "      <td>324</td>\n",
              "      <td>107</td>\n",
              "      <td>8.87</td>\n",
              "      <td>0.76</td>\n",
              "      <td>0</td>\n",
              "      <td>0</td>\n",
              "      <td>1</td>\n",
              "      <td>0</td>\n",
              "      <td>0</td>\n",
              "      <td>0</td>\n",
              "      <td>...</td>\n",
              "      <td>0</td>\n",
              "      <td>0</td>\n",
              "      <td>0</td>\n",
              "      <td>0</td>\n",
              "      <td>0</td>\n",
              "      <td>0</td>\n",
              "      <td>0</td>\n",
              "      <td>1</td>\n",
              "      <td>0</td>\n",
              "      <td>1</td>\n",
              "    </tr>\n",
              "    <tr>\n",
              "      <th>2</th>\n",
              "      <td>316</td>\n",
              "      <td>104</td>\n",
              "      <td>8.00</td>\n",
              "      <td>0.72</td>\n",
              "      <td>0</td>\n",
              "      <td>1</td>\n",
              "      <td>0</td>\n",
              "      <td>0</td>\n",
              "      <td>0</td>\n",
              "      <td>0</td>\n",
              "      <td>...</td>\n",
              "      <td>0</td>\n",
              "      <td>0</td>\n",
              "      <td>0</td>\n",
              "      <td>0</td>\n",
              "      <td>0</td>\n",
              "      <td>1</td>\n",
              "      <td>0</td>\n",
              "      <td>0</td>\n",
              "      <td>0</td>\n",
              "      <td>1</td>\n",
              "    </tr>\n",
              "    <tr>\n",
              "      <th>3</th>\n",
              "      <td>322</td>\n",
              "      <td>110</td>\n",
              "      <td>8.67</td>\n",
              "      <td>0.80</td>\n",
              "      <td>0</td>\n",
              "      <td>1</td>\n",
              "      <td>0</td>\n",
              "      <td>0</td>\n",
              "      <td>0</td>\n",
              "      <td>0</td>\n",
              "      <td>...</td>\n",
              "      <td>0</td>\n",
              "      <td>0</td>\n",
              "      <td>0</td>\n",
              "      <td>1</td>\n",
              "      <td>0</td>\n",
              "      <td>0</td>\n",
              "      <td>0</td>\n",
              "      <td>0</td>\n",
              "      <td>0</td>\n",
              "      <td>1</td>\n",
              "    </tr>\n",
              "    <tr>\n",
              "      <th>4</th>\n",
              "      <td>314</td>\n",
              "      <td>103</td>\n",
              "      <td>8.21</td>\n",
              "      <td>0.65</td>\n",
              "      <td>1</td>\n",
              "      <td>0</td>\n",
              "      <td>0</td>\n",
              "      <td>0</td>\n",
              "      <td>0</td>\n",
              "      <td>1</td>\n",
              "      <td>...</td>\n",
              "      <td>0</td>\n",
              "      <td>0</td>\n",
              "      <td>0</td>\n",
              "      <td>0</td>\n",
              "      <td>1</td>\n",
              "      <td>0</td>\n",
              "      <td>0</td>\n",
              "      <td>0</td>\n",
              "      <td>0</td>\n",
              "      <td>0</td>\n",
              "    </tr>\n",
              "  </tbody>\n",
              "</table>\n",
              "<p>5 rows × 25 columns</p>\n",
              "</div>\n",
              "      <button class=\"colab-df-convert\" onclick=\"convertToInteractive('df-30877a6c-d76a-4e93-83ad-0668779e2030')\"\n",
              "              title=\"Convert this dataframe to an interactive table.\"\n",
              "              style=\"display:none;\">\n",
              "        \n",
              "  <svg xmlns=\"http://www.w3.org/2000/svg\" height=\"24px\"viewBox=\"0 0 24 24\"\n",
              "       width=\"24px\">\n",
              "    <path d=\"M0 0h24v24H0V0z\" fill=\"none\"/>\n",
              "    <path d=\"M18.56 5.44l.94 2.06.94-2.06 2.06-.94-2.06-.94-.94-2.06-.94 2.06-2.06.94zm-11 1L8.5 8.5l.94-2.06 2.06-.94-2.06-.94L8.5 2.5l-.94 2.06-2.06.94zm10 10l.94 2.06.94-2.06 2.06-.94-2.06-.94-.94-2.06-.94 2.06-2.06.94z\"/><path d=\"M17.41 7.96l-1.37-1.37c-.4-.4-.92-.59-1.43-.59-.52 0-1.04.2-1.43.59L10.3 9.45l-7.72 7.72c-.78.78-.78 2.05 0 2.83L4 21.41c.39.39.9.59 1.41.59.51 0 1.02-.2 1.41-.59l7.78-7.78 2.81-2.81c.8-.78.8-2.07 0-2.86zM5.41 20L4 18.59l7.72-7.72 1.47 1.35L5.41 20z\"/>\n",
              "  </svg>\n",
              "      </button>\n",
              "      \n",
              "  <style>\n",
              "    .colab-df-container {\n",
              "      display:flex;\n",
              "      flex-wrap:wrap;\n",
              "      gap: 12px;\n",
              "    }\n",
              "\n",
              "    .colab-df-convert {\n",
              "      background-color: #E8F0FE;\n",
              "      border: none;\n",
              "      border-radius: 50%;\n",
              "      cursor: pointer;\n",
              "      display: none;\n",
              "      fill: #1967D2;\n",
              "      height: 32px;\n",
              "      padding: 0 0 0 0;\n",
              "      width: 32px;\n",
              "    }\n",
              "\n",
              "    .colab-df-convert:hover {\n",
              "      background-color: #E2EBFA;\n",
              "      box-shadow: 0px 1px 2px rgba(60, 64, 67, 0.3), 0px 1px 3px 1px rgba(60, 64, 67, 0.15);\n",
              "      fill: #174EA6;\n",
              "    }\n",
              "\n",
              "    [theme=dark] .colab-df-convert {\n",
              "      background-color: #3B4455;\n",
              "      fill: #D2E3FC;\n",
              "    }\n",
              "\n",
              "    [theme=dark] .colab-df-convert:hover {\n",
              "      background-color: #434B5C;\n",
              "      box-shadow: 0px 1px 3px 1px rgba(0, 0, 0, 0.15);\n",
              "      filter: drop-shadow(0px 1px 2px rgba(0, 0, 0, 0.3));\n",
              "      fill: #FFFFFF;\n",
              "    }\n",
              "  </style>\n",
              "\n",
              "      <script>\n",
              "        const buttonEl =\n",
              "          document.querySelector('#df-30877a6c-d76a-4e93-83ad-0668779e2030 button.colab-df-convert');\n",
              "        buttonEl.style.display =\n",
              "          google.colab.kernel.accessAllowed ? 'block' : 'none';\n",
              "\n",
              "        async function convertToInteractive(key) {\n",
              "          const element = document.querySelector('#df-30877a6c-d76a-4e93-83ad-0668779e2030');\n",
              "          const dataTable =\n",
              "            await google.colab.kernel.invokeFunction('convertToInteractive',\n",
              "                                                     [key], {});\n",
              "          if (!dataTable) return;\n",
              "\n",
              "          const docLinkHtml = 'Like what you see? Visit the ' +\n",
              "            '<a target=\"_blank\" href=https://colab.research.google.com/notebooks/data_table.ipynb>data table notebook</a>'\n",
              "            + ' to learn more about interactive tables.';\n",
              "          element.innerHTML = '';\n",
              "          dataTable['output_type'] = 'display_data';\n",
              "          await google.colab.output.renderOutput(dataTable, element);\n",
              "          const docLink = document.createElement('div');\n",
              "          docLink.innerHTML = docLinkHtml;\n",
              "          element.appendChild(docLink);\n",
              "        }\n",
              "      </script>\n",
              "    </div>\n",
              "  </div>\n",
              "  "
            ]
          },
          "metadata": {},
          "execution_count": 66
        }
      ]
    },
    {
      "cell_type": "code",
      "source": [
        "df.reset_index(drop = True)"
      ],
      "metadata": {
        "colab": {
          "base_uri": "https://localhost:8080/",
          "height": 487
        },
        "id": "VI4r2Z9t2WwY",
        "outputId": "16aec64e-2e64-4c90-9408-8be3f136c627"
      },
      "execution_count": null,
      "outputs": [
        {
          "output_type": "execute_result",
          "data": {
            "text/plain": [
              "     GREScore  TOEFLScore  CGPA  ChanceofAdmit  UniversityRating_2  \\\n",
              "0         337         118  9.65           0.92                   0   \n",
              "1         324         107  8.87           0.76                   0   \n",
              "2         316         104  8.00           0.72                   0   \n",
              "3         322         110  8.67           0.80                   0   \n",
              "4         314         103  8.21           0.65                   1   \n",
              "..        ...         ...   ...            ...                 ...   \n",
              "395       324         110  9.04           0.82                   0   \n",
              "396       325         107  9.11           0.84                   0   \n",
              "397       330         116  9.45           0.91                   0   \n",
              "398       312         103  8.78           0.67                   0   \n",
              "399       333         117  9.66           0.95                   0   \n",
              "\n",
              "     UniversityRating_3  UniversityRating_4  UniversityRating_5  SOP_1.5  \\\n",
              "0                     0                   1                   0        0   \n",
              "1                     0                   1                   0        0   \n",
              "2                     1                   0                   0        0   \n",
              "3                     1                   0                   0        0   \n",
              "4                     0                   0                   0        0   \n",
              "..                  ...                 ...                 ...      ...   \n",
              "395                   1                   0                   0        0   \n",
              "396                   1                   0                   0        0   \n",
              "397                   0                   1                   0        0   \n",
              "398                   1                   0                   0        0   \n",
              "399                   0                   1                   0        0   \n",
              "\n",
              "     SOP_2.0  ...  SOP_5.0  LOR_1.5  LOR_2.0  LOR_2.5  LOR_3.0  LOR_3.5  \\\n",
              "0          0  ...        0        0        0        0        0        0   \n",
              "1          0  ...        0        0        0        0        0        0   \n",
              "2          0  ...        0        0        0        0        0        1   \n",
              "3          0  ...        0        0        0        1        0        0   \n",
              "4          1  ...        0        0        0        0        1        0   \n",
              "..       ...  ...      ...      ...      ...      ...      ...      ...   \n",
              "395        0  ...        0        0        0        0        0        1   \n",
              "396        0  ...        0        0        0        0        0        1   \n",
              "397        0  ...        1        0        0        0        0        0   \n",
              "398        0  ...        0        0        0        0        0        0   \n",
              "399        0  ...        1        0        0        0        0        0   \n",
              "\n",
              "     LOR_4.0  LOR_4.5  LOR_5.0  Research_1  \n",
              "0          0        1        0           1  \n",
              "1          0        1        0           1  \n",
              "2          0        0        0           1  \n",
              "3          0        0        0           1  \n",
              "4          0        0        0           0  \n",
              "..       ...      ...      ...         ...  \n",
              "395        0        0        0           1  \n",
              "396        0        0        0           1  \n",
              "397        0        1        0           1  \n",
              "398        1        0        0           0  \n",
              "399        1        0        0           1  \n",
              "\n",
              "[400 rows x 25 columns]"
            ],
            "text/html": [
              "\n",
              "  <div id=\"df-6454af5a-dc55-4e4e-b102-72b98da8ad02\">\n",
              "    <div class=\"colab-df-container\">\n",
              "      <div>\n",
              "<style scoped>\n",
              "    .dataframe tbody tr th:only-of-type {\n",
              "        vertical-align: middle;\n",
              "    }\n",
              "\n",
              "    .dataframe tbody tr th {\n",
              "        vertical-align: top;\n",
              "    }\n",
              "\n",
              "    .dataframe thead th {\n",
              "        text-align: right;\n",
              "    }\n",
              "</style>\n",
              "<table border=\"1\" class=\"dataframe\">\n",
              "  <thead>\n",
              "    <tr style=\"text-align: right;\">\n",
              "      <th></th>\n",
              "      <th>GREScore</th>\n",
              "      <th>TOEFLScore</th>\n",
              "      <th>CGPA</th>\n",
              "      <th>ChanceofAdmit</th>\n",
              "      <th>UniversityRating_2</th>\n",
              "      <th>UniversityRating_3</th>\n",
              "      <th>UniversityRating_4</th>\n",
              "      <th>UniversityRating_5</th>\n",
              "      <th>SOP_1.5</th>\n",
              "      <th>SOP_2.0</th>\n",
              "      <th>...</th>\n",
              "      <th>SOP_5.0</th>\n",
              "      <th>LOR_1.5</th>\n",
              "      <th>LOR_2.0</th>\n",
              "      <th>LOR_2.5</th>\n",
              "      <th>LOR_3.0</th>\n",
              "      <th>LOR_3.5</th>\n",
              "      <th>LOR_4.0</th>\n",
              "      <th>LOR_4.5</th>\n",
              "      <th>LOR_5.0</th>\n",
              "      <th>Research_1</th>\n",
              "    </tr>\n",
              "  </thead>\n",
              "  <tbody>\n",
              "    <tr>\n",
              "      <th>0</th>\n",
              "      <td>337</td>\n",
              "      <td>118</td>\n",
              "      <td>9.65</td>\n",
              "      <td>0.92</td>\n",
              "      <td>0</td>\n",
              "      <td>0</td>\n",
              "      <td>1</td>\n",
              "      <td>0</td>\n",
              "      <td>0</td>\n",
              "      <td>0</td>\n",
              "      <td>...</td>\n",
              "      <td>0</td>\n",
              "      <td>0</td>\n",
              "      <td>0</td>\n",
              "      <td>0</td>\n",
              "      <td>0</td>\n",
              "      <td>0</td>\n",
              "      <td>0</td>\n",
              "      <td>1</td>\n",
              "      <td>0</td>\n",
              "      <td>1</td>\n",
              "    </tr>\n",
              "    <tr>\n",
              "      <th>1</th>\n",
              "      <td>324</td>\n",
              "      <td>107</td>\n",
              "      <td>8.87</td>\n",
              "      <td>0.76</td>\n",
              "      <td>0</td>\n",
              "      <td>0</td>\n",
              "      <td>1</td>\n",
              "      <td>0</td>\n",
              "      <td>0</td>\n",
              "      <td>0</td>\n",
              "      <td>...</td>\n",
              "      <td>0</td>\n",
              "      <td>0</td>\n",
              "      <td>0</td>\n",
              "      <td>0</td>\n",
              "      <td>0</td>\n",
              "      <td>0</td>\n",
              "      <td>0</td>\n",
              "      <td>1</td>\n",
              "      <td>0</td>\n",
              "      <td>1</td>\n",
              "    </tr>\n",
              "    <tr>\n",
              "      <th>2</th>\n",
              "      <td>316</td>\n",
              "      <td>104</td>\n",
              "      <td>8.00</td>\n",
              "      <td>0.72</td>\n",
              "      <td>0</td>\n",
              "      <td>1</td>\n",
              "      <td>0</td>\n",
              "      <td>0</td>\n",
              "      <td>0</td>\n",
              "      <td>0</td>\n",
              "      <td>...</td>\n",
              "      <td>0</td>\n",
              "      <td>0</td>\n",
              "      <td>0</td>\n",
              "      <td>0</td>\n",
              "      <td>0</td>\n",
              "      <td>1</td>\n",
              "      <td>0</td>\n",
              "      <td>0</td>\n",
              "      <td>0</td>\n",
              "      <td>1</td>\n",
              "    </tr>\n",
              "    <tr>\n",
              "      <th>3</th>\n",
              "      <td>322</td>\n",
              "      <td>110</td>\n",
              "      <td>8.67</td>\n",
              "      <td>0.80</td>\n",
              "      <td>0</td>\n",
              "      <td>1</td>\n",
              "      <td>0</td>\n",
              "      <td>0</td>\n",
              "      <td>0</td>\n",
              "      <td>0</td>\n",
              "      <td>...</td>\n",
              "      <td>0</td>\n",
              "      <td>0</td>\n",
              "      <td>0</td>\n",
              "      <td>1</td>\n",
              "      <td>0</td>\n",
              "      <td>0</td>\n",
              "      <td>0</td>\n",
              "      <td>0</td>\n",
              "      <td>0</td>\n",
              "      <td>1</td>\n",
              "    </tr>\n",
              "    <tr>\n",
              "      <th>4</th>\n",
              "      <td>314</td>\n",
              "      <td>103</td>\n",
              "      <td>8.21</td>\n",
              "      <td>0.65</td>\n",
              "      <td>1</td>\n",
              "      <td>0</td>\n",
              "      <td>0</td>\n",
              "      <td>0</td>\n",
              "      <td>0</td>\n",
              "      <td>1</td>\n",
              "      <td>...</td>\n",
              "      <td>0</td>\n",
              "      <td>0</td>\n",
              "      <td>0</td>\n",
              "      <td>0</td>\n",
              "      <td>1</td>\n",
              "      <td>0</td>\n",
              "      <td>0</td>\n",
              "      <td>0</td>\n",
              "      <td>0</td>\n",
              "      <td>0</td>\n",
              "    </tr>\n",
              "    <tr>\n",
              "      <th>...</th>\n",
              "      <td>...</td>\n",
              "      <td>...</td>\n",
              "      <td>...</td>\n",
              "      <td>...</td>\n",
              "      <td>...</td>\n",
              "      <td>...</td>\n",
              "      <td>...</td>\n",
              "      <td>...</td>\n",
              "      <td>...</td>\n",
              "      <td>...</td>\n",
              "      <td>...</td>\n",
              "      <td>...</td>\n",
              "      <td>...</td>\n",
              "      <td>...</td>\n",
              "      <td>...</td>\n",
              "      <td>...</td>\n",
              "      <td>...</td>\n",
              "      <td>...</td>\n",
              "      <td>...</td>\n",
              "      <td>...</td>\n",
              "      <td>...</td>\n",
              "    </tr>\n",
              "    <tr>\n",
              "      <th>395</th>\n",
              "      <td>324</td>\n",
              "      <td>110</td>\n",
              "      <td>9.04</td>\n",
              "      <td>0.82</td>\n",
              "      <td>0</td>\n",
              "      <td>1</td>\n",
              "      <td>0</td>\n",
              "      <td>0</td>\n",
              "      <td>0</td>\n",
              "      <td>0</td>\n",
              "      <td>...</td>\n",
              "      <td>0</td>\n",
              "      <td>0</td>\n",
              "      <td>0</td>\n",
              "      <td>0</td>\n",
              "      <td>0</td>\n",
              "      <td>1</td>\n",
              "      <td>0</td>\n",
              "      <td>0</td>\n",
              "      <td>0</td>\n",
              "      <td>1</td>\n",
              "    </tr>\n",
              "    <tr>\n",
              "      <th>396</th>\n",
              "      <td>325</td>\n",
              "      <td>107</td>\n",
              "      <td>9.11</td>\n",
              "      <td>0.84</td>\n",
              "      <td>0</td>\n",
              "      <td>1</td>\n",
              "      <td>0</td>\n",
              "      <td>0</td>\n",
              "      <td>0</td>\n",
              "      <td>0</td>\n",
              "      <td>...</td>\n",
              "      <td>0</td>\n",
              "      <td>0</td>\n",
              "      <td>0</td>\n",
              "      <td>0</td>\n",
              "      <td>0</td>\n",
              "      <td>1</td>\n",
              "      <td>0</td>\n",
              "      <td>0</td>\n",
              "      <td>0</td>\n",
              "      <td>1</td>\n",
              "    </tr>\n",
              "    <tr>\n",
              "      <th>397</th>\n",
              "      <td>330</td>\n",
              "      <td>116</td>\n",
              "      <td>9.45</td>\n",
              "      <td>0.91</td>\n",
              "      <td>0</td>\n",
              "      <td>0</td>\n",
              "      <td>1</td>\n",
              "      <td>0</td>\n",
              "      <td>0</td>\n",
              "      <td>0</td>\n",
              "      <td>...</td>\n",
              "      <td>1</td>\n",
              "      <td>0</td>\n",
              "      <td>0</td>\n",
              "      <td>0</td>\n",
              "      <td>0</td>\n",
              "      <td>0</td>\n",
              "      <td>0</td>\n",
              "      <td>1</td>\n",
              "      <td>0</td>\n",
              "      <td>1</td>\n",
              "    </tr>\n",
              "    <tr>\n",
              "      <th>398</th>\n",
              "      <td>312</td>\n",
              "      <td>103</td>\n",
              "      <td>8.78</td>\n",
              "      <td>0.67</td>\n",
              "      <td>0</td>\n",
              "      <td>1</td>\n",
              "      <td>0</td>\n",
              "      <td>0</td>\n",
              "      <td>0</td>\n",
              "      <td>0</td>\n",
              "      <td>...</td>\n",
              "      <td>0</td>\n",
              "      <td>0</td>\n",
              "      <td>0</td>\n",
              "      <td>0</td>\n",
              "      <td>0</td>\n",
              "      <td>0</td>\n",
              "      <td>1</td>\n",
              "      <td>0</td>\n",
              "      <td>0</td>\n",
              "      <td>0</td>\n",
              "    </tr>\n",
              "    <tr>\n",
              "      <th>399</th>\n",
              "      <td>333</td>\n",
              "      <td>117</td>\n",
              "      <td>9.66</td>\n",
              "      <td>0.95</td>\n",
              "      <td>0</td>\n",
              "      <td>0</td>\n",
              "      <td>1</td>\n",
              "      <td>0</td>\n",
              "      <td>0</td>\n",
              "      <td>0</td>\n",
              "      <td>...</td>\n",
              "      <td>1</td>\n",
              "      <td>0</td>\n",
              "      <td>0</td>\n",
              "      <td>0</td>\n",
              "      <td>0</td>\n",
              "      <td>0</td>\n",
              "      <td>1</td>\n",
              "      <td>0</td>\n",
              "      <td>0</td>\n",
              "      <td>1</td>\n",
              "    </tr>\n",
              "  </tbody>\n",
              "</table>\n",
              "<p>400 rows × 25 columns</p>\n",
              "</div>\n",
              "      <button class=\"colab-df-convert\" onclick=\"convertToInteractive('df-6454af5a-dc55-4e4e-b102-72b98da8ad02')\"\n",
              "              title=\"Convert this dataframe to an interactive table.\"\n",
              "              style=\"display:none;\">\n",
              "        \n",
              "  <svg xmlns=\"http://www.w3.org/2000/svg\" height=\"24px\"viewBox=\"0 0 24 24\"\n",
              "       width=\"24px\">\n",
              "    <path d=\"M0 0h24v24H0V0z\" fill=\"none\"/>\n",
              "    <path d=\"M18.56 5.44l.94 2.06.94-2.06 2.06-.94-2.06-.94-.94-2.06-.94 2.06-2.06.94zm-11 1L8.5 8.5l.94-2.06 2.06-.94-2.06-.94L8.5 2.5l-.94 2.06-2.06.94zm10 10l.94 2.06.94-2.06 2.06-.94-2.06-.94-.94-2.06-.94 2.06-2.06.94z\"/><path d=\"M17.41 7.96l-1.37-1.37c-.4-.4-.92-.59-1.43-.59-.52 0-1.04.2-1.43.59L10.3 9.45l-7.72 7.72c-.78.78-.78 2.05 0 2.83L4 21.41c.39.39.9.59 1.41.59.51 0 1.02-.2 1.41-.59l7.78-7.78 2.81-2.81c.8-.78.8-2.07 0-2.86zM5.41 20L4 18.59l7.72-7.72 1.47 1.35L5.41 20z\"/>\n",
              "  </svg>\n",
              "      </button>\n",
              "      \n",
              "  <style>\n",
              "    .colab-df-container {\n",
              "      display:flex;\n",
              "      flex-wrap:wrap;\n",
              "      gap: 12px;\n",
              "    }\n",
              "\n",
              "    .colab-df-convert {\n",
              "      background-color: #E8F0FE;\n",
              "      border: none;\n",
              "      border-radius: 50%;\n",
              "      cursor: pointer;\n",
              "      display: none;\n",
              "      fill: #1967D2;\n",
              "      height: 32px;\n",
              "      padding: 0 0 0 0;\n",
              "      width: 32px;\n",
              "    }\n",
              "\n",
              "    .colab-df-convert:hover {\n",
              "      background-color: #E2EBFA;\n",
              "      box-shadow: 0px 1px 2px rgba(60, 64, 67, 0.3), 0px 1px 3px 1px rgba(60, 64, 67, 0.15);\n",
              "      fill: #174EA6;\n",
              "    }\n",
              "\n",
              "    [theme=dark] .colab-df-convert {\n",
              "      background-color: #3B4455;\n",
              "      fill: #D2E3FC;\n",
              "    }\n",
              "\n",
              "    [theme=dark] .colab-df-convert:hover {\n",
              "      background-color: #434B5C;\n",
              "      box-shadow: 0px 1px 3px 1px rgba(0, 0, 0, 0.15);\n",
              "      filter: drop-shadow(0px 1px 2px rgba(0, 0, 0, 0.3));\n",
              "      fill: #FFFFFF;\n",
              "    }\n",
              "  </style>\n",
              "\n",
              "      <script>\n",
              "        const buttonEl =\n",
              "          document.querySelector('#df-6454af5a-dc55-4e4e-b102-72b98da8ad02 button.colab-df-convert');\n",
              "        buttonEl.style.display =\n",
              "          google.colab.kernel.accessAllowed ? 'block' : 'none';\n",
              "\n",
              "        async function convertToInteractive(key) {\n",
              "          const element = document.querySelector('#df-6454af5a-dc55-4e4e-b102-72b98da8ad02');\n",
              "          const dataTable =\n",
              "            await google.colab.kernel.invokeFunction('convertToInteractive',\n",
              "                                                     [key], {});\n",
              "          if (!dataTable) return;\n",
              "\n",
              "          const docLinkHtml = 'Like what you see? Visit the ' +\n",
              "            '<a target=\"_blank\" href=https://colab.research.google.com/notebooks/data_table.ipynb>data table notebook</a>'\n",
              "            + ' to learn more about interactive tables.';\n",
              "          element.innerHTML = '';\n",
              "          dataTable['output_type'] = 'display_data';\n",
              "          await google.colab.output.renderOutput(dataTable, element);\n",
              "          const docLink = document.createElement('div');\n",
              "          docLink.innerHTML = docLinkHtml;\n",
              "          element.appendChild(docLink);\n",
              "        }\n",
              "      </script>\n",
              "    </div>\n",
              "  </div>\n",
              "  "
            ]
          },
          "metadata": {},
          "execution_count": 67
        }
      ]
    },
    {
      "cell_type": "markdown",
      "source": [
        "Module 1"
      ],
      "metadata": {
        "id": "2-5yXVnn745O"
      }
    },
    {
      "cell_type": "code",
      "source": [
        "#Model 1\n",
        "# In our first model we use all the features available in our dataset\n",
        "import statsmodels.api as sm\n",
        "X = df.drop(columns=['ChanceofAdmit'])\n",
        "Y = df['ChanceofAdmit']\n",
        "\n",
        "from sklearn.model_selection import train_test_split\n",
        "x_train,x_test,y_train,y_test = train_test_split(X,Y,test_size = 0.1,random_state=1)\n",
        "x_train = sm.add_constant(x_train)\n",
        "x_test = sm.add_constant(x_test)\n",
        "\n",
        "X= x_train\n",
        "Y= y_train"
      ],
      "metadata": {
        "colab": {
          "base_uri": "https://localhost:8080/"
        },
        "id": "7opN3FSF2hDd",
        "outputId": "f35d1b8b-68cc-4e6f-bcfe-e5b09a2fff7d"
      },
      "execution_count": null,
      "outputs": [
        {
          "output_type": "stream",
          "name": "stderr",
          "text": [
            "/usr/local/lib/python3.7/dist-packages/statsmodels/tsa/tsatools.py:142: FutureWarning: In a future version of pandas all arguments of concat except for the argument 'objs' will be keyword-only\n",
            "  x = pd.concat(x[::order], 1)\n"
          ]
        }
      ]
    },
    {
      "cell_type": "code",
      "source": [
        "import statsmodels.api as sm\n",
        "X_sm = sm.add_constant(X)\n",
        "sm_model = sm.OLS(Y,X_sm).fit()"
      ],
      "metadata": {
        "id": "0D7BzbDg2nnM"
      },
      "execution_count": null,
      "outputs": []
    },
    {
      "cell_type": "code",
      "source": [
        "print(sm_model.summary())"
      ],
      "metadata": {
        "colab": {
          "base_uri": "https://localhost:8080/"
        },
        "id": "CNALXW2e2u1K",
        "outputId": "3e0e9b63-1608-414c-feec-5df04836d577"
      },
      "execution_count": null,
      "outputs": [
        {
          "output_type": "stream",
          "name": "stdout",
          "text": [
            "                            OLS Regression Results                            \n",
            "==============================================================================\n",
            "Dep. Variable:          ChanceofAdmit   R-squared:                       0.802\n",
            "Model:                            OLS   Adj. R-squared:                  0.788\n",
            "Method:                 Least Squares   F-statistic:                     56.68\n",
            "Date:                Tue, 15 Nov 2022   Prob (F-statistic):          1.08e-102\n",
            "Time:                        10:57:22   Log-Likelihood:                 487.69\n",
            "No. Observations:                 360   AIC:                            -925.4\n",
            "Df Residuals:                     335   BIC:                            -828.2\n",
            "Df Model:                          24                                         \n",
            "Covariance Type:            nonrobust                                         \n",
            "======================================================================================\n",
            "                         coef    std err          t      P>|t|      [0.025      0.975]\n",
            "--------------------------------------------------------------------------------------\n",
            "const                 -1.1285      0.152     -7.444      0.000      -1.427      -0.830\n",
            "GREScore               0.0014      0.001      2.108      0.036    9.08e-05       0.003\n",
            "TOEFLScore             0.0032      0.001      2.725      0.007       0.001       0.006\n",
            "CGPA                   0.1147      0.014      8.432      0.000       0.088       0.141\n",
            "UniversityRating_2    -0.0329      0.018     -1.796      0.073      -0.069       0.003\n",
            "UniversityRating_3    -0.0176      0.020     -0.884      0.377      -0.057       0.022\n",
            "UniversityRating_4    -0.0190      0.023     -0.835      0.404      -0.064       0.026\n",
            "UniversityRating_5    -0.0010      0.025     -0.039      0.969      -0.050       0.048\n",
            "SOP_1.5               -0.0160      0.034     -0.470      0.639      -0.083       0.051\n",
            "SOP_2.0                0.0100      0.033      0.305      0.760      -0.055       0.075\n",
            "SOP_2.5                0.0281      0.034      0.832      0.406      -0.038       0.095\n",
            "SOP_3.0                0.0188      0.034      0.549      0.583      -0.048       0.086\n",
            "SOP_3.5               -0.0015      0.035     -0.043      0.966      -0.070       0.067\n",
            "SOP_4.0                0.0035      0.035      0.099      0.921      -0.066       0.073\n",
            "SOP_4.5                0.0095      0.036      0.262      0.794      -0.062       0.081\n",
            "SOP_5.0                0.0121      0.038      0.321      0.748      -0.062       0.086\n",
            "LOR_1.5                0.0216      0.074      0.291      0.771      -0.124       0.167\n",
            "LOR_2.0                0.0623      0.072      0.867      0.387      -0.079       0.204\n",
            "LOR_2.5                0.0694      0.072      0.964      0.336      -0.072       0.211\n",
            "LOR_3.0                0.0734      0.072      1.014      0.311      -0.069       0.216\n",
            "LOR_3.5                0.0850      0.073      1.171      0.243      -0.058       0.228\n",
            "LOR_4.0                0.1015      0.073      1.394      0.164      -0.042       0.245\n",
            "LOR_4.5                0.1111      0.074      1.509      0.132      -0.034       0.256\n",
            "LOR_5.0                0.1208      0.074      1.632      0.104      -0.025       0.266\n",
            "Research_1             0.0285      0.009      3.267      0.001       0.011       0.046\n",
            "==============================================================================\n",
            "Omnibus:                       73.305   Durbin-Watson:                   2.135\n",
            "Prob(Omnibus):                  0.000   Jarque-Bera (JB):              146.289\n",
            "Skew:                          -1.079   Prob(JB):                     1.71e-32\n",
            "Kurtosis:                       5.258   Cond. No.                     2.14e+04\n",
            "==============================================================================\n",
            "\n",
            "Notes:\n",
            "[1] Standard Errors assume that the covariance matrix of the errors is correctly specified.\n",
            "[2] The condition number is large, 2.14e+04. This might indicate that there are\n",
            "strong multicollinearity or other numerical problems.\n"
          ]
        }
      ]
    },
    {
      "cell_type": "code",
      "source": [],
      "metadata": {
        "id": "ksPhq8k827Bd"
      },
      "execution_count": null,
      "outputs": []
    },
    {
      "cell_type": "code",
      "source": [
        "#Model 2\n",
        "#We remove all the categories whose p value was not significant \n",
        "X = df[['GREScore','TOEFLScore','CGPA','Research_1']]\n",
        "Y = df['ChanceofAdmit']\n",
        "\n",
        "x_train,x_test,y_train,y_test = train_test_split(X,Y,test_size = 0.1,random_state=1)\n",
        "x_train = sm.add_constant(x_train)\n",
        "x_test = sm.add_constant(x_test)\n",
        "\n",
        "X= x_train\n",
        "Y= y_train"
      ],
      "metadata": {
        "colab": {
          "base_uri": "https://localhost:8080/"
        },
        "id": "IVrMZD2521zC",
        "outputId": "fb80932f-f915-4d68-97dd-d200ad3b9258"
      },
      "execution_count": null,
      "outputs": [
        {
          "output_type": "stream",
          "name": "stderr",
          "text": [
            "/usr/local/lib/python3.7/dist-packages/statsmodels/tsa/tsatools.py:142: FutureWarning: In a future version of pandas all arguments of concat except for the argument 'objs' will be keyword-only\n",
            "  x = pd.concat(x[::order], 1)\n"
          ]
        }
      ]
    },
    {
      "cell_type": "code",
      "source": [
        "X_sm = sm.add_constant(X)\n",
        "sm_model = sm.OLS(Y,X_sm).fit()"
      ],
      "metadata": {
        "id": "4i1oMF4P3UjB"
      },
      "execution_count": null,
      "outputs": []
    },
    {
      "cell_type": "code",
      "source": [
        "print(sm_model.summary())"
      ],
      "metadata": {
        "colab": {
          "base_uri": "https://localhost:8080/"
        },
        "id": "tnZ8wR5N3ayc",
        "outputId": "30a82893-ca8e-4d1d-89bd-95a6d8845856"
      },
      "execution_count": null,
      "outputs": [
        {
          "output_type": "stream",
          "name": "stdout",
          "text": [
            "                            OLS Regression Results                            \n",
            "==============================================================================\n",
            "Dep. Variable:          ChanceofAdmit   R-squared:                       0.782\n",
            "Model:                            OLS   Adj. R-squared:                  0.779\n",
            "Method:                 Least Squares   F-statistic:                     318.0\n",
            "Date:                Tue, 15 Nov 2022   Prob (F-statistic):          6.06e-116\n",
            "Time:                        10:57:31   Log-Likelihood:                 469.87\n",
            "No. Observations:                 360   AIC:                            -929.7\n",
            "Df Residuals:                     355   BIC:                            -910.3\n",
            "Df Model:                           4                                         \n",
            "Covariance Type:            nonrobust                                         \n",
            "==============================================================================\n",
            "                 coef    std err          t      P>|t|      [0.025      0.975]\n",
            "------------------------------------------------------------------------------\n",
            "const         -1.2996      0.125    -10.365      0.000      -1.546      -1.053\n",
            "GREScore       0.0013      0.001      2.024      0.044    3.68e-05       0.003\n",
            "TOEFLScore     0.0033      0.001      2.911      0.004       0.001       0.006\n",
            "CGPA           0.1440      0.012     11.981      0.000       0.120       0.168\n",
            "Research_1     0.0293      0.009      3.362      0.001       0.012       0.046\n",
            "==============================================================================\n",
            "Omnibus:                       75.025   Durbin-Watson:                   2.118\n",
            "Prob(Omnibus):                  0.000   Jarque-Bera (JB):              137.983\n",
            "Skew:                          -1.147   Prob(JB):                     1.09e-30\n",
            "Kurtosis:                       4.985   Cond. No.                     1.21e+04\n",
            "==============================================================================\n",
            "\n",
            "Notes:\n",
            "[1] Standard Errors assume that the covariance matrix of the errors is correctly specified.\n",
            "[2] The condition number is large, 1.21e+04. This might indicate that there are\n",
            "strong multicollinearity or other numerical problems.\n"
          ]
        }
      ]
    },
    {
      "cell_type": "code",
      "source": [],
      "metadata": {
        "id": "KYDj_jMl3db2"
      },
      "execution_count": null,
      "outputs": []
    },
    {
      "cell_type": "code",
      "source": [
        "from statsmodels.stats.outliers_influence import variance_inflation_factor\n",
        "vif = pd.DataFrame()\n",
        "X_t = X\n",
        "vif['Features'] = X_t.columns\n",
        "vif['VIF'] = [variance_inflation_factor(X_t.values,i) for i in range(X_t.shape[1])]\n",
        "vif['VIF'] = round(vif['VIF'],2)\n",
        "vif = vif.sort_values(by= 'VIF',ascending=False)\n",
        "vif"
      ],
      "metadata": {
        "colab": {
          "base_uri": "https://localhost:8080/",
          "height": 206
        },
        "id": "f3Ee2QZD3hzh",
        "outputId": "142149cb-0179-47c3-bb8b-98a94ae947cd"
      },
      "execution_count": null,
      "outputs": [
        {
          "output_type": "execute_result",
          "data": {
            "text/plain": [
              "     Features      VIF\n",
              "0       const  1296.75\n",
              "1    GREScore     4.50\n",
              "3        CGPA     4.13\n",
              "2  TOEFLScore     4.00\n",
              "4  Research_1     1.56"
            ],
            "text/html": [
              "\n",
              "  <div id=\"df-5d502f01-c6c6-460a-86d1-a04736cc30f0\">\n",
              "    <div class=\"colab-df-container\">\n",
              "      <div>\n",
              "<style scoped>\n",
              "    .dataframe tbody tr th:only-of-type {\n",
              "        vertical-align: middle;\n",
              "    }\n",
              "\n",
              "    .dataframe tbody tr th {\n",
              "        vertical-align: top;\n",
              "    }\n",
              "\n",
              "    .dataframe thead th {\n",
              "        text-align: right;\n",
              "    }\n",
              "</style>\n",
              "<table border=\"1\" class=\"dataframe\">\n",
              "  <thead>\n",
              "    <tr style=\"text-align: right;\">\n",
              "      <th></th>\n",
              "      <th>Features</th>\n",
              "      <th>VIF</th>\n",
              "    </tr>\n",
              "  </thead>\n",
              "  <tbody>\n",
              "    <tr>\n",
              "      <th>0</th>\n",
              "      <td>const</td>\n",
              "      <td>1296.75</td>\n",
              "    </tr>\n",
              "    <tr>\n",
              "      <th>1</th>\n",
              "      <td>GREScore</td>\n",
              "      <td>4.50</td>\n",
              "    </tr>\n",
              "    <tr>\n",
              "      <th>3</th>\n",
              "      <td>CGPA</td>\n",
              "      <td>4.13</td>\n",
              "    </tr>\n",
              "    <tr>\n",
              "      <th>2</th>\n",
              "      <td>TOEFLScore</td>\n",
              "      <td>4.00</td>\n",
              "    </tr>\n",
              "    <tr>\n",
              "      <th>4</th>\n",
              "      <td>Research_1</td>\n",
              "      <td>1.56</td>\n",
              "    </tr>\n",
              "  </tbody>\n",
              "</table>\n",
              "</div>\n",
              "      <button class=\"colab-df-convert\" onclick=\"convertToInteractive('df-5d502f01-c6c6-460a-86d1-a04736cc30f0')\"\n",
              "              title=\"Convert this dataframe to an interactive table.\"\n",
              "              style=\"display:none;\">\n",
              "        \n",
              "  <svg xmlns=\"http://www.w3.org/2000/svg\" height=\"24px\"viewBox=\"0 0 24 24\"\n",
              "       width=\"24px\">\n",
              "    <path d=\"M0 0h24v24H0V0z\" fill=\"none\"/>\n",
              "    <path d=\"M18.56 5.44l.94 2.06.94-2.06 2.06-.94-2.06-.94-.94-2.06-.94 2.06-2.06.94zm-11 1L8.5 8.5l.94-2.06 2.06-.94-2.06-.94L8.5 2.5l-.94 2.06-2.06.94zm10 10l.94 2.06.94-2.06 2.06-.94-2.06-.94-.94-2.06-.94 2.06-2.06.94z\"/><path d=\"M17.41 7.96l-1.37-1.37c-.4-.4-.92-.59-1.43-.59-.52 0-1.04.2-1.43.59L10.3 9.45l-7.72 7.72c-.78.78-.78 2.05 0 2.83L4 21.41c.39.39.9.59 1.41.59.51 0 1.02-.2 1.41-.59l7.78-7.78 2.81-2.81c.8-.78.8-2.07 0-2.86zM5.41 20L4 18.59l7.72-7.72 1.47 1.35L5.41 20z\"/>\n",
              "  </svg>\n",
              "      </button>\n",
              "      \n",
              "  <style>\n",
              "    .colab-df-container {\n",
              "      display:flex;\n",
              "      flex-wrap:wrap;\n",
              "      gap: 12px;\n",
              "    }\n",
              "\n",
              "    .colab-df-convert {\n",
              "      background-color: #E8F0FE;\n",
              "      border: none;\n",
              "      border-radius: 50%;\n",
              "      cursor: pointer;\n",
              "      display: none;\n",
              "      fill: #1967D2;\n",
              "      height: 32px;\n",
              "      padding: 0 0 0 0;\n",
              "      width: 32px;\n",
              "    }\n",
              "\n",
              "    .colab-df-convert:hover {\n",
              "      background-color: #E2EBFA;\n",
              "      box-shadow: 0px 1px 2px rgba(60, 64, 67, 0.3), 0px 1px 3px 1px rgba(60, 64, 67, 0.15);\n",
              "      fill: #174EA6;\n",
              "    }\n",
              "\n",
              "    [theme=dark] .colab-df-convert {\n",
              "      background-color: #3B4455;\n",
              "      fill: #D2E3FC;\n",
              "    }\n",
              "\n",
              "    [theme=dark] .colab-df-convert:hover {\n",
              "      background-color: #434B5C;\n",
              "      box-shadow: 0px 1px 3px 1px rgba(0, 0, 0, 0.15);\n",
              "      filter: drop-shadow(0px 1px 2px rgba(0, 0, 0, 0.3));\n",
              "      fill: #FFFFFF;\n",
              "    }\n",
              "  </style>\n",
              "\n",
              "      <script>\n",
              "        const buttonEl =\n",
              "          document.querySelector('#df-5d502f01-c6c6-460a-86d1-a04736cc30f0 button.colab-df-convert');\n",
              "        buttonEl.style.display =\n",
              "          google.colab.kernel.accessAllowed ? 'block' : 'none';\n",
              "\n",
              "        async function convertToInteractive(key) {\n",
              "          const element = document.querySelector('#df-5d502f01-c6c6-460a-86d1-a04736cc30f0');\n",
              "          const dataTable =\n",
              "            await google.colab.kernel.invokeFunction('convertToInteractive',\n",
              "                                                     [key], {});\n",
              "          if (!dataTable) return;\n",
              "\n",
              "          const docLinkHtml = 'Like what you see? Visit the ' +\n",
              "            '<a target=\"_blank\" href=https://colab.research.google.com/notebooks/data_table.ipynb>data table notebook</a>'\n",
              "            + ' to learn more about interactive tables.';\n",
              "          element.innerHTML = '';\n",
              "          dataTable['output_type'] = 'display_data';\n",
              "          await google.colab.output.renderOutput(dataTable, element);\n",
              "          const docLink = document.createElement('div');\n",
              "          docLink.innerHTML = docLinkHtml;\n",
              "          element.appendChild(docLink);\n",
              "        }\n",
              "      </script>\n",
              "    </div>\n",
              "  </div>\n",
              "  "
            ]
          },
          "metadata": {},
          "execution_count": 74
        }
      ]
    },
    {
      "cell_type": "code",
      "source": [
        "#Model 3\n",
        "# We delete all the columns whose VIF value is more than 5. However we chose to keep CGPA\n",
        "X = df[['CGPA','Research_1']]\n",
        "Y = df['ChanceofAdmit']\n",
        "\n",
        "x_train,x_test,y_train,y_test = train_test_split(X,Y,test_size = 0.1,random_state=1)\n",
        "x_train = sm.add_constant(x_train)\n",
        "x_test = sm.add_constant(x_test)\n",
        "\n",
        "X= x_train\n",
        "Y= y_train"
      ],
      "metadata": {
        "colab": {
          "base_uri": "https://localhost:8080/"
        },
        "id": "nL5P85xR3h26",
        "outputId": "d74df937-580f-4b41-d1d8-e3a5b954008c"
      },
      "execution_count": null,
      "outputs": [
        {
          "output_type": "stream",
          "name": "stderr",
          "text": [
            "/usr/local/lib/python3.7/dist-packages/statsmodels/tsa/tsatools.py:142: FutureWarning: In a future version of pandas all arguments of concat except for the argument 'objs' will be keyword-only\n",
            "  x = pd.concat(x[::order], 1)\n"
          ]
        }
      ]
    },
    {
      "cell_type": "code",
      "source": [
        "X_sm = sm.add_constant(X)\n",
        "sm_model = sm.OLS(Y,X_sm).fit()"
      ],
      "metadata": {
        "id": "IQkYuhfs31Fx"
      },
      "execution_count": null,
      "outputs": []
    },
    {
      "cell_type": "code",
      "source": [
        "print(sm_model.summary())"
      ],
      "metadata": {
        "colab": {
          "base_uri": "https://localhost:8080/"
        },
        "id": "UbDKmHtr34FI",
        "outputId": "8b781e45-9bf5-4460-a01f-b04da468652c"
      },
      "execution_count": null,
      "outputs": [
        {
          "output_type": "stream",
          "name": "stdout",
          "text": [
            "                            OLS Regression Results                            \n",
            "==============================================================================\n",
            "Dep. Variable:          ChanceofAdmit   R-squared:                       0.768\n",
            "Model:                            OLS   Adj. R-squared:                  0.767\n",
            "Method:                 Least Squares   F-statistic:                     591.3\n",
            "Date:                Tue, 15 Nov 2022   Prob (F-statistic):          5.00e-114\n",
            "Time:                        10:57:42   Log-Likelihood:                 458.91\n",
            "No. Observations:                 360   AIC:                            -911.8\n",
            "Df Residuals:                     357   BIC:                            -900.2\n",
            "Df Model:                           2                                         \n",
            "Covariance Type:            nonrobust                                         \n",
            "==============================================================================\n",
            "                 coef    std err          t      P>|t|      [0.025      0.975]\n",
            "------------------------------------------------------------------------------\n",
            "const         -0.9270      0.060    -15.418      0.000      -1.045      -0.809\n",
            "CGPA           0.1897      0.007     26.132      0.000       0.175       0.204\n",
            "Research_1     0.0378      0.009      4.411      0.000       0.021       0.055\n",
            "==============================================================================\n",
            "Omnibus:                       53.497   Durbin-Watson:                   2.181\n",
            "Prob(Omnibus):                  0.000   Jarque-Bera (JB):               82.257\n",
            "Skew:                          -0.922   Prob(JB):                     1.37e-18\n",
            "Kurtosis:                       4.443   Cond. No.                         147.\n",
            "==============================================================================\n",
            "\n",
            "Notes:\n",
            "[1] Standard Errors assume that the covariance matrix of the errors is correctly specified.\n"
          ]
        }
      ]
    },
    {
      "cell_type": "code",
      "source": [
        "from sklearn.model_selection import train_test_split\n",
        "x_train,x_test,y_train,y_test = train_test_split(X,Y,test_size = 0.1,random_state=1)\n",
        "x_train = sm.add_constant(x_train)\n",
        "x_test = sm.add_constant(x_test)"
      ],
      "metadata": {
        "colab": {
          "base_uri": "https://localhost:8080/"
        },
        "id": "2YS7UbRZ36sX",
        "outputId": "393bb3f1-8837-4bb0-91ec-606bb2bcbd1f"
      },
      "execution_count": null,
      "outputs": [
        {
          "output_type": "stream",
          "name": "stderr",
          "text": [
            "/usr/local/lib/python3.7/dist-packages/statsmodels/tsa/tsatools.py:142: FutureWarning: In a future version of pandas all arguments of concat except for the argument 'objs' will be keyword-only\n",
            "  x = pd.concat(x[::order], 1)\n"
          ]
        }
      ]
    },
    {
      "cell_type": "code",
      "source": [
        "finalmodel = sm.OLS(y_train,x_train).fit()\n",
        "print(finalmodel.summary())"
      ],
      "metadata": {
        "colab": {
          "base_uri": "https://localhost:8080/"
        },
        "id": "ysPjTYhO4Juc",
        "outputId": "2c1c7b54-3804-4f70-e280-e2f3cdf4b0a4"
      },
      "execution_count": null,
      "outputs": [
        {
          "output_type": "stream",
          "name": "stdout",
          "text": [
            "                            OLS Regression Results                            \n",
            "==============================================================================\n",
            "Dep. Variable:          ChanceofAdmit   R-squared:                       0.758\n",
            "Model:                            OLS   Adj. R-squared:                  0.756\n",
            "Method:                 Least Squares   F-statistic:                     502.4\n",
            "Date:                Tue, 15 Nov 2022   Prob (F-statistic):           1.36e-99\n",
            "Time:                        10:57:47   Log-Likelihood:                 405.88\n",
            "No. Observations:                 324   AIC:                            -805.8\n",
            "Df Residuals:                     321   BIC:                            -794.4\n",
            "Df Model:                           2                                         \n",
            "Covariance Type:            nonrobust                                         \n",
            "==============================================================================\n",
            "                 coef    std err          t      P>|t|      [0.025      0.975]\n",
            "------------------------------------------------------------------------------\n",
            "const         -0.9457      0.065    -14.579      0.000      -1.073      -0.818\n",
            "CGPA           0.1919      0.008     24.560      0.000       0.177       0.207\n",
            "Research_1     0.0367      0.009      4.031      0.000       0.019       0.055\n",
            "==============================================================================\n",
            "Omnibus:                       46.103   Durbin-Watson:                   2.236\n",
            "Prob(Omnibus):                  0.000   Jarque-Bera (JB):               68.506\n",
            "Skew:                          -0.894   Prob(JB):                     1.33e-15\n",
            "Kurtosis:                       4.371   Cond. No.                         147.\n",
            "==============================================================================\n",
            "\n",
            "Notes:\n",
            "[1] Standard Errors assume that the covariance matrix of the errors is correctly specified.\n"
          ]
        }
      ]
    },
    {
      "cell_type": "code",
      "source": [
        "print(finalmodel.params)"
      ],
      "metadata": {
        "colab": {
          "base_uri": "https://localhost:8080/"
        },
        "id": "VRfn8K624MrF",
        "outputId": "29f74cc8-c31a-4c7e-8b88-921e9aec0bf9"
      },
      "execution_count": null,
      "outputs": [
        {
          "output_type": "stream",
          "name": "stdout",
          "text": [
            "const        -0.945732\n",
            "CGPA          0.191942\n",
            "Research_1    0.036734\n",
            "dtype: float64\n"
          ]
        }
      ]
    },
    {
      "cell_type": "code",
      "source": [
        "predictions = finalmodel.predict(x_test)"
      ],
      "metadata": {
        "id": "yYGKMtNt4QIH"
      },
      "execution_count": null,
      "outputs": []
    },
    {
      "cell_type": "code",
      "source": [
        "from sklearn.metrics import mean_absolute_error, mean_squared_error,mean_absolute_percentage_error\n",
        "print(f'The Mean Absolute Error is : {mean_absolute_error(y_test,predictions)}')\n",
        "print(f'The Mean Squared Error is : {mean_squared_error(y_test,predictions)}')\n",
        "print(f'The Root Mean Squared Error is : {np.sqrt(mean_squared_error(y_test,predictions))}')\n",
        "print(f'The Mean Absolute Percentage Error is : {mean_absolute_percentage_error(y_test,predictions)*100}%')"
      ],
      "metadata": {
        "colab": {
          "base_uri": "https://localhost:8080/"
        },
        "id": "JWftB5ER4pvf",
        "outputId": "49cfab3e-bebe-45a9-a524-09fa23b1e3ac"
      },
      "execution_count": null,
      "outputs": [
        {
          "output_type": "stream",
          "name": "stdout",
          "text": [
            "The Mean Absolute Error is : 0.041722027075290526\n",
            "The Mean Squared Error is : 0.0027330774447946096\n",
            "The Root Mean Squared Error is : 0.052278843185313596\n",
            "The Mean Absolute Percentage Error is : 6.275773820420485%\n"
          ]
        }
      ]
    },
    {
      "cell_type": "code",
      "source": [
        "errors = y_test - predictions\n",
        "abs(errors.mean())"
      ],
      "metadata": {
        "colab": {
          "base_uri": "https://localhost:8080/"
        },
        "id": "9elrbdrA4tFj",
        "outputId": "d26ac07b-311a-4250-cfd1-7177e54bb3fb"
      },
      "execution_count": null,
      "outputs": [
        {
          "output_type": "execute_result",
          "data": {
            "text/plain": [
              "0.0019005418598428984"
            ]
          },
          "metadata": {},
          "execution_count": 83
        }
      ]
    },
    {
      "cell_type": "code",
      "source": [
        "fig = plt.figure(figsize=(6,4)) #Setting the figure size\n",
        "ax = fig.add_subplot(111)\n",
        "sns.histplot(errors,kde=True,color='darkgreen',ax=ax) #Histogram with kde plot\n",
        "sns.set(style='white')\n",
        "fig.set_facecolor(\"lightgray\") #Beautifying\n",
        "plt.grid() #Plotting the grid\n",
        "plt.show()"
      ],
      "metadata": {
        "colab": {
          "base_uri": "https://localhost:8080/",
          "height": 268
        },
        "id": "LIh0Dui741g8",
        "outputId": "65a1fdbf-a9f6-4ffd-966c-edf9fd59c9c8"
      },
      "execution_count": null,
      "outputs": [
        {
          "output_type": "display_data",
          "data": {
            "text/plain": [
              "<Figure size 432x288 with 1 Axes>"
            ],
            "image/png": "[encoded data removed]"
          },
          "metadata": {}
        }
      ]
    },
    {
      "cell_type": "code",
      "source": [
        "import statsmodels.api as sm\n",
        "sm.qqplot(errors, line = 's',color='darkgreen')\n",
        "plt.show()"
      ],
      "metadata": {
        "colab": {
          "base_uri": "https://localhost:8080/",
          "height": 285
        },
        "id": "qv8v7tOU46A3",
        "outputId": "3d63e7aa-b28b-4911-a4b6-db2e7e557f72"
      },
      "execution_count": null,
      "outputs": [
        {
          "output_type": "display_data",
          "data": {
            "text/plain": [
              "<Figure size 432x288 with 1 Axes>"
            ],
            "image/png": "[encoded data removed]"
          },
          "metadata": {}
        }
      ]
    },
    {
      "cell_type": "code",
      "source": [
        "fig = plt.figure(figsize=(6,5))\n",
        "sns.scatterplot(predictions,y_test)\n",
        "plt.grid()\n",
        "plt.xlabel('Actual values', fontsize=18)                        \n",
        "plt.ylabel('Predicted values', fontsize=16)  \n",
        "plt.title('Actual values Vs Predicted values', fontsize=16)"
      ],
      "metadata": {
        "colab": {
          "base_uri": "https://localhost:8080/",
          "height": 380
        },
        "id": "LNtKTQV25MIe",
        "outputId": "e87cf935-9e3e-4b6d-a040-461c345b2cfc"
      },
      "execution_count": null,
      "outputs": [
        {
          "output_type": "execute_result",
          "data": {
            "text/plain": [
              "Text(0.5, 1.0, 'Actual values Vs Predicted values')"
            ]
          },
          "metadata": {},
          "execution_count": 87
        },
        {
          "output_type": "display_data",
          "data": {
            "text/plain": [
              "<Figure size 432x360 with 1 Axes>"
            ],
            "image/png": "[encoded data removed]"
          },
          "metadata": {}
        }
      ]
    },
    {
      "cell_type": "code",
      "source": [
        "from statsmodels.compat import lzip\n",
        "import statsmodels.stats.api as sms\n",
        "\n",
        "names = ['Lagrange multiplier statistic', 'p-value',\n",
        "        'f-value', 'f p-value']\n",
        "test = sms.het_breuschpagan(finalmodel.resid, finalmodel.model.exog)\n",
        "\n",
        "lzip(names, test)"
      ],
      "metadata": {
        "colab": {
          "base_uri": "https://localhost:8080/"
        },
        "id": "DTAMWblg5a4n",
        "outputId": "70436612-b3d3-4a73-8f5a-8c82bff2baa1"
      },
      "execution_count": null,
      "outputs": [
        {
          "output_type": "execute_result",
          "data": {
            "text/plain": [
              "[('Lagrange multiplier statistic', 21.706450572528187),\n",
              " ('p-value', 1.93421232941424e-05),\n",
              " ('f-value', 11.52484174236952),\n",
              " ('f p-value', 1.4667668853079756e-05)]"
            ]
          },
          "metadata": {},
          "execution_count": 88
        }
      ]
    },
    {
      "cell_type": "code",
      "source": [],
      "metadata": {
        "id": "ah-HCTMb5f0V"
      },
      "execution_count": null,
      "outputs": []
    },
    {
      "cell_type": "code",
      "source": [],
      "metadata": {
        "id": "OrDEYLXP8L1I"
      },
      "execution_count": null,
      "outputs": []
    },
    {
      "cell_type": "code",
      "source": [],
      "metadata": {
        "id": "kd6TuD5s8L4I"
      },
      "execution_count": null,
      "outputs": []
    },
    {
      "cell_type": "code",
      "source": [],
      "metadata": {
        "id": "AahqHd9K8L7y"
      },
      "execution_count": null,
      "outputs": []
    },
    {
      "cell_type": "markdown",
      "source": [
        "### Decision Tree"
      ],
      "metadata": {
        "id": "JPVpNf_WA5pN"
      }
    },
    {
      "cell_type": "code",
      "source": [
        "# for importing tree\n",
        "from sklearn import tree"
      ],
      "metadata": {
        "id": "gyRWTDOGA74A"
      },
      "execution_count": 95,
      "outputs": []
    },
    {
      "cell_type": "code",
      "source": [
        "df2 = data1.drop('Serial No.',axis=1)\n",
        "df2"
      ],
      "metadata": {
        "colab": {
          "base_uri": "https://localhost:8080/",
          "height": 423
        },
        "id": "pAu4SpToBFtu",
        "outputId": "ceed2db6-0f6b-459b-c42c-8f0e2073262b"
      },
      "execution_count": 99,
      "outputs": [
        {
          "output_type": "execute_result",
          "data": {
            "text/plain": [
              "     GREScore  TOEFLScore  UniversityRating  SOP  LOR  CGPA  Research  \\\n",
              "0         337         118                 4  4.5  4.5  9.65         1   \n",
              "1         324         107                 4  4.0  4.5  8.87         1   \n",
              "2         316         104                 3  3.0  3.5  8.00         1   \n",
              "3         322         110                 3  3.5  2.5  8.67         1   \n",
              "4         314         103                 2  2.0  3.0  8.21         0   \n",
              "..        ...         ...               ...  ...  ...   ...       ...   \n",
              "395       324         110                 3  3.5  3.5  9.04         1   \n",
              "396       325         107                 3  3.0  3.5  9.11         1   \n",
              "397       330         116                 4  5.0  4.5  9.45         1   \n",
              "398       312         103                 3  3.5  4.0  8.78         0   \n",
              "399       333         117                 4  5.0  4.0  9.66         1   \n",
              "\n",
              "     ChanceofAdmit  \n",
              "0             0.92  \n",
              "1             0.76  \n",
              "2             0.72  \n",
              "3             0.80  \n",
              "4             0.65  \n",
              "..             ...  \n",
              "395           0.82  \n",
              "396           0.84  \n",
              "397           0.91  \n",
              "398           0.67  \n",
              "399           0.95  \n",
              "\n",
              "[400 rows x 8 columns]"
            ],
            "text/html": [
              "\n",
              "  <div id=\"df-1792220a-010b-40db-bbf8-004f8997bdea\">\n",
              "    <div class=\"colab-df-container\">\n",
              "      <div>\n",
              "<style scoped>\n",
              "    .dataframe tbody tr th:only-of-type {\n",
              "        vertical-align: middle;\n",
              "    }\n",
              "\n",
              "    .dataframe tbody tr th {\n",
              "        vertical-align: top;\n",
              "    }\n",
              "\n",
              "    .dataframe thead th {\n",
              "        text-align: right;\n",
              "    }\n",
              "</style>\n",
              "<table border=\"1\" class=\"dataframe\">\n",
              "  <thead>\n",
              "    <tr style=\"text-align: right;\">\n",
              "      <th></th>\n",
              "      <th>GREScore</th>\n",
              "      <th>TOEFLScore</th>\n",
              "      <th>UniversityRating</th>\n",
              "      <th>SOP</th>\n",
              "      <th>LOR</th>\n",
              "      <th>CGPA</th>\n",
              "      <th>Research</th>\n",
              "      <th>ChanceofAdmit</th>\n",
              "    </tr>\n",
              "  </thead>\n",
              "  <tbody>\n",
              "    <tr>\n",
              "      <th>0</th>\n",
              "      <td>337</td>\n",
              "      <td>118</td>\n",
              "      <td>4</td>\n",
              "      <td>4.5</td>\n",
              "      <td>4.5</td>\n",
              "      <td>9.65</td>\n",
              "      <td>1</td>\n",
              "      <td>0.92</td>\n",
              "    </tr>\n",
              "    <tr>\n",
              "      <th>1</th>\n",
              "      <td>324</td>\n",
              "      <td>107</td>\n",
              "      <td>4</td>\n",
              "      <td>4.0</td>\n",
              "      <td>4.5</td>\n",
              "      <td>8.87</td>\n",
              "      <td>1</td>\n",
              "      <td>0.76</td>\n",
              "    </tr>\n",
              "    <tr>\n",
              "      <th>2</th>\n",
              "      <td>316</td>\n",
              "      <td>104</td>\n",
              "      <td>3</td>\n",
              "      <td>3.0</td>\n",
              "      <td>3.5</td>\n",
              "      <td>8.00</td>\n",
              "      <td>1</td>\n",
              "      <td>0.72</td>\n",
              "    </tr>\n",
              "    <tr>\n",
              "      <th>3</th>\n",
              "      <td>322</td>\n",
              "      <td>110</td>\n",
              "      <td>3</td>\n",
              "      <td>3.5</td>\n",
              "      <td>2.5</td>\n",
              "      <td>8.67</td>\n",
              "      <td>1</td>\n",
              "      <td>0.80</td>\n",
              "    </tr>\n",
              "    <tr>\n",
              "      <th>4</th>\n",
              "      <td>314</td>\n",
              "      <td>103</td>\n",
              "      <td>2</td>\n",
              "      <td>2.0</td>\n",
              "      <td>3.0</td>\n",
              "      <td>8.21</td>\n",
              "      <td>0</td>\n",
              "      <td>0.65</td>\n",
              "    </tr>\n",
              "    <tr>\n",
              "      <th>...</th>\n",
              "      <td>...</td>\n",
              "      <td>...</td>\n",
              "      <td>...</td>\n",
              "      <td>...</td>\n",
              "      <td>...</td>\n",
              "      <td>...</td>\n",
              "      <td>...</td>\n",
              "      <td>...</td>\n",
              "    </tr>\n",
              "    <tr>\n",
              "      <th>395</th>\n",
              "      <td>324</td>\n",
              "      <td>110</td>\n",
              "      <td>3</td>\n",
              "      <td>3.5</td>\n",
              "      <td>3.5</td>\n",
              "      <td>9.04</td>\n",
              "      <td>1</td>\n",
              "      <td>0.82</td>\n",
              "    </tr>\n",
              "    <tr>\n",
              "      <th>396</th>\n",
              "      <td>325</td>\n",
              "      <td>107</td>\n",
              "      <td>3</td>\n",
              "      <td>3.0</td>\n",
              "      <td>3.5</td>\n",
              "      <td>9.11</td>\n",
              "      <td>1</td>\n",
              "      <td>0.84</td>\n",
              "    </tr>\n",
              "    <tr>\n",
              "      <th>397</th>\n",
              "      <td>330</td>\n",
              "      <td>116</td>\n",
              "      <td>4</td>\n",
              "      <td>5.0</td>\n",
              "      <td>4.5</td>\n",
              "      <td>9.45</td>\n",
              "      <td>1</td>\n",
              "      <td>0.91</td>\n",
              "    </tr>\n",
              "    <tr>\n",
              "      <th>398</th>\n",
              "      <td>312</td>\n",
              "      <td>103</td>\n",
              "      <td>3</td>\n",
              "      <td>3.5</td>\n",
              "      <td>4.0</td>\n",
              "      <td>8.78</td>\n",
              "      <td>0</td>\n",
              "      <td>0.67</td>\n",
              "    </tr>\n",
              "    <tr>\n",
              "      <th>399</th>\n",
              "      <td>333</td>\n",
              "      <td>117</td>\n",
              "      <td>4</td>\n",
              "      <td>5.0</td>\n",
              "      <td>4.0</td>\n",
              "      <td>9.66</td>\n",
              "      <td>1</td>\n",
              "      <td>0.95</td>\n",
              "    </tr>\n",
              "  </tbody>\n",
              "</table>\n",
              "<p>400 rows × 8 columns</p>\n",
              "</div>\n",
              "      <button class=\"colab-df-convert\" onclick=\"convertToInteractive('df-1792220a-010b-40db-bbf8-004f8997bdea')\"\n",
              "              title=\"Convert this dataframe to an interactive table.\"\n",
              "              style=\"display:none;\">\n",
              "        \n",
              "  <svg xmlns=\"http://www.w3.org/2000/svg\" height=\"24px\"viewBox=\"0 0 24 24\"\n",
              "       width=\"24px\">\n",
              "    <path d=\"M0 0h24v24H0V0z\" fill=\"none\"/>\n",
              "    <path d=\"M18.56 5.44l.94 2.06.94-2.06 2.06-.94-2.06-.94-.94-2.06-.94 2.06-2.06.94zm-11 1L8.5 8.5l.94-2.06 2.06-.94-2.06-.94L8.5 2.5l-.94 2.06-2.06.94zm10 10l.94 2.06.94-2.06 2.06-.94-2.06-.94-.94-2.06-.94 2.06-2.06.94z\"/><path d=\"M17.41 7.96l-1.37-1.37c-.4-.4-.92-.59-1.43-.59-.52 0-1.04.2-1.43.59L10.3 9.45l-7.72 7.72c-.78.78-.78 2.05 0 2.83L4 21.41c.39.39.9.59 1.41.59.51 0 1.02-.2 1.41-.59l7.78-7.78 2.81-2.81c.8-.78.8-2.07 0-2.86zM5.41 20L4 18.59l7.72-7.72 1.47 1.35L5.41 20z\"/>\n",
              "  </svg>\n",
              "      </button>\n",
              "      \n",
              "  <style>\n",
              "    .colab-df-container {\n",
              "      display:flex;\n",
              "      flex-wrap:wrap;\n",
              "      gap: 12px;\n",
              "    }\n",
              "\n",
              "    .colab-df-convert {\n",
              "      background-color: #E8F0FE;\n",
              "      border: none;\n",
              "      border-radius: 50%;\n",
              "      cursor: pointer;\n",
              "      display: none;\n",
              "      fill: #1967D2;\n",
              "      height: 32px;\n",
              "      padding: 0 0 0 0;\n",
              "      width: 32px;\n",
              "    }\n",
              "\n",
              "    .colab-df-convert:hover {\n",
              "      background-color: #E2EBFA;\n",
              "      box-shadow: 0px 1px 2px rgba(60, 64, 67, 0.3), 0px 1px 3px 1px rgba(60, 64, 67, 0.15);\n",
              "      fill: #174EA6;\n",
              "    }\n",
              "\n",
              "    [theme=dark] .colab-df-convert {\n",
              "      background-color: #3B4455;\n",
              "      fill: #D2E3FC;\n",
              "    }\n",
              "\n",
              "    [theme=dark] .colab-df-convert:hover {\n",
              "      background-color: #434B5C;\n",
              "      box-shadow: 0px 1px 3px 1px rgba(0, 0, 0, 0.15);\n",
              "      filter: drop-shadow(0px 1px 2px rgba(0, 0, 0, 0.3));\n",
              "      fill: #FFFFFF;\n",
              "    }\n",
              "  </style>\n",
              "\n",
              "      <script>\n",
              "        const buttonEl =\n",
              "          document.querySelector('#df-1792220a-010b-40db-bbf8-004f8997bdea button.colab-df-convert');\n",
              "        buttonEl.style.display =\n",
              "          google.colab.kernel.accessAllowed ? 'block' : 'none';\n",
              "\n",
              "        async function convertToInteractive(key) {\n",
              "          const element = document.querySelector('#df-1792220a-010b-40db-bbf8-004f8997bdea');\n",
              "          const dataTable =\n",
              "            await google.colab.kernel.invokeFunction('convertToInteractive',\n",
              "                                                     [key], {});\n",
              "          if (!dataTable) return;\n",
              "\n",
              "          const docLinkHtml = 'Like what you see? Visit the ' +\n",
              "            '<a target=\"_blank\" href=https://colab.research.google.com/notebooks/data_table.ipynb>data table notebook</a>'\n",
              "            + ' to learn more about interactive tables.';\n",
              "          element.innerHTML = '';\n",
              "          dataTable['output_type'] = 'display_data';\n",
              "          await google.colab.output.renderOutput(dataTable, element);\n",
              "          const docLink = document.createElement('div');\n",
              "          docLink.innerHTML = docLinkHtml;\n",
              "          element.appendChild(docLink);\n",
              "        }\n",
              "      </script>\n",
              "    </div>\n",
              "  </div>\n",
              "  "
            ]
          },
          "metadata": {},
          "execution_count": 99
        }
      ]
    },
    {
      "cell_type": "code",
      "source": [
        "from sklearn.preprocessing import StandardScaler\n",
        "from sklearn.model_selection import train_test_split\n",
        "from sklearn.neighbors import KNeighborsRegressor \n",
        "from sklearn.metrics import accuracy_score, f1_score, recall_score, mean_absolute_percentage_error, mean_squared_error, confusion_matrix,precision_score,r2_score \n",
        "import warnings \n",
        "warnings.filterwarnings(\"ignore\")\n",
        "%matplotlib inline\n",
        "from imblearn.over_sampling import SMOTE\n",
        "from imblearn.over_sampling import RandomOverSampler\n",
        "from imblearn.combine import SMOTETomek"
      ],
      "metadata": {
        "id": "k-8ZMLh6BM6L"
      },
      "execution_count": 133,
      "outputs": []
    },
    {
      "cell_type": "code",
      "source": [
        "x = df2.drop('ChanceofAdmit',axis=1)\n",
        "y = df2['ChanceofAdmit']"
      ],
      "metadata": {
        "id": "EA191_cWCKDr"
      },
      "execution_count": 105,
      "outputs": []
    },
    {
      "cell_type": "code",
      "source": [
        "# for test-train split\n",
        "from sklearn.model_selection import train_test_split\n",
        "\n",
        "#Train - Test split\n",
        "x_train,x_test,y_train,y_test = train_test_split(x,y,test_size=0.2,random_state=3)\n",
        "\n",
        "#Train - Validation split\n",
        "x_train,x_valid,y_train,y_valid = train_test_split(x_train,y_train,test_size=0.25)\n"
      ],
      "metadata": {
        "id": "IwKgzWnIB_yk"
      },
      "execution_count": 117,
      "outputs": []
    },
    {
      "cell_type": "code",
      "source": [
        "# for fitting Clasifier tree\n",
        "from sklearn.tree import DecisionTreeRegressor\n",
        "from sklearn.model_selection import cross_validate"
      ],
      "metadata": {
        "id": "tdawm_okCAsY"
      },
      "execution_count": 118,
      "outputs": []
    },
    {
      "cell_type": "code",
      "source": [
        "depth = np.arange(1,20)\n",
        "mae=[]\n",
        "\n",
        "for k in depth:\n",
        "    reg_tree = DecisionTreeRegressor(max_depth=k,min_samples_leaf=5)   \n",
        "    reg_tree.fit(x_train,y_train)\n",
        "    y_pred= reg_tree.predict(x_valid)\n",
        "    mae.append(np.mean(np.abs(y_valid-y_pred)))    "
      ],
      "metadata": {
        "id": "azOQv91WCkvL"
      },
      "execution_count": 119,
      "outputs": []
    },
    {
      "cell_type": "code",
      "source": [
        "plt.plot(depth,np.array(mae))\n",
        "plt.show()"
      ],
      "metadata": {
        "colab": {
          "base_uri": "https://localhost:8080/",
          "height": 268
        },
        "id": "CGB7oaj1Cv7G",
        "outputId": "7c6b3701-04e9-40a0-cb74-6c2e8c840888"
      },
      "execution_count": 120,
      "outputs": [
        {
          "output_type": "display_data",
          "data": {
            "text/plain": [
              "<Figure size 432x288 with 1 Axes>"
            ],
            "image/png": "[encoded data removed]"
          },
          "metadata": {
            "needs_background": "light"
          }
        }
      ]
    },
    {
      "cell_type": "code",
      "source": [
        "depth = 4"
      ],
      "metadata": {
        "id": "0dw0C69IC7IB"
      },
      "execution_count": 121,
      "outputs": []
    },
    {
      "cell_type": "code",
      "source": [
        "# Fit the Deep Tree model of depth 4 on the training data and test it's performance on test data by \n",
        "# calculating the the MAE\n",
        "\n",
        "reg_tree = DecisionTreeRegressor(max_depth=4,min_samples_leaf=5)   \n",
        "reg_tree.fit(x_train,y_train)\n",
        "y_pred= reg_tree.predict(x_valid)\n",
        "np.mean(np.abs(y_valid-y_pred))  #MAE"
      ],
      "metadata": {
        "colab": {
          "base_uri": "https://localhost:8080/"
        },
        "id": "LZNpn-n3GlKp",
        "outputId": "34ae057a-5696-43da-fc4a-fed6737fd3fb"
      },
      "execution_count": 122,
      "outputs": [
        {
          "output_type": "execute_result",
          "data": {
            "text/plain": [
              "0.053653044834534605"
            ]
          },
          "metadata": {},
          "execution_count": 122
        }
      ]
    },
    {
      "cell_type": "code",
      "source": [
        "# for importing tree\n",
        "from sklearn import tree\n",
        "fig,axes = plt.subplots(figsize=(4,4),dpi=400)\n",
        "tree.plot_tree(reg_tree,feature_names=list(x),filled=False)\n",
        "plt.show()"
      ],
      "metadata": {
        "colab": {
          "base_uri": "https://localhost:8080/",
          "height": 729
        },
        "id": "I8i2NG2CGsdh",
        "outputId": "85d04afe-01a2-4212-93da-9ff12c41536a"
      },
      "execution_count": 125,
      "outputs": [
        {
          "output_type": "display_data",
          "data": {
            "text/plain": [
              "<Figure size 1600x1600 with 1 Axes>"
            ],
            "image/png": "[encoded data removed]"
          },
          "metadata": {
            "needs_background": "light"
          }
        }
      ]
    },
    {
      "cell_type": "code",
      "source": [
        "y_pred = reg_tree.predict(x_valid)\n",
        "y_pred"
      ],
      "metadata": {
        "colab": {
          "base_uri": "https://localhost:8080/"
        },
        "id": "4raLXsRZG0Rh",
        "outputId": "ae3cda90-4bf1-41f3-8eb2-3cc954617f5e"
      },
      "execution_count": 126,
      "outputs": [
        {
          "output_type": "execute_result",
          "data": {
            "text/plain": [
              "array([0.62618182, 0.81965517, 0.695     , 0.62618182, 0.81965517,\n",
              "       0.46375   , 0.695     , 0.74804348, 0.94      , 0.62618182,\n",
              "       0.89444444, 0.74804348, 0.74804348, 0.46375   , 0.46375   ,\n",
              "       0.62618182, 0.62618182, 0.89444444, 0.74804348, 0.81965517,\n",
              "       0.74804348, 0.81965517, 0.74804348, 0.74804348, 0.62618182,\n",
              "       0.695     , 0.62618182, 0.81965517, 0.62618182, 0.94      ,\n",
              "       0.81965517, 0.74804348, 0.695     , 0.74804348, 0.46375   ,\n",
              "       0.46375   , 0.695     , 0.89444444, 0.94      , 0.62618182,\n",
              "       0.62618182, 0.81965517, 0.74804348, 0.62618182, 0.81965517,\n",
              "       0.55181818, 0.74804348, 0.62618182, 0.81965517, 0.62618182,\n",
              "       0.89444444, 0.62618182, 0.89444444, 0.695     , 0.74804348,\n",
              "       0.46375   , 0.89444444, 0.46375   , 0.62618182, 0.74804348,\n",
              "       0.62618182, 0.62618182, 0.89444444, 0.695     , 0.46375   ,\n",
              "       0.62618182, 0.55181818, 0.62618182, 0.46375   , 0.46375   ,\n",
              "       0.81965517, 0.62618182, 0.62618182, 0.94      , 0.62618182,\n",
              "       0.74804348, 0.695     , 0.695     , 0.695     , 0.89444444])"
            ]
          },
          "metadata": {},
          "execution_count": 126
        }
      ]
    },
    {
      "cell_type": "code",
      "source": [
        "#MAE\n",
        "print('MAE IS:',np.mean(np.abs(y_valid-y_pred)))\n",
        "#MSE\n",
        "print('MSE is:',np.mean(np.abs(y_valid-y_pred)**2))\n",
        "#RMSE\n",
        "print('RMSE is:',np.sqrt(np.mean(np.abs(y_valid-y_pred)**2)))\n",
        "#MAPE\n",
        "print('MAPE is:',np.mean(np.abs(y_valid-y_pred)/y_valid)*100)"
      ],
      "metadata": {
        "colab": {
          "base_uri": "https://localhost:8080/"
        },
        "id": "2V8qwbYRHNlZ",
        "outputId": "54d66ec9-e944-4cd7-d952-4075e630d843"
      },
      "execution_count": 129,
      "outputs": [
        {
          "output_type": "stream",
          "name": "stdout",
          "text": [
            "MAE IS: 0.055544619262338536\n",
            "MSE is: 0.00562816382674084\n",
            "RMSE is: 0.0750210892132395\n",
            "MAPE is: 8.365952287775693\n"
          ]
        }
      ]
    },
    {
      "cell_type": "code",
      "source": [],
      "metadata": {
        "colab": {
          "base_uri": "https://localhost:8080/",
          "height": 169
        },
        "id": "0Jg-oN86H043",
        "outputId": "6fd3b4a4-8b42-48b4-d61a-3d05427191b1"
      },
      "execution_count": 134,
      "outputs": [
        {
          "output_type": "error",
          "ename": "TypeError",
          "evalue": "ignored",
          "traceback": [
            "\u001b[0;31m---------------------------------------------------------------------------\u001b[0m",
            "\u001b[0;31mTypeError\u001b[0m                                 Traceback (most recent call last)",
            "\u001b[0;32m<ipython-input-134-ca3c7ad09c2f>\u001b[0m in \u001b[0;36m<module>\u001b[0;34m\u001b[0m\n\u001b[0;32m----> 1\u001b[0;31m \u001b[0mprint\u001b[0m\u001b[0;34m(\u001b[0m\u001b[0;34m\"R-squared:{:.3f}\"\u001b[0m\u001b[0;34m.\u001b[0m\u001b[0mformat\u001b[0m\u001b[0;34m(\u001b[0m\u001b[0mr2_score\u001b[0m\u001b[0;34m)\u001b[0m\u001b[0;34m)\u001b[0m\u001b[0;34m\u001b[0m\u001b[0;34m\u001b[0m\u001b[0m\n\u001b[0m",
            "\u001b[0;31mTypeError\u001b[0m: unsupported format string passed to function.__format__"
          ]
        }
      ]
    },
    {
      "cell_type": "code",
      "source": [],
      "metadata": {
        "id": "oPYLOEuJIH_0"
      },
      "execution_count": null,
      "outputs": []
    }
  ]
}