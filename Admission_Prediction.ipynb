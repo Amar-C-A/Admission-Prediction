{
 "cells": [
  {
   "cell_type": "markdown",
   "id": "4d692521",
   "metadata": {},
   "source": [
    "### Business Problem:\n",
    "\n",
    "*  To understand about the factors which are important in graduate admissions and \n",
    "   how these factors are interrelated among themselves which will help Educational \n",
    "   Institutions to predict one's chances of admission given the rest of the variables."
   ]
  },
  {
   "cell_type": "markdown",
   "id": "72e28a73",
   "metadata": {},
   "source": [
    "### Column Profiling:\n",
    "* Serial No. (Unique row ID)\n",
    "* GRE Scores (out of 340)\n",
    "* TOEFL Scores (out of 120)\n",
    "* University Rating (out of 5)\n",
    "* Statement of Purpose and Letter of Recommendation Strength (out of 5)\n",
    "* Undergraduate GPA (out of 10)\n",
    "* Research Experience (either 0 or 1)\n",
    "* Chance of Admit (ranging from 0 to 1)"
   ]
  },
  {
   "cell_type": "markdown",
   "id": "90ce0e59",
   "metadata": {},
   "source": [
    "### Overview of the notebook:\n",
    "* Missing and Duplicacy Check\n",
    "* Exploratory Data Analysis\n",
    "   * Univariate Analysis\n",
    "   * Bivariate Analysis\n",
    "* Module Building   "
   ]
  },
  {
   "cell_type": "code",
   "execution_count": null,
   "id": "befe27f6",
   "metadata": {},
   "outputs": [],
   "source": []
  },
  {
   "cell_type": "code",
   "execution_count": null,
   "id": "4bcf0843",
   "metadata": {},
   "outputs": [],
   "source": []
  },
  {
   "cell_type": "markdown",
   "id": "45ec27ae",
   "metadata": {},
   "source": [
    "#### Importing Data Into Dataframe"
   ]
  },
  {
   "cell_type": "code",
   "execution_count": 216,
   "id": "b518b2ad",
   "metadata": {},
   "outputs": [
    {
     "data": {
      "text/html": [
       "<div>\n",
       "<style scoped>\n",
       "    .dataframe tbody tr th:only-of-type {\n",
       "        vertical-align: middle;\n",
       "    }\n",
       "\n",
       "    .dataframe tbody tr th {\n",
       "        vertical-align: top;\n",
       "    }\n",
       "\n",
       "    .dataframe thead th {\n",
       "        text-align: right;\n",
       "    }\n",
       "</style>\n",
       "<table border=\"1\" class=\"dataframe\">\n",
       "  <thead>\n",
       "    <tr style=\"text-align: right;\">\n",
       "      <th></th>\n",
       "      <th>Serial No.</th>\n",
       "      <th>GRE_Score</th>\n",
       "      <th>TOEFL_Score</th>\n",
       "      <th>University_Rating</th>\n",
       "      <th>SOP</th>\n",
       "      <th>LOR</th>\n",
       "      <th>CGPA</th>\n",
       "      <th>Research</th>\n",
       "      <th>Chance_of_Admit</th>\n",
       "    </tr>\n",
       "  </thead>\n",
       "  <tbody>\n",
       "    <tr>\n",
       "      <th>0</th>\n",
       "      <td>1</td>\n",
       "      <td>337</td>\n",
       "      <td>118</td>\n",
       "      <td>4</td>\n",
       "      <td>4.5</td>\n",
       "      <td>4.5</td>\n",
       "      <td>9.65</td>\n",
       "      <td>1</td>\n",
       "      <td>0.92</td>\n",
       "    </tr>\n",
       "    <tr>\n",
       "      <th>1</th>\n",
       "      <td>2</td>\n",
       "      <td>324</td>\n",
       "      <td>107</td>\n",
       "      <td>4</td>\n",
       "      <td>4.0</td>\n",
       "      <td>4.5</td>\n",
       "      <td>8.87</td>\n",
       "      <td>1</td>\n",
       "      <td>0.76</td>\n",
       "    </tr>\n",
       "    <tr>\n",
       "      <th>2</th>\n",
       "      <td>3</td>\n",
       "      <td>316</td>\n",
       "      <td>104</td>\n",
       "      <td>3</td>\n",
       "      <td>3.0</td>\n",
       "      <td>3.5</td>\n",
       "      <td>8.00</td>\n",
       "      <td>1</td>\n",
       "      <td>0.72</td>\n",
       "    </tr>\n",
       "    <tr>\n",
       "      <th>3</th>\n",
       "      <td>4</td>\n",
       "      <td>322</td>\n",
       "      <td>110</td>\n",
       "      <td>3</td>\n",
       "      <td>3.5</td>\n",
       "      <td>2.5</td>\n",
       "      <td>8.67</td>\n",
       "      <td>1</td>\n",
       "      <td>0.80</td>\n",
       "    </tr>\n",
       "    <tr>\n",
       "      <th>4</th>\n",
       "      <td>5</td>\n",
       "      <td>314</td>\n",
       "      <td>103</td>\n",
       "      <td>2</td>\n",
       "      <td>2.0</td>\n",
       "      <td>3.0</td>\n",
       "      <td>8.21</td>\n",
       "      <td>0</td>\n",
       "      <td>0.65</td>\n",
       "    </tr>\n",
       "    <tr>\n",
       "      <th>...</th>\n",
       "      <td>...</td>\n",
       "      <td>...</td>\n",
       "      <td>...</td>\n",
       "      <td>...</td>\n",
       "      <td>...</td>\n",
       "      <td>...</td>\n",
       "      <td>...</td>\n",
       "      <td>...</td>\n",
       "      <td>...</td>\n",
       "    </tr>\n",
       "    <tr>\n",
       "      <th>395</th>\n",
       "      <td>396</td>\n",
       "      <td>324</td>\n",
       "      <td>110</td>\n",
       "      <td>3</td>\n",
       "      <td>3.5</td>\n",
       "      <td>3.5</td>\n",
       "      <td>9.04</td>\n",
       "      <td>1</td>\n",
       "      <td>0.82</td>\n",
       "    </tr>\n",
       "    <tr>\n",
       "      <th>396</th>\n",
       "      <td>397</td>\n",
       "      <td>325</td>\n",
       "      <td>107</td>\n",
       "      <td>3</td>\n",
       "      <td>3.0</td>\n",
       "      <td>3.5</td>\n",
       "      <td>9.11</td>\n",
       "      <td>1</td>\n",
       "      <td>0.84</td>\n",
       "    </tr>\n",
       "    <tr>\n",
       "      <th>397</th>\n",
       "      <td>398</td>\n",
       "      <td>330</td>\n",
       "      <td>116</td>\n",
       "      <td>4</td>\n",
       "      <td>5.0</td>\n",
       "      <td>4.5</td>\n",
       "      <td>9.45</td>\n",
       "      <td>1</td>\n",
       "      <td>0.91</td>\n",
       "    </tr>\n",
       "    <tr>\n",
       "      <th>398</th>\n",
       "      <td>399</td>\n",
       "      <td>312</td>\n",
       "      <td>103</td>\n",
       "      <td>3</td>\n",
       "      <td>3.5</td>\n",
       "      <td>4.0</td>\n",
       "      <td>8.78</td>\n",
       "      <td>0</td>\n",
       "      <td>0.67</td>\n",
       "    </tr>\n",
       "    <tr>\n",
       "      <th>399</th>\n",
       "      <td>400</td>\n",
       "      <td>333</td>\n",
       "      <td>117</td>\n",
       "      <td>4</td>\n",
       "      <td>5.0</td>\n",
       "      <td>4.0</td>\n",
       "      <td>9.66</td>\n",
       "      <td>1</td>\n",
       "      <td>0.95</td>\n",
       "    </tr>\n",
       "  </tbody>\n",
       "</table>\n",
       "<p>400 rows × 9 columns</p>\n",
       "</div>"
      ],
      "text/plain": [
       "     Serial No.  GRE_Score  TOEFL_Score  University_Rating  SOP  LOR  CGPA  \\\n",
       "0             1        337          118                  4  4.5  4.5  9.65   \n",
       "1             2        324          107                  4  4.0  4.5  8.87   \n",
       "2             3        316          104                  3  3.0  3.5  8.00   \n",
       "3             4        322          110                  3  3.5  2.5  8.67   \n",
       "4             5        314          103                  2  2.0  3.0  8.21   \n",
       "..          ...        ...          ...                ...  ...  ...   ...   \n",
       "395         396        324          110                  3  3.5  3.5  9.04   \n",
       "396         397        325          107                  3  3.0  3.5  9.11   \n",
       "397         398        330          116                  4  5.0  4.5  9.45   \n",
       "398         399        312          103                  3  3.5  4.0  8.78   \n",
       "399         400        333          117                  4  5.0  4.0  9.66   \n",
       "\n",
       "     Research  Chance_of_Admit  \n",
       "0           1             0.92  \n",
       "1           1             0.76  \n",
       "2           1             0.72  \n",
       "3           1             0.80  \n",
       "4           0             0.65  \n",
       "..        ...              ...  \n",
       "395         1             0.82  \n",
       "396         1             0.84  \n",
       "397         1             0.91  \n",
       "398         0             0.67  \n",
       "399         1             0.95  \n",
       "\n",
       "[400 rows x 9 columns]"
      ]
     },
     "execution_count": 216,
     "metadata": {},
     "output_type": "execute_result"
    }
   ],
   "source": [
    "# imort datase\n",
    "import pandas as pd\n",
    " \n",
    "data = pd.read_csv(r'C:/Users/amarc/Downloads/IML/Dataset/Admission_Predict.csv')\n",
    "data"
   ]
  },
  {
   "cell_type": "markdown",
   "id": "fa8be123",
   "metadata": {},
   "source": [
    "#### Missing and Duplicacy Check"
   ]
  },
  {
   "cell_type": "code",
   "execution_count": 217,
   "id": "400b88cb",
   "metadata": {},
   "outputs": [
    {
     "data": {
      "text/plain": [
       "Serial No.           0\n",
       "GRE_Score            0\n",
       "TOEFL_Score          0\n",
       "University_Rating    0\n",
       "SOP                  0\n",
       "LOR                  0\n",
       "CGPA                 0\n",
       "Research             0\n",
       "Chance_of_Admit      0\n",
       "dtype: int64"
      ]
     },
     "execution_count": 217,
     "metadata": {},
     "output_type": "execute_result"
    }
   ],
   "source": [
    " data.isnull().sum()"
   ]
  },
  {
   "cell_type": "markdown",
   "id": "88a861d9",
   "metadata": {},
   "source": [
    "#### Summary\n",
    "* No missing values"
   ]
  },
  {
   "cell_type": "markdown",
   "id": "086fa724",
   "metadata": {},
   "source": [
    "### Exploratory Data Analysis"
   ]
  },
  {
   "cell_type": "code",
   "execution_count": 218,
   "id": "e847258c",
   "metadata": {},
   "outputs": [
    {
     "data": {
      "text/html": [
       "<div>\n",
       "<style scoped>\n",
       "    .dataframe tbody tr th:only-of-type {\n",
       "        vertical-align: middle;\n",
       "    }\n",
       "\n",
       "    .dataframe tbody tr th {\n",
       "        vertical-align: top;\n",
       "    }\n",
       "\n",
       "    .dataframe thead th {\n",
       "        text-align: right;\n",
       "    }\n",
       "</style>\n",
       "<table border=\"1\" class=\"dataframe\">\n",
       "  <thead>\n",
       "    <tr style=\"text-align: right;\">\n",
       "      <th></th>\n",
       "      <th>GRE_Score</th>\n",
       "      <th>TOEFL_Score</th>\n",
       "      <th>University_Rating</th>\n",
       "      <th>SOP</th>\n",
       "      <th>LOR</th>\n",
       "      <th>CGPA</th>\n",
       "      <th>Research</th>\n",
       "      <th>Chance_of_Admit</th>\n",
       "    </tr>\n",
       "  </thead>\n",
       "  <tbody>\n",
       "    <tr>\n",
       "      <th>0</th>\n",
       "      <td>337</td>\n",
       "      <td>118</td>\n",
       "      <td>4</td>\n",
       "      <td>4.5</td>\n",
       "      <td>4.5</td>\n",
       "      <td>9.65</td>\n",
       "      <td>1</td>\n",
       "      <td>0.92</td>\n",
       "    </tr>\n",
       "    <tr>\n",
       "      <th>1</th>\n",
       "      <td>324</td>\n",
       "      <td>107</td>\n",
       "      <td>4</td>\n",
       "      <td>4.0</td>\n",
       "      <td>4.5</td>\n",
       "      <td>8.87</td>\n",
       "      <td>1</td>\n",
       "      <td>0.76</td>\n",
       "    </tr>\n",
       "    <tr>\n",
       "      <th>2</th>\n",
       "      <td>316</td>\n",
       "      <td>104</td>\n",
       "      <td>3</td>\n",
       "      <td>3.0</td>\n",
       "      <td>3.5</td>\n",
       "      <td>8.00</td>\n",
       "      <td>1</td>\n",
       "      <td>0.72</td>\n",
       "    </tr>\n",
       "    <tr>\n",
       "      <th>3</th>\n",
       "      <td>322</td>\n",
       "      <td>110</td>\n",
       "      <td>3</td>\n",
       "      <td>3.5</td>\n",
       "      <td>2.5</td>\n",
       "      <td>8.67</td>\n",
       "      <td>1</td>\n",
       "      <td>0.80</td>\n",
       "    </tr>\n",
       "    <tr>\n",
       "      <th>4</th>\n",
       "      <td>314</td>\n",
       "      <td>103</td>\n",
       "      <td>2</td>\n",
       "      <td>2.0</td>\n",
       "      <td>3.0</td>\n",
       "      <td>8.21</td>\n",
       "      <td>0</td>\n",
       "      <td>0.65</td>\n",
       "    </tr>\n",
       "  </tbody>\n",
       "</table>\n",
       "</div>"
      ],
      "text/plain": [
       "   GRE_Score  TOEFL_Score  University_Rating  SOP  LOR  CGPA  Research  \\\n",
       "0        337          118                  4  4.5  4.5  9.65         1   \n",
       "1        324          107                  4  4.0  4.5  8.87         1   \n",
       "2        316          104                  3  3.0  3.5  8.00         1   \n",
       "3        322          110                  3  3.5  2.5  8.67         1   \n",
       "4        314          103                  2  2.0  3.0  8.21         0   \n",
       "\n",
       "   Chance_of_Admit  \n",
       "0             0.92  \n",
       "1             0.76  \n",
       "2             0.72  \n",
       "3             0.80  \n",
       "4             0.65  "
      ]
     },
     "execution_count": 218,
     "metadata": {},
     "output_type": "execute_result"
    }
   ],
   "source": [
    "#Dropping the unique row Identifier - which is Serial No.\n",
    "\n",
    "data = data.drop('Serial No.', axis = 1)\n",
    "data.head()"
   ]
  },
  {
   "cell_type": "markdown",
   "id": "898865dc",
   "metadata": {},
   "source": [
    "#### Identification of variables and data types:"
   ]
  },
  {
   "cell_type": "code",
   "execution_count": 219,
   "id": "d4871681",
   "metadata": {},
   "outputs": [
    {
     "data": {
      "text/plain": [
       "(400, 8)"
      ]
     },
     "execution_count": 219,
     "metadata": {},
     "output_type": "execute_result"
    }
   ],
   "source": [
    "data.shape"
   ]
  },
  {
   "cell_type": "code",
   "execution_count": 220,
   "id": "2e04c530",
   "metadata": {},
   "outputs": [
    {
     "name": "stdout",
     "output_type": "stream",
     "text": [
      "<class 'pandas.core.frame.DataFrame'>\n",
      "RangeIndex: 400 entries, 0 to 399\n",
      "Data columns (total 8 columns):\n",
      " #   Column             Non-Null Count  Dtype  \n",
      "---  ------             --------------  -----  \n",
      " 0   GRE_Score          400 non-null    int64  \n",
      " 1   TOEFL_Score        400 non-null    int64  \n",
      " 2   University_Rating  400 non-null    int64  \n",
      " 3   SOP                400 non-null    float64\n",
      " 4   LOR                400 non-null    float64\n",
      " 5   CGPA               400 non-null    float64\n",
      " 6   Research           400 non-null    int64  \n",
      " 7   Chance_of_Admit    400 non-null    float64\n",
      "dtypes: float64(4), int64(4)\n",
      "memory usage: 25.1 KB\n"
     ]
    }
   ],
   "source": [
    "data.info()"
   ]
  },
  {
   "cell_type": "markdown",
   "id": "b91a2db6",
   "metadata": {},
   "source": [
    "#### Analysing the basic metrics:"
   ]
  },
  {
   "cell_type": "code",
   "execution_count": 221,
   "id": "09e619a5",
   "metadata": {},
   "outputs": [
    {
     "data": {
      "text/html": [
       "<div>\n",
       "<style scoped>\n",
       "    .dataframe tbody tr th:only-of-type {\n",
       "        vertical-align: middle;\n",
       "    }\n",
       "\n",
       "    .dataframe tbody tr th {\n",
       "        vertical-align: top;\n",
       "    }\n",
       "\n",
       "    .dataframe thead th {\n",
       "        text-align: right;\n",
       "    }\n",
       "</style>\n",
       "<table border=\"1\" class=\"dataframe\">\n",
       "  <thead>\n",
       "    <tr style=\"text-align: right;\">\n",
       "      <th></th>\n",
       "      <th>GRE_Score</th>\n",
       "      <th>TOEFL_Score</th>\n",
       "      <th>University_Rating</th>\n",
       "      <th>SOP</th>\n",
       "      <th>LOR</th>\n",
       "      <th>CGPA</th>\n",
       "      <th>Research</th>\n",
       "      <th>Chance_of_Admit</th>\n",
       "    </tr>\n",
       "  </thead>\n",
       "  <tbody>\n",
       "    <tr>\n",
       "      <th>count</th>\n",
       "      <td>400.000000</td>\n",
       "      <td>400.000000</td>\n",
       "      <td>400.000000</td>\n",
       "      <td>400.000000</td>\n",
       "      <td>400.000000</td>\n",
       "      <td>400.000000</td>\n",
       "      <td>400.000000</td>\n",
       "      <td>400.000000</td>\n",
       "    </tr>\n",
       "    <tr>\n",
       "      <th>mean</th>\n",
       "      <td>316.807500</td>\n",
       "      <td>107.410000</td>\n",
       "      <td>3.087500</td>\n",
       "      <td>3.400000</td>\n",
       "      <td>3.452500</td>\n",
       "      <td>8.598925</td>\n",
       "      <td>0.547500</td>\n",
       "      <td>0.724350</td>\n",
       "    </tr>\n",
       "    <tr>\n",
       "      <th>std</th>\n",
       "      <td>11.473646</td>\n",
       "      <td>6.069514</td>\n",
       "      <td>1.143728</td>\n",
       "      <td>1.006869</td>\n",
       "      <td>0.898478</td>\n",
       "      <td>0.596317</td>\n",
       "      <td>0.498362</td>\n",
       "      <td>0.142609</td>\n",
       "    </tr>\n",
       "    <tr>\n",
       "      <th>min</th>\n",
       "      <td>290.000000</td>\n",
       "      <td>92.000000</td>\n",
       "      <td>1.000000</td>\n",
       "      <td>1.000000</td>\n",
       "      <td>1.000000</td>\n",
       "      <td>6.800000</td>\n",
       "      <td>0.000000</td>\n",
       "      <td>0.340000</td>\n",
       "    </tr>\n",
       "    <tr>\n",
       "      <th>25%</th>\n",
       "      <td>308.000000</td>\n",
       "      <td>103.000000</td>\n",
       "      <td>2.000000</td>\n",
       "      <td>2.500000</td>\n",
       "      <td>3.000000</td>\n",
       "      <td>8.170000</td>\n",
       "      <td>0.000000</td>\n",
       "      <td>0.640000</td>\n",
       "    </tr>\n",
       "    <tr>\n",
       "      <th>50%</th>\n",
       "      <td>317.000000</td>\n",
       "      <td>107.000000</td>\n",
       "      <td>3.000000</td>\n",
       "      <td>3.500000</td>\n",
       "      <td>3.500000</td>\n",
       "      <td>8.610000</td>\n",
       "      <td>1.000000</td>\n",
       "      <td>0.730000</td>\n",
       "    </tr>\n",
       "    <tr>\n",
       "      <th>75%</th>\n",
       "      <td>325.000000</td>\n",
       "      <td>112.000000</td>\n",
       "      <td>4.000000</td>\n",
       "      <td>4.000000</td>\n",
       "      <td>4.000000</td>\n",
       "      <td>9.062500</td>\n",
       "      <td>1.000000</td>\n",
       "      <td>0.830000</td>\n",
       "    </tr>\n",
       "    <tr>\n",
       "      <th>max</th>\n",
       "      <td>340.000000</td>\n",
       "      <td>120.000000</td>\n",
       "      <td>5.000000</td>\n",
       "      <td>5.000000</td>\n",
       "      <td>5.000000</td>\n",
       "      <td>9.920000</td>\n",
       "      <td>1.000000</td>\n",
       "      <td>0.970000</td>\n",
       "    </tr>\n",
       "  </tbody>\n",
       "</table>\n",
       "</div>"
      ],
      "text/plain": [
       "        GRE_Score  TOEFL_Score  University_Rating         SOP         LOR  \\\n",
       "count  400.000000   400.000000         400.000000  400.000000  400.000000   \n",
       "mean   316.807500   107.410000           3.087500    3.400000    3.452500   \n",
       "std     11.473646     6.069514           1.143728    1.006869    0.898478   \n",
       "min    290.000000    92.000000           1.000000    1.000000    1.000000   \n",
       "25%    308.000000   103.000000           2.000000    2.500000    3.000000   \n",
       "50%    317.000000   107.000000           3.000000    3.500000    3.500000   \n",
       "75%    325.000000   112.000000           4.000000    4.000000    4.000000   \n",
       "max    340.000000   120.000000           5.000000    5.000000    5.000000   \n",
       "\n",
       "             CGPA    Research  Chance_of_Admit  \n",
       "count  400.000000  400.000000       400.000000  \n",
       "mean     8.598925    0.547500         0.724350  \n",
       "std      0.596317    0.498362         0.142609  \n",
       "min      6.800000    0.000000         0.340000  \n",
       "25%      8.170000    0.000000         0.640000  \n",
       "50%      8.610000    1.000000         0.730000  \n",
       "75%      9.062500    1.000000         0.830000  \n",
       "max      9.920000    1.000000         0.970000  "
      ]
     },
     "execution_count": 221,
     "metadata": {},
     "output_type": "execute_result"
    }
   ],
   "source": [
    "data.describe()"
   ]
  },
  {
   "cell_type": "markdown",
   "id": "1efc509b",
   "metadata": {},
   "source": []
  },
  {
   "cell_type": "code",
   "execution_count": 222,
   "id": "fa9c2c5e",
   "metadata": {},
   "outputs": [
    {
     "name": "stdout",
     "output_type": "stream",
     "text": [
      " Unique value count in GRE_Score is 49\n",
      " Unique value count in TOEFL_Score is 29\n",
      " Unique value count in University_Rating is 5\n",
      " Unique value count in SOP is 9\n",
      " Unique value count in LOR is 9\n",
      " Unique value count in CGPA is 168\n",
      " Unique value count in Research is 2\n",
      " Unique value count in Chance_of_Admit is 60\n"
     ]
    }
   ],
   "source": [
    "numerical_var_colm = ['GRE_Score', 'TOEFL_Score', 'University_Rating', 'SOP', 'LOR', 'CGPA', 'Research', 'Chance_of_Admit']\n",
    "\n",
    "for i in numerical_var_colm:\n",
    "    print(f\" Unique value count in {i} is {data[i].nunique()}\")"
   ]
  },
  {
   "cell_type": "code",
   "execution_count": 223,
   "id": "3a0d5d5a",
   "metadata": {},
   "outputs": [
    {
     "name": "stdout",
     "output_type": "stream",
     "text": [
      " Unique values in University_Rating are [4 3 2 5 1]\n",
      " Unique values in SOP are [4.5 4.  3.  3.5 2.  5.  1.5 1.  2.5]\n",
      " Unique values in LOR are [4.5 3.5 2.5 3.  4.  1.5 2.  5.  1. ]\n",
      " Unique values in Research are [1 0]\n"
     ]
    }
   ],
   "source": [
    "disc_var_colm = ['University_Rating', 'SOP', 'LOR','Research']\n",
    "for i in disc_var_colm:\n",
    "    print(f\" Unique values in {i} are {data[i].unique()}\")"
   ]
  },
  {
   "cell_type": "markdown",
   "id": "1a452e82",
   "metadata": {},
   "source": [
    "### Univariate Analysis"
   ]
  },
  {
   "cell_type": "code",
   "execution_count": 224,
   "id": "20d4fd0c",
   "metadata": {},
   "outputs": [],
   "source": [
    "import warnings\n",
    "import numpy as np\n",
    "import pandas as pd\n",
    "import seaborn as sns\n",
    "import matplotlib.pyplot as plt"
   ]
  },
  {
   "cell_type": "code",
   "execution_count": 225,
   "id": "5a6ba465",
   "metadata": {},
   "outputs": [
    {
     "data": {
      "image/png": "[encoded data removed]",
      "text/plain": [
       "<Figure size 432x432 with 1 Axes>"
      ]
     },
     "metadata": {
      "needs_background": "light"
     },
     "output_type": "display_data"
    },
    {
     "data": {
      "image/png": "[encoded data removed]",
      "text/plain": [
       "<Figure size 432x432 with 1 Axes>"
      ]
     },
     "metadata": {
      "needs_background": "light"
     },
     "output_type": "display_data"
    },
    {
     "data": {
      "image/png": "[encoded data removed]",
      "text/plain": [
       "<Figure size 432x432 with 1 Axes>"
      ]
     },
     "metadata": {
      "needs_background": "light"
     },
     "output_type": "display_data"
    },
    {
     "data": {
      "image/png": "[encoded data removed]",
      "text/plain": [
       "<Figure size 432x432 with 1 Axes>"
      ]
     },
     "metadata": {
      "needs_background": "light"
     },
     "output_type": "display_data"
    },
    {
     "data": {
      "image/png": "[encoded data removed]",
      "text/plain": [
       "<Figure size 432x288 with 1 Axes>"
      ]
     },
     "metadata": {
      "needs_background": "light"
     },
     "output_type": "display_data"
    },
    {
     "data": {
      "image/png": "[encoded data removed]",
      "text/plain": [
       "<Figure size 432x288 with 1 Axes>"
      ]
     },
     "metadata": {
      "needs_background": "light"
     },
     "output_type": "display_data"
    },
    {
     "data": {
      "image/png": "[encoded data removed]",
      "text/plain": [
       "<Figure size 432x288 with 1 Axes>"
      ]
     },
     "metadata": {
      "needs_background": "light"
     },
     "output_type": "display_data"
    },
    {
     "data": {
      "image/png": "[encoded data removed]",
      "text/plain": [
       "<Figure size 432x288 with 1 Axes>"
      ]
     },
     "metadata": {
      "needs_background": "light"
     },
     "output_type": "display_data"
    }
   ],
   "source": [
    "numerical_var_colm = ['GRE_Score', 'TOEFL_Score', 'CGPA', 'Chance_of_Admit']\n",
    "\n",
    "for i in numerical_var_colm:\n",
    "    data.hist(column=i,grid=False,figsize=(6,6),color= 'black',edgecolor='white',bins=10)\n",
    "\n",
    "    \n",
    "    plt.xlabel(i,fontsize = 12)\n",
    "    plt.ylabel('Counts',fontsize = 12)\n",
    "    plt.title( f'Histogram of {i}',fontsize = 16)\n",
    "    plt.show()\n",
    "    \n",
    "for i in numerical_var_colm:\n",
    "    data.boxplot(column=i,grid=False)\n",
    "    plt.ylabel(i,fontsize = 12)\n",
    "    plt.title( f'boxplot of {i}',fontsize = 16)\n",
    "    plt.show()"
   ]
  },
  {
   "cell_type": "markdown",
   "id": "52cda94e",
   "metadata": {},
   "source": []
  },
  {
   "cell_type": "code",
   "execution_count": 226,
   "id": "5242106b",
   "metadata": {},
   "outputs": [],
   "source": [
    "disc_var_colm = ['University_Rating', 'SOP', 'LOR', 'Research']"
   ]
  },
  {
   "cell_type": "code",
   "execution_count": 227,
   "id": "866d46d1",
   "metadata": {},
   "outputs": [
    {
     "data": {
      "image/png": "[encoded data removed]",
      "text/plain": [
       "<Figure size 288x288 with 1 Axes>"
      ]
     },
     "metadata": {
      "needs_background": "light"
     },
     "output_type": "display_data"
    },
    {
     "data": {
      "image/png": "[encoded data removed]",
      "text/plain": [
       "<Figure size 288x288 with 1 Axes>"
      ]
     },
     "metadata": {
      "needs_background": "light"
     },
     "output_type": "display_data"
    },
    {
     "data": {
      "image/png": "[encoded data removed]",
      "text/plain": [
       "<Figure size 288x288 with 1 Axes>"
      ]
     },
     "metadata": {
      "needs_background": "light"
     },
     "output_type": "display_data"
    },
    {
     "data": {
      "image/png": "[encoded data removed]",
      "text/plain": [
       "<Figure size 288x288 with 1 Axes>"
      ]
     },
     "metadata": {
      "needs_background": "light"
     },
     "output_type": "display_data"
    },
    {
     "data": {
      "image/png": "[encoded data removed]",
      "text/plain": [
       "<Figure size 288x288 with 1 Axes>"
      ]
     },
     "metadata": {},
     "output_type": "display_data"
    },
    {
     "data": {
      "image/png": "[encoded data removed]",
      "text/plain": [
       "<Figure size 288x288 with 1 Axes>"
      ]
     },
     "metadata": {},
     "output_type": "display_data"
    },
    {
     "data": {
      "image/png": "[encoded data removed]",
      "text/plain": [
       "<Figure size 288x288 with 1 Axes>"
      ]
     },
     "metadata": {},
     "output_type": "display_data"
    },
    {
     "data": {
      "image/png": "[encoded data removed]",
      "text/plain": [
       "<Figure size 288x288 with 1 Axes>"
      ]
     },
     "metadata": {},
     "output_type": "display_data"
    }
   ],
   "source": [
    "for i in disc_var_colm:\n",
    "    data[i].value_counts().plot(kind='bar',figsize=(4,4),color='coral',fontsize=10)\n",
    "    plt.show()\n",
    "    \n",
    "for i in disc_var_colm:\n",
    "    data[i].value_counts().plot(kind='pie',figsize=(4,4),fontsize=10, autopct='%1.1f%%')\n",
    "    plt.show()"
   ]
  },
  {
   "cell_type": "markdown",
   "id": "bde3813d",
   "metadata": {},
   "source": []
  },
  {
   "cell_type": "markdown",
   "id": "7b7341fc",
   "metadata": {},
   "source": [
    "#### Data Preparation"
   ]
  },
  {
   "cell_type": "code",
   "execution_count": 228,
   "id": "754ea051",
   "metadata": {},
   "outputs": [
    {
     "data": {
      "text/plain": [
       "117    290\n",
       "377    290\n",
       "168    293\n",
       "272    294\n",
       "79     294\n",
       "Name: GRE_Score, dtype: int64"
      ]
     },
     "execution_count": 228,
     "metadata": {},
     "output_type": "execute_result"
    }
   ],
   "source": [
    "data['GRE_Score'].sort_values().head()"
   ]
  },
  {
   "cell_type": "code",
   "execution_count": 229,
   "id": "08a92fcc",
   "metadata": {},
   "outputs": [],
   "source": [
    "data_new = data.copy()\n",
    "bins = [290,300,310,320,330,340]\n",
    "labels =[\"290-300\",\"300-310\",\"310-320\",\"320-330\",\"330-340\"]\n",
    "data_new['GRE_Score_bins'] = pd.cut(data_new['GRE_Score'], bins,labels=labels)"
   ]
  },
  {
   "cell_type": "code",
   "execution_count": 230,
   "id": "d8cc8a5d",
   "metadata": {},
   "outputs": [
    {
     "data": {
      "text/plain": [
       "368    92\n",
       "79     93\n",
       "28     93\n",
       "347    94\n",
       "272    95\n",
       "Name: TOEFL_Score, dtype: int64"
      ]
     },
     "execution_count": 230,
     "metadata": {},
     "output_type": "execute_result"
    }
   ],
   "source": [
    "data_new['TOEFL_Score'].sort_values().head()"
   ]
  },
  {
   "cell_type": "code",
   "execution_count": 231,
   "id": "9dee556e",
   "metadata": {},
   "outputs": [],
   "source": [
    "bins = [90,100,110,120]\n",
    "labels =['90-100','100-110','110-120']\n",
    "data_new['TOEFL_Score_bins'] = pd.cut(data_new['TOEFL_Score'], bins,labels=labels)"
   ]
  },
  {
   "cell_type": "code",
   "execution_count": 232,
   "id": "fae167cf",
   "metadata": {},
   "outputs": [
    {
     "data": {
      "text/plain": [
       "58     6.80\n",
       "28     7.20\n",
       "348    7.25\n",
       "118    7.28\n",
       "29     7.30\n",
       "Name: CGPA, dtype: float64"
      ]
     },
     "execution_count": 232,
     "metadata": {},
     "output_type": "execute_result"
    }
   ],
   "source": [
    "data_new['CGPA'].sort_values().head()"
   ]
  },
  {
   "cell_type": "code",
   "execution_count": 233,
   "id": "9ed59fab",
   "metadata": {},
   "outputs": [],
   "source": [
    "bins = [6.5,7.0,7.5,8.0,8.5,9.0,9.5,10.0]\n",
    "labels =['6.5-7.0','7.0-7.5','7.5-8.0','8.0-8.5','8.5-9.0','9.0-9.5','Above 9.5']\n",
    "data_new['CGPA_bins'] = pd.cut(data_new['CGPA'], bins,labels=labels)"
   ]
  },
  {
   "cell_type": "code",
   "execution_count": 234,
   "id": "2eaa90ef",
   "metadata": {},
   "outputs": [
    {
     "data": {
      "text/html": [
       "<div>\n",
       "<style scoped>\n",
       "    .dataframe tbody tr th:only-of-type {\n",
       "        vertical-align: middle;\n",
       "    }\n",
       "\n",
       "    .dataframe tbody tr th {\n",
       "        vertical-align: top;\n",
       "    }\n",
       "\n",
       "    .dataframe thead th {\n",
       "        text-align: right;\n",
       "    }\n",
       "</style>\n",
       "<table border=\"1\" class=\"dataframe\">\n",
       "  <thead>\n",
       "    <tr style=\"text-align: right;\">\n",
       "      <th></th>\n",
       "      <th>GRE_Score</th>\n",
       "      <th>TOEFL_Score</th>\n",
       "      <th>University_Rating</th>\n",
       "      <th>SOP</th>\n",
       "      <th>LOR</th>\n",
       "      <th>CGPA</th>\n",
       "      <th>Research</th>\n",
       "      <th>Chance_of_Admit</th>\n",
       "      <th>GRE_Score_bins</th>\n",
       "      <th>TOEFL_Score_bins</th>\n",
       "      <th>CGPA_bins</th>\n",
       "    </tr>\n",
       "  </thead>\n",
       "  <tbody>\n",
       "    <tr>\n",
       "      <th>0</th>\n",
       "      <td>337</td>\n",
       "      <td>118</td>\n",
       "      <td>4</td>\n",
       "      <td>4.5</td>\n",
       "      <td>4.5</td>\n",
       "      <td>9.65</td>\n",
       "      <td>1</td>\n",
       "      <td>0.92</td>\n",
       "      <td>330-340</td>\n",
       "      <td>110-120</td>\n",
       "      <td>Above 9.5</td>\n",
       "    </tr>\n",
       "    <tr>\n",
       "      <th>1</th>\n",
       "      <td>324</td>\n",
       "      <td>107</td>\n",
       "      <td>4</td>\n",
       "      <td>4.0</td>\n",
       "      <td>4.5</td>\n",
       "      <td>8.87</td>\n",
       "      <td>1</td>\n",
       "      <td>0.76</td>\n",
       "      <td>320-330</td>\n",
       "      <td>100-110</td>\n",
       "      <td>8.5-9.0</td>\n",
       "    </tr>\n",
       "    <tr>\n",
       "      <th>2</th>\n",
       "      <td>316</td>\n",
       "      <td>104</td>\n",
       "      <td>3</td>\n",
       "      <td>3.0</td>\n",
       "      <td>3.5</td>\n",
       "      <td>8.00</td>\n",
       "      <td>1</td>\n",
       "      <td>0.72</td>\n",
       "      <td>310-320</td>\n",
       "      <td>100-110</td>\n",
       "      <td>7.5-8.0</td>\n",
       "    </tr>\n",
       "    <tr>\n",
       "      <th>3</th>\n",
       "      <td>322</td>\n",
       "      <td>110</td>\n",
       "      <td>3</td>\n",
       "      <td>3.5</td>\n",
       "      <td>2.5</td>\n",
       "      <td>8.67</td>\n",
       "      <td>1</td>\n",
       "      <td>0.80</td>\n",
       "      <td>320-330</td>\n",
       "      <td>100-110</td>\n",
       "      <td>8.5-9.0</td>\n",
       "    </tr>\n",
       "    <tr>\n",
       "      <th>4</th>\n",
       "      <td>314</td>\n",
       "      <td>103</td>\n",
       "      <td>2</td>\n",
       "      <td>2.0</td>\n",
       "      <td>3.0</td>\n",
       "      <td>8.21</td>\n",
       "      <td>0</td>\n",
       "      <td>0.65</td>\n",
       "      <td>310-320</td>\n",
       "      <td>100-110</td>\n",
       "      <td>8.0-8.5</td>\n",
       "    </tr>\n",
       "  </tbody>\n",
       "</table>\n",
       "</div>"
      ],
      "text/plain": [
       "   GRE_Score  TOEFL_Score  University_Rating  SOP  LOR  CGPA  Research  \\\n",
       "0        337          118                  4  4.5  4.5  9.65         1   \n",
       "1        324          107                  4  4.0  4.5  8.87         1   \n",
       "2        316          104                  3  3.0  3.5  8.00         1   \n",
       "3        322          110                  3  3.5  2.5  8.67         1   \n",
       "4        314          103                  2  2.0  3.0  8.21         0   \n",
       "\n",
       "   Chance_of_Admit GRE_Score_bins TOEFL_Score_bins  CGPA_bins  \n",
       "0             0.92        330-340          110-120  Above 9.5  \n",
       "1             0.76        320-330          100-110    8.5-9.0  \n",
       "2             0.72        310-320          100-110    7.5-8.0  \n",
       "3             0.80        320-330          100-110    8.5-9.0  \n",
       "4             0.65        310-320          100-110    8.0-8.5  "
      ]
     },
     "execution_count": 234,
     "metadata": {},
     "output_type": "execute_result"
    }
   ],
   "source": [
    "data_new.head()"
   ]
  },
  {
   "cell_type": "code",
   "execution_count": 235,
   "id": "074060fb",
   "metadata": {},
   "outputs": [
    {
     "name": "stdout",
     "output_type": "stream",
     "text": [
      "<class 'pandas.core.frame.DataFrame'>\n",
      "RangeIndex: 400 entries, 0 to 399\n",
      "Data columns (total 11 columns):\n",
      " #   Column             Non-Null Count  Dtype   \n",
      "---  ------             --------------  -----   \n",
      " 0   GRE_Score          400 non-null    int64   \n",
      " 1   TOEFL_Score        400 non-null    int64   \n",
      " 2   University_Rating  400 non-null    int64   \n",
      " 3   SOP                400 non-null    float64 \n",
      " 4   LOR                400 non-null    float64 \n",
      " 5   CGPA               400 non-null    float64 \n",
      " 6   Research           400 non-null    int64   \n",
      " 7   Chance_of_Admit    400 non-null    float64 \n",
      " 8   GRE_Score_bins     398 non-null    category\n",
      " 9   TOEFL_Score_bins   400 non-null    category\n",
      " 10  CGPA_bins          400 non-null    category\n",
      "dtypes: category(3), float64(4), int64(4)\n",
      "memory usage: 27.0 KB\n"
     ]
    }
   ],
   "source": [
    "data_new.info()"
   ]
  },
  {
   "cell_type": "code",
   "execution_count": 236,
   "id": "38624970",
   "metadata": {},
   "outputs": [],
   "source": [
    "list1 = ['University_Rating', 'SOP','Research','LOR']"
   ]
  },
  {
   "cell_type": "code",
   "execution_count": 237,
   "id": "1694493d",
   "metadata": {},
   "outputs": [
    {
     "name": "stdout",
     "output_type": "stream",
     "text": [
      "------------ UNIVERSITY_RATING ------------------\n",
      "Research            0   1\n",
      "University_Rating        \n",
      "1                  21   5\n",
      "2                  75  32\n",
      "3                  62  71\n",
      "4                  15  59\n",
      "5                   8  52\n",
      " \n",
      "Research                  0         1\n",
      "University_Rating                    \n",
      "1                  0.807692  0.192308\n",
      "2                  0.700935  0.299065\n",
      "3                  0.466165  0.533835\n",
      "4                  0.202703  0.797297\n",
      "5                  0.133333  0.866667\n"
     ]
    },
    {
     "data": {
      "image/png": "[encoded data removed]",
      "text/plain": [
       "<Figure size 432x288 with 1 Axes>"
      ]
     },
     "metadata": {
      "needs_background": "light"
     },
     "output_type": "display_data"
    },
    {
     "name": "stdout",
     "output_type": "stream",
     "text": [
      " \n",
      "------------ SOP ------------------\n",
      "Research   0   1\n",
      "SOP             \n",
      "1.0        5   1\n",
      "1.5       17   3\n",
      "2.0       27   6\n",
      "2.5       33  14\n",
      "3.0       34  30\n",
      "3.5       27  43\n",
      "4.0       21  49\n",
      "4.5       12  41\n",
      "5.0        5  32\n",
      " \n",
      "Research         0         1\n",
      "SOP                         \n",
      "1.0       0.833333  0.166667\n",
      "1.5       0.850000  0.150000\n",
      "2.0       0.818182  0.181818\n",
      "2.5       0.702128  0.297872\n",
      "3.0       0.531250  0.468750\n",
      "3.5       0.385714  0.614286\n",
      "4.0       0.300000  0.700000\n",
      "4.5       0.226415  0.773585\n",
      "5.0       0.135135  0.864865\n"
     ]
    },
    {
     "data": {
      "image/png": "[encoded data removed]",
      "text/plain": [
       "<Figure size 432x288 with 1 Axes>"
      ]
     },
     "metadata": {
      "needs_background": "light"
     },
     "output_type": "display_data"
    },
    {
     "name": "stdout",
     "output_type": "stream",
     "text": [
      " \n",
      "------------ LOR ------------------\n",
      "Research   0   1\n",
      "LOR             \n",
      "1.0        1   0\n",
      "1.5        5   2\n",
      "2.0       29   9\n",
      "2.5       29  10\n",
      "3.0       45  40\n",
      "3.5       35  38\n",
      "4.0       24  53\n",
      "4.5        7  38\n",
      "5.0        6  29\n",
      " \n",
      "Research         0         1\n",
      "LOR                         \n",
      "1.0       1.000000  0.000000\n",
      "1.5       0.714286  0.285714\n",
      "2.0       0.763158  0.236842\n",
      "2.5       0.743590  0.256410\n",
      "3.0       0.529412  0.470588\n",
      "3.5       0.479452  0.520548\n",
      "4.0       0.311688  0.688312\n",
      "4.5       0.155556  0.844444\n",
      "5.0       0.171429  0.828571\n"
     ]
    },
    {
     "data": {
      "image/png": "[encoded data removed]",
      "text/plain": [
       "<Figure size 432x288 with 1 Axes>"
      ]
     },
     "metadata": {
      "needs_background": "light"
     },
     "output_type": "display_data"
    },
    {
     "name": "stdout",
     "output_type": "stream",
     "text": [
      " \n",
      "------------ UNIVERSITY_RATING ------------------\n",
      "SOP                1.0  1.5  2.0  2.5  3.0  3.5  4.0  4.5  5.0\n",
      "University_Rating                                             \n",
      "1                    5    8    7    2    2    2    0    0    0\n",
      "2                    1   10   15   35   25    9    9    3    0\n",
      "3                    0    0   10    9   30   51   26    5    2\n",
      "4                    0    2    1    1    5    6   21   27   11\n",
      "5                    0    0    0    0    2    2   14   18   24\n",
      " \n",
      "SOP                     1.0       1.5       2.0       2.5       3.0       3.5  \\\n",
      "University_Rating                                                               \n",
      "1                  0.192308  0.307692  0.269231  0.076923  0.076923  0.076923   \n",
      "2                  0.009346  0.093458  0.140187  0.327103  0.233645  0.084112   \n",
      "3                  0.000000  0.000000  0.075188  0.067669  0.225564  0.383459   \n",
      "4                  0.000000  0.027027  0.013514  0.013514  0.067568  0.081081   \n",
      "5                  0.000000  0.000000  0.000000  0.000000  0.033333  0.033333   \n",
      "\n",
      "SOP                     4.0       4.5       5.0  \n",
      "University_Rating                                \n",
      "1                  0.000000  0.000000  0.000000  \n",
      "2                  0.084112  0.028037  0.000000  \n",
      "3                  0.195489  0.037594  0.015038  \n",
      "4                  0.283784  0.364865  0.148649  \n",
      "5                  0.233333  0.300000  0.400000  \n"
     ]
    },
    {
     "data": {
      "image/png": "[encoded data removed]",
      "text/plain": [
       "<Figure size 432x288 with 1 Axes>"
      ]
     },
     "metadata": {
      "needs_background": "light"
     },
     "output_type": "display_data"
    },
    {
     "name": "stdout",
     "output_type": "stream",
     "text": [
      " \n",
      "------------ RESEARCH ------------------\n",
      "SOP       1.0  1.5  2.0  2.5  3.0  3.5  4.0  4.5  5.0\n",
      "Research                                             \n",
      "0           5   17   27   33   34   27   21   12    5\n",
      "1           1    3    6   14   30   43   49   41   32\n",
      " \n",
      "SOP            1.0       1.5       2.0       2.5       3.0       3.5  \\\n",
      "Research                                                               \n",
      "0         0.027624  0.093923  0.149171  0.182320  0.187845  0.149171   \n",
      "1         0.004566  0.013699  0.027397  0.063927  0.136986  0.196347   \n",
      "\n",
      "SOP            4.0       4.5       5.0  \n",
      "Research                                \n",
      "0         0.116022  0.066298  0.027624  \n",
      "1         0.223744  0.187215  0.146119  \n"
     ]
    },
    {
     "data": {
      "image/png": "[encoded data removed]",
      "text/plain": [
       "<Figure size 432x288 with 1 Axes>"
      ]
     },
     "metadata": {
      "needs_background": "light"
     },
     "output_type": "display_data"
    },
    {
     "name": "stdout",
     "output_type": "stream",
     "text": [
      " \n",
      "------------ LOR ------------------\n",
      "SOP  1.0  1.5  2.0  2.5  3.0  3.5  4.0  4.5  5.0\n",
      "LOR                                             \n",
      "1.0    1    0    0    0    0    0    0    0    0\n",
      "1.5    1    1    2    2    1    0    0    0    0\n",
      "2.0    2   13    5    9    7    1    1    0    0\n",
      "2.5    2    3   14    6    6    6    2    0    0\n",
      "3.0    0    2    7   18   20   25   10    3    0\n",
      "3.5    0    1    3    7   21   15   15    9    2\n",
      "4.0    0    0    2    4    7   19   18   21    6\n",
      "4.5    0    0    0    1    1    2   16   14   11\n",
      "5.0    0    0    0    0    1    2    8    6   18\n",
      " \n",
      "SOP       1.0       1.5       2.0       2.5       3.0       3.5       4.0  \\\n",
      "LOR                                                                         \n",
      "1.0  1.000000  0.000000  0.000000  0.000000  0.000000  0.000000  0.000000   \n",
      "1.5  0.142857  0.142857  0.285714  0.285714  0.142857  0.000000  0.000000   \n",
      "2.0  0.052632  0.342105  0.131579  0.236842  0.184211  0.026316  0.026316   \n",
      "2.5  0.051282  0.076923  0.358974  0.153846  0.153846  0.153846  0.051282   \n",
      "3.0  0.000000  0.023529  0.082353  0.211765  0.235294  0.294118  0.117647   \n",
      "3.5  0.000000  0.013699  0.041096  0.095890  0.287671  0.205479  0.205479   \n",
      "4.0  0.000000  0.000000  0.025974  0.051948  0.090909  0.246753  0.233766   \n",
      "4.5  0.000000  0.000000  0.000000  0.022222  0.022222  0.044444  0.355556   \n",
      "5.0  0.000000  0.000000  0.000000  0.000000  0.028571  0.057143  0.228571   \n",
      "\n",
      "SOP       4.5       5.0  \n",
      "LOR                      \n",
      "1.0  0.000000  0.000000  \n",
      "1.5  0.000000  0.000000  \n",
      "2.0  0.000000  0.000000  \n",
      "2.5  0.000000  0.000000  \n",
      "3.0  0.035294  0.000000  \n",
      "3.5  0.123288  0.027397  \n",
      "4.0  0.272727  0.077922  \n",
      "4.5  0.311111  0.244444  \n",
      "5.0  0.171429  0.514286  \n"
     ]
    },
    {
     "data": {
      "image/png": "[encoded data removed]",
      "text/plain": [
       "<Figure size 432x288 with 1 Axes>"
      ]
     },
     "metadata": {
      "needs_background": "light"
     },
     "output_type": "display_data"
    },
    {
     "name": "stdout",
     "output_type": "stream",
     "text": [
      " \n",
      "------------ SOP ------------------\n",
      "University_Rating  1   2   3   4   5\n",
      "SOP                                 \n",
      "1.0                5   1   0   0   0\n",
      "1.5                8  10   0   2   0\n",
      "2.0                7  15  10   1   0\n",
      "2.5                2  35   9   1   0\n",
      "3.0                2  25  30   5   2\n",
      "3.5                2   9  51   6   2\n",
      "4.0                0   9  26  21  14\n",
      "4.5                0   3   5  27  18\n",
      "5.0                0   0   2  11  24\n",
      " \n",
      "University_Rating         1         2         3         4         5\n",
      "SOP                                                                \n",
      "1.0                0.833333  0.166667  0.000000  0.000000  0.000000\n",
      "1.5                0.400000  0.500000  0.000000  0.100000  0.000000\n",
      "2.0                0.212121  0.454545  0.303030  0.030303  0.000000\n",
      "2.5                0.042553  0.744681  0.191489  0.021277  0.000000\n",
      "3.0                0.031250  0.390625  0.468750  0.078125  0.031250\n",
      "3.5                0.028571  0.128571  0.728571  0.085714  0.028571\n",
      "4.0                0.000000  0.128571  0.371429  0.300000  0.200000\n",
      "4.5                0.000000  0.056604  0.094340  0.509434  0.339623\n",
      "5.0                0.000000  0.000000  0.054054  0.297297  0.648649\n"
     ]
    },
    {
     "data": {
      "image/png": "[encoded data removed]",
      "text/plain": [
       "<Figure size 432x288 with 1 Axes>"
      ]
     },
     "metadata": {
      "needs_background": "light"
     },
     "output_type": "display_data"
    },
    {
     "name": "stdout",
     "output_type": "stream",
     "text": [
      " \n",
      "------------ RESEARCH ------------------\n",
      "University_Rating   1   2   3   4   5\n",
      "Research                             \n",
      "0                  21  75  62  15   8\n",
      "1                   5  32  71  59  52\n",
      " \n",
      "University_Rating         1         2         3         4         5\n",
      "Research                                                           \n",
      "0                  0.116022  0.414365  0.342541  0.082873  0.044199\n",
      "1                  0.022831  0.146119  0.324201  0.269406  0.237443\n"
     ]
    },
    {
     "data": {
      "image/png": "[encoded data removed]",
      "text/plain": [
       "<Figure size 432x288 with 1 Axes>"
      ]
     },
     "metadata": {
      "needs_background": "light"
     },
     "output_type": "display_data"
    },
    {
     "name": "stdout",
     "output_type": "stream",
     "text": [
      " \n",
      "------------ LOR ------------------\n",
      "University_Rating   1   2   3   4   5\n",
      "LOR                                  \n",
      "1.0                 1   0   0   0   0\n",
      "1.5                 4   2   1   0   0\n",
      "2.0                11  21   5   1   0\n",
      "2.5                 4  18  12   5   0\n",
      "3.0                 5  30  42   6   2\n",
      "3.5                 1  22  33   9   8\n",
      "4.0                 0  14  26  22  15\n",
      "4.5                 0   0   9  21  15\n",
      "5.0                 0   0   5  10  20\n",
      " \n",
      "University_Rating         1         2         3         4         5\n",
      "LOR                                                                \n",
      "1.0                1.000000  0.000000  0.000000  0.000000  0.000000\n",
      "1.5                0.571429  0.285714  0.142857  0.000000  0.000000\n",
      "2.0                0.289474  0.552632  0.131579  0.026316  0.000000\n",
      "2.5                0.102564  0.461538  0.307692  0.128205  0.000000\n",
      "3.0                0.058824  0.352941  0.494118  0.070588  0.023529\n",
      "3.5                0.013699  0.301370  0.452055  0.123288  0.109589\n",
      "4.0                0.000000  0.181818  0.337662  0.285714  0.194805\n",
      "4.5                0.000000  0.000000  0.200000  0.466667  0.333333\n",
      "5.0                0.000000  0.000000  0.142857  0.285714  0.571429\n"
     ]
    },
    {
     "data": {
      "image/png": "[encoded data removed]",
      "text/plain": [
       "<Figure size 432x288 with 1 Axes>"
      ]
     },
     "metadata": {
      "needs_background": "light"
     },
     "output_type": "display_data"
    },
    {
     "name": "stdout",
     "output_type": "stream",
     "text": [
      " \n",
      "------------ UNIVERSITY_RATING ------------------\n",
      "LOR                1.0  1.5  2.0  2.5  3.0  3.5  4.0  4.5  5.0\n",
      "University_Rating                                             \n",
      "1                    1    4   11    4    5    1    0    0    0\n",
      "2                    0    2   21   18   30   22   14    0    0\n",
      "3                    0    1    5   12   42   33   26    9    5\n",
      "4                    0    0    1    5    6    9   22   21   10\n",
      "5                    0    0    0    0    2    8   15   15   20\n",
      " \n",
      "LOR                     1.0       1.5       2.0       2.5       3.0       3.5  \\\n",
      "University_Rating                                                               \n",
      "1                  0.038462  0.153846  0.423077  0.153846  0.192308  0.038462   \n",
      "2                  0.000000  0.018692  0.196262  0.168224  0.280374  0.205607   \n",
      "3                  0.000000  0.007519  0.037594  0.090226  0.315789  0.248120   \n",
      "4                  0.000000  0.000000  0.013514  0.067568  0.081081  0.121622   \n",
      "5                  0.000000  0.000000  0.000000  0.000000  0.033333  0.133333   \n",
      "\n",
      "LOR                     4.0       4.5       5.0  \n",
      "University_Rating                                \n",
      "1                  0.000000  0.000000  0.000000  \n",
      "2                  0.130841  0.000000  0.000000  \n",
      "3                  0.195489  0.067669  0.037594  \n",
      "4                  0.297297  0.283784  0.135135  \n",
      "5                  0.250000  0.250000  0.333333  \n"
     ]
    },
    {
     "data": {
      "image/png": "[encoded data removed]",
      "text/plain": [
       "<Figure size 432x288 with 1 Axes>"
      ]
     },
     "metadata": {
      "needs_background": "light"
     },
     "output_type": "display_data"
    },
    {
     "name": "stdout",
     "output_type": "stream",
     "text": [
      " \n",
      "------------ SOP ------------------\n",
      "LOR  1.0  1.5  2.0  2.5  3.0  3.5  4.0  4.5  5.0\n",
      "SOP                                             \n",
      "1.0    1    1    2    2    0    0    0    0    0\n",
      "1.5    0    1   13    3    2    1    0    0    0\n",
      "2.0    0    2    5   14    7    3    2    0    0\n",
      "2.5    0    2    9    6   18    7    4    1    0\n",
      "3.0    0    1    7    6   20   21    7    1    1\n",
      "3.5    0    0    1    6   25   15   19    2    2\n",
      "4.0    0    0    1    2   10   15   18   16    8\n",
      "4.5    0    0    0    0    3    9   21   14    6\n",
      "5.0    0    0    0    0    0    2    6   11   18\n",
      " \n",
      "LOR       1.0       1.5       2.0       2.5       3.0       3.5       4.0  \\\n",
      "SOP                                                                         \n",
      "1.0  0.166667  0.166667  0.333333  0.333333  0.000000  0.000000  0.000000   \n",
      "1.5  0.000000  0.050000  0.650000  0.150000  0.100000  0.050000  0.000000   \n",
      "2.0  0.000000  0.060606  0.151515  0.424242  0.212121  0.090909  0.060606   \n",
      "2.5  0.000000  0.042553  0.191489  0.127660  0.382979  0.148936  0.085106   \n",
      "3.0  0.000000  0.015625  0.109375  0.093750  0.312500  0.328125  0.109375   \n",
      "3.5  0.000000  0.000000  0.014286  0.085714  0.357143  0.214286  0.271429   \n",
      "4.0  0.000000  0.000000  0.014286  0.028571  0.142857  0.214286  0.257143   \n",
      "4.5  0.000000  0.000000  0.000000  0.000000  0.056604  0.169811  0.396226   \n",
      "5.0  0.000000  0.000000  0.000000  0.000000  0.000000  0.054054  0.162162   \n",
      "\n",
      "LOR       4.5       5.0  \n",
      "SOP                      \n",
      "1.0  0.000000  0.000000  \n",
      "1.5  0.000000  0.000000  \n",
      "2.0  0.000000  0.000000  \n",
      "2.5  0.021277  0.000000  \n",
      "3.0  0.015625  0.015625  \n",
      "3.5  0.028571  0.028571  \n",
      "4.0  0.228571  0.114286  \n",
      "4.5  0.264151  0.113208  \n",
      "5.0  0.297297  0.486486  \n"
     ]
    },
    {
     "data": {
      "image/png": "[encoded data removed]",
      "text/plain": [
       "<Figure size 432x288 with 1 Axes>"
      ]
     },
     "metadata": {
      "needs_background": "light"
     },
     "output_type": "display_data"
    },
    {
     "name": "stdout",
     "output_type": "stream",
     "text": [
      " \n",
      "------------ RESEARCH ------------------\n",
      "LOR       1.0  1.5  2.0  2.5  3.0  3.5  4.0  4.5  5.0\n",
      "Research                                             \n",
      "0           1    5   29   29   45   35   24    7    6\n",
      "1           0    2    9   10   40   38   53   38   29\n",
      " \n",
      "LOR            1.0       1.5       2.0       2.5       3.0       3.5  \\\n",
      "Research                                                               \n",
      "0         0.005525  0.027624  0.160221  0.160221  0.248619  0.193370   \n",
      "1         0.000000  0.009132  0.041096  0.045662  0.182648  0.173516   \n",
      "\n",
      "LOR            4.0       4.5       5.0  \n",
      "Research                                \n",
      "0         0.132597  0.038674  0.033149  \n",
      "1         0.242009  0.173516  0.132420  \n"
     ]
    },
    {
     "data": {
      "image/png": "[encoded data removed]",
      "text/plain": [
       "<Figure size 432x288 with 1 Axes>"
      ]
     },
     "metadata": {
      "needs_background": "light"
     },
     "output_type": "display_data"
    },
    {
     "name": "stdout",
     "output_type": "stream",
     "text": [
      " \n"
     ]
    }
   ],
   "source": [
    "for cvar in list1:\n",
    "    if cvar == 'Research':\n",
    "        continue\n",
    "    print('------------',cvar.upper(),'------------------')\n",
    "    tab = pd.crosstab(data[cvar],columns=data.Research)\n",
    "    print(tab)\n",
    "    print(' ')\n",
    "    rowtotal = tab.sum(axis =1)\n",
    "    tab2 = tab.div(rowtotal,axis=0)\n",
    "    print(tab2)\n",
    "    tab2.plot.bar(rot=0)\n",
    "    plt.show()\n",
    "    print(' ')\n",
    "    \n",
    "\n",
    "for cvar in list1:\n",
    "    if cvar == 'SOP':\n",
    "        continue\n",
    "    print('------------',cvar.upper(),'------------------')\n",
    "    tab = pd.crosstab(data[cvar],columns=data.SOP)\n",
    "    print(tab)\n",
    "    print(' ')\n",
    "    rowtotal = tab.sum(axis =1)\n",
    "    tab2 = tab.div(rowtotal,axis=0)\n",
    "    print(tab2)\n",
    "    tab2.plot.bar(rot=0)\n",
    "    plt.show()\n",
    "    print(' ')\n",
    "\n",
    "for cvar in list1:\n",
    "    if cvar == 'University_Rating':\n",
    "        continue\n",
    "    print('------------',cvar.upper(),'------------------')\n",
    "    tab = pd.crosstab(data[cvar],columns=data.University_Rating)\n",
    "    print(tab)\n",
    "    print(' ')\n",
    "    rowtotal = tab.sum(axis =1)\n",
    "    tab2 = tab.div(rowtotal,axis=0)\n",
    "    print(tab2)\n",
    "    tab2.plot.bar(rot=0)\n",
    "    plt.show()\n",
    "    print(' ')\n",
    "    \n",
    "for cvar in list1:\n",
    "    if cvar == 'LOR':\n",
    "        continue\n",
    "    print('------------',cvar.upper(),'------------------')\n",
    "    tab = pd.crosstab(data[cvar],columns=data.LOR)\n",
    "    print(tab)\n",
    "    print(' ')\n",
    "    rowtotal = tab.sum(axis =1)\n",
    "    tab2 = tab.div(rowtotal,axis=0)\n",
    "    print(tab2)\n",
    "    tab2.plot.bar(rot=0)\n",
    "    plt.show()\n",
    "    print(' ')\n",
    "    \n",
    "    "
   ]
  },
  {
   "cell_type": "markdown",
   "id": "84b447f4",
   "metadata": {},
   "source": []
  },
  {
   "cell_type": "code",
   "execution_count": null,
   "id": "d5835571",
   "metadata": {},
   "outputs": [],
   "source": []
  },
  {
   "cell_type": "code",
   "execution_count": null,
   "id": "92f97e4d",
   "metadata": {},
   "outputs": [],
   "source": []
  },
  {
   "cell_type": "code",
   "execution_count": 239,
   "id": "eef5614c",
   "metadata": {},
   "outputs": [],
   "source": [
    "data = data.drop('University_Rating', axis = 1)"
   ]
  },
  {
   "cell_type": "code",
   "execution_count": 244,
   "id": "d57670d2",
   "metadata": {},
   "outputs": [],
   "source": [
    "data = data.drop('SOP', axis = 1)"
   ]
  },
  {
   "cell_type": "code",
   "execution_count": 241,
   "id": "9e23121f",
   "metadata": {},
   "outputs": [],
   "source": [
    "data = data.drop('LOR', axis = 1)"
   ]
  },
  {
   "cell_type": "code",
   "execution_count": 242,
   "id": "bf5133b2",
   "metadata": {},
   "outputs": [],
   "source": [
    "data = data.drop('Research', axis = 1)"
   ]
  },
  {
   "cell_type": "code",
   "execution_count": 245,
   "id": "a15652a8",
   "metadata": {},
   "outputs": [
    {
     "data": {
      "image/png": "[encoded data removed]",
      "text/plain": [
       "<Figure size 720x360 with 2 Axes>"
      ]
     },
     "metadata": {
      "needs_background": "light"
     },
     "output_type": "display_data"
    }
   ],
   "source": [
    "# Correaltion between numerical variables\n",
    "\n",
    "plt.figure(figsize = (10, 5))\n",
    "sns.heatmap(data.corr(method=\"pearson\"),annot = True)\n",
    "plt.yticks(rotation = 360)\n",
    "plt.xticks(rotation = 45)\n",
    "plt.show()"
   ]
  },
  {
   "cell_type": "markdown",
   "id": "f873bb47",
   "metadata": {},
   "source": [
    "* As We can See Chance of Admit is highly Correlated with GRE Score,Toefl Score and CGPA"
   ]
  },
  {
   "cell_type": "code",
   "execution_count": null,
   "id": "81ca6463",
   "metadata": {},
   "outputs": [],
   "source": []
  },
  {
   "cell_type": "markdown",
   "id": "70e056e5",
   "metadata": {},
   "source": [
    "### Linear Regression Module"
   ]
  },
  {
   "cell_type": "code",
   "execution_count": 189,
   "id": "f5931b6c",
   "metadata": {},
   "outputs": [],
   "source": [
    "import statsmodels.api as stm"
   ]
  },
  {
   "cell_type": "code",
   "execution_count": 190,
   "id": "29444bfb",
   "metadata": {},
   "outputs": [],
   "source": [
    "x = data[['GRE_Score', 'TOEFL_Score', 'University_Rating', 'SOP', 'LOR', 'CGPA', 'Research', 'Chance_of_Admit']]\n",
    "y = data.Chance_of_Admit\n",
    "X = stm.add_constant(x)"
   ]
  },
  {
   "cell_type": "code",
   "execution_count": 191,
   "id": "14ee3848",
   "metadata": {},
   "outputs": [],
   "source": [
    "mod1 = stm.OLS(y,X).fit()"
   ]
  },
  {
   "cell_type": "code",
   "execution_count": 192,
   "id": "8b0ffee9",
   "metadata": {},
   "outputs": [
    {
     "data": {
      "text/plain": [
       "const                9.992007e-16\n",
       "GRE_Score           -7.806256e-18\n",
       "TOEFL_Score          1.257675e-17\n",
       "University_Rating   -2.012279e-16\n",
       "SOP                  4.857226e-17\n",
       "LOR                 -4.510281e-17\n",
       "CGPA                 3.330669e-16\n",
       "Research             1.665335e-16\n",
       "Chance_of_Admit      1.000000e+00\n",
       "dtype: float64"
      ]
     },
     "execution_count": 192,
     "metadata": {},
     "output_type": "execute_result"
    }
   ],
   "source": [
    "mod1.params"
   ]
  },
  {
   "cell_type": "code",
   "execution_count": 193,
   "id": "43fefe55",
   "metadata": {},
   "outputs": [
    {
     "data": {
      "text/plain": [
       "0     -2.442491e-15\n",
       "1     -2.109424e-15\n",
       "2     -2.109424e-15\n",
       "3     -2.331468e-15\n",
       "4     -2.109424e-15\n",
       "           ...     \n",
       "395   -2.442491e-15\n",
       "396   -2.442491e-15\n",
       "397   -2.442491e-15\n",
       "398   -2.220446e-15\n",
       "399   -2.553513e-15\n",
       "Length: 400, dtype: float64"
      ]
     },
     "execution_count": 193,
     "metadata": {},
     "output_type": "execute_result"
    }
   ],
   "source": [
    "#Errors\n",
    "y - mod1.predict(X)"
   ]
  },
  {
   "cell_type": "code",
   "execution_count": 194,
   "id": "71f58237",
   "metadata": {},
   "outputs": [
    {
     "data": {
      "text/plain": [
       "1.9869464865133345e-27"
      ]
     },
     "execution_count": 194,
     "metadata": {},
     "output_type": "execute_result"
    }
   ],
   "source": [
    "#Rss\n",
    "np.sum((y-mod1.predict(X))**2)"
   ]
  },
  {
   "cell_type": "code",
   "execution_count": 195,
   "id": "ba84ee6c",
   "metadata": {},
   "outputs": [
    {
     "data": {
      "text/html": [
       "<table class=\"simpletable\">\n",
       "<caption>OLS Regression Results</caption>\n",
       "<tr>\n",
       "  <th>Dep. Variable:</th>     <td>Chance_of_Admit</td> <th>  R-squared:         </th>  <td>   1.000</td> \n",
       "</tr>\n",
       "<tr>\n",
       "  <th>Model:</th>                   <td>OLS</td>       <th>  Adj. R-squared:    </th>  <td>   1.000</td> \n",
       "</tr>\n",
       "<tr>\n",
       "  <th>Method:</th>             <td>Least Squares</td>  <th>  F-statistic:       </th>  <td>1.996e+29</td>\n",
       "</tr>\n",
       "<tr>\n",
       "  <th>Date:</th>             <td>Thu, 03 Nov 2022</td> <th>  Prob (F-statistic):</th>   <td>  0.00</td>  \n",
       "</tr>\n",
       "<tr>\n",
       "  <th>Time:</th>                 <td>01:32:49</td>     <th>  Log-Likelihood:    </th>  <td>  12927.</td> \n",
       "</tr>\n",
       "<tr>\n",
       "  <th>No. Observations:</th>      <td>   400</td>      <th>  AIC:               </th> <td>-2.584e+04</td>\n",
       "</tr>\n",
       "<tr>\n",
       "  <th>Df Residuals:</th>          <td>   391</td>      <th>  BIC:               </th> <td>-2.580e+04</td>\n",
       "</tr>\n",
       "<tr>\n",
       "  <th>Df Model:</th>              <td>     8</td>      <th>                     </th>      <td> </td>    \n",
       "</tr>\n",
       "<tr>\n",
       "  <th>Covariance Type:</th>      <td>nonrobust</td>    <th>                     </th>      <td> </td>    \n",
       "</tr>\n",
       "</table>\n",
       "<table class=\"simpletable\">\n",
       "<tr>\n",
       "          <td></td>             <th>coef</th>     <th>std err</th>      <th>t</th>      <th>P>|t|</th>  <th>[0.025</th>    <th>0.975]</th>  \n",
       "</tr>\n",
       "<tr>\n",
       "  <th>const</th>             <td> 9.992e-16</td> <td> 4.95e-15</td> <td>    0.202</td> <td> 0.840</td> <td>-8.73e-15</td> <td> 1.07e-14</td>\n",
       "</tr>\n",
       "<tr>\n",
       "  <th>GRE_Score</th>         <td>-7.806e-18</td> <td> 2.14e-17</td> <td>   -0.366</td> <td> 0.715</td> <td>-4.98e-17</td> <td> 3.42e-17</td>\n",
       "</tr>\n",
       "<tr>\n",
       "  <th>TOEFL_Score</th>       <td> 1.258e-17</td> <td> 3.89e-17</td> <td>    0.324</td> <td> 0.746</td> <td>-6.38e-17</td> <td>  8.9e-17</td>\n",
       "</tr>\n",
       "<tr>\n",
       "  <th>University_Rating</th> <td>-2.012e-16</td> <td> 1.69e-16</td> <td>   -1.191</td> <td> 0.234</td> <td>-5.33e-16</td> <td> 1.31e-16</td>\n",
       "</tr>\n",
       "<tr>\n",
       "  <th>SOP</th>               <td> 4.857e-17</td> <td> 1.97e-16</td> <td>    0.247</td> <td> 0.805</td> <td>-3.38e-16</td> <td> 4.35e-16</td>\n",
       "</tr>\n",
       "<tr>\n",
       "  <th>LOR</th>               <td> -4.51e-17</td> <td>    2e-16</td> <td>   -0.226</td> <td> 0.822</td> <td>-4.38e-16</td> <td> 3.48e-16</td>\n",
       "</tr>\n",
       "<tr>\n",
       "  <th>CGPA</th>              <td> 3.331e-16</td> <td> 4.81e-16</td> <td>    0.692</td> <td> 0.489</td> <td>-6.13e-16</td> <td> 1.28e-15</td>\n",
       "</tr>\n",
       "<tr>\n",
       "  <th>Research</th>          <td> 1.665e-16</td> <td> 2.85e-16</td> <td>    0.585</td> <td> 0.559</td> <td>-3.93e-16</td> <td> 7.26e-16</td>\n",
       "</tr>\n",
       "<tr>\n",
       "  <th>Chance_of_Admit</th>   <td>    1.0000</td> <td> 1.79e-15</td> <td>  5.6e+14</td> <td> 0.000</td> <td>    1.000</td> <td>    1.000</td>\n",
       "</tr>\n",
       "</table>\n",
       "<table class=\"simpletable\">\n",
       "<tr>\n",
       "  <th>Omnibus:</th>       <td> 6.464</td> <th>  Durbin-Watson:     </th> <td>   0.008</td>\n",
       "</tr>\n",
       "<tr>\n",
       "  <th>Prob(Omnibus):</th> <td> 0.039</td> <th>  Jarque-Bera (JB):  </th> <td>   9.570</td>\n",
       "</tr>\n",
       "<tr>\n",
       "  <th>Skew:</th>          <td>-0.021</td> <th>  Prob(JB):          </th> <td> 0.00835</td>\n",
       "</tr>\n",
       "<tr>\n",
       "  <th>Kurtosis:</th>      <td> 3.757</td> <th>  Cond. No.          </th> <td>1.49e+04</td>\n",
       "</tr>\n",
       "</table><br/><br/>Notes:<br/>[1] Standard Errors assume that the covariance matrix of the errors is correctly specified.<br/>[2] The condition number is large, 1.49e+04. This might indicate that there are<br/>strong multicollinearity or other numerical problems."
      ],
      "text/plain": [
       "<class 'statsmodels.iolib.summary.Summary'>\n",
       "\"\"\"\n",
       "                            OLS Regression Results                            \n",
       "==============================================================================\n",
       "Dep. Variable:        Chance_of_Admit   R-squared:                       1.000\n",
       "Model:                            OLS   Adj. R-squared:                  1.000\n",
       "Method:                 Least Squares   F-statistic:                 1.996e+29\n",
       "Date:                Thu, 03 Nov 2022   Prob (F-statistic):               0.00\n",
       "Time:                        01:32:49   Log-Likelihood:                 12927.\n",
       "No. Observations:                 400   AIC:                        -2.584e+04\n",
       "Df Residuals:                     391   BIC:                        -2.580e+04\n",
       "Df Model:                           8                                         \n",
       "Covariance Type:            nonrobust                                         \n",
       "=====================================================================================\n",
       "                        coef    std err          t      P>|t|      [0.025      0.975]\n",
       "-------------------------------------------------------------------------------------\n",
       "const              9.992e-16   4.95e-15      0.202      0.840   -8.73e-15    1.07e-14\n",
       "GRE_Score         -7.806e-18   2.14e-17     -0.366      0.715   -4.98e-17    3.42e-17\n",
       "TOEFL_Score        1.258e-17   3.89e-17      0.324      0.746   -6.38e-17     8.9e-17\n",
       "University_Rating -2.012e-16   1.69e-16     -1.191      0.234   -5.33e-16    1.31e-16\n",
       "SOP                4.857e-17   1.97e-16      0.247      0.805   -3.38e-16    4.35e-16\n",
       "LOR                -4.51e-17      2e-16     -0.226      0.822   -4.38e-16    3.48e-16\n",
       "CGPA               3.331e-16   4.81e-16      0.692      0.489   -6.13e-16    1.28e-15\n",
       "Research           1.665e-16   2.85e-16      0.585      0.559   -3.93e-16    7.26e-16\n",
       "Chance_of_Admit       1.0000   1.79e-15    5.6e+14      0.000       1.000       1.000\n",
       "==============================================================================\n",
       "Omnibus:                        6.464   Durbin-Watson:                   0.008\n",
       "Prob(Omnibus):                  0.039   Jarque-Bera (JB):                9.570\n",
       "Skew:                          -0.021   Prob(JB):                      0.00835\n",
       "Kurtosis:                       3.757   Cond. No.                     1.49e+04\n",
       "==============================================================================\n",
       "\n",
       "Notes:\n",
       "[1] Standard Errors assume that the covariance matrix of the errors is correctly specified.\n",
       "[2] The condition number is large, 1.49e+04. This might indicate that there are\n",
       "strong multicollinearity or other numerical problems.\n",
       "\"\"\""
      ]
     },
     "execution_count": 195,
     "metadata": {},
     "output_type": "execute_result"
    }
   ],
   "source": [
    "mod1.summary()"
   ]
  },
  {
   "cell_type": "code",
   "execution_count": null,
   "id": "cf691394",
   "metadata": {},
   "outputs": [],
   "source": []
  }
 ],
 "metadata": {
  "kernelspec": {
   "display_name": "Python 3 (ipykernel)",
   "language": "python",
   "name": "python3"
  },
  "language_info": {
   "codemirror_mode": {
    "name": "ipython",
    "version": 3
   },
   "file_extension": ".py",
   "mimetype": "text/x-python",
   "name": "python",
   "nbconvert_exporter": "python",
   "pygments_lexer": "ipython3",
   "version": "3.9.12"
  },
  "varInspector": {
   "cols": {
    "lenName": 16,
    "lenType": 16,
    "lenVar": 40
   },
   "kernels_config": {
    "python": {
     "delete_cmd_postfix": "",
     "delete_cmd_prefix": "del ",
     "library": "var_list.py",
     "varRefreshCmd": "print(var_dic_list())"
    },
    "r": {
     "delete_cmd_postfix": ") ",
     "delete_cmd_prefix": "rm(",
     "library": "var_list.r",
     "varRefreshCmd": "cat(var_dic_list()) "
    }
   },
   "types_to_exclude": [
    "module",
    "function",
    "builtin_function_or_method",
    "instance",
    "_Feature"
   ],
   "window_display": false
  }
 },
 "nbformat": 4,
 "nbformat_minor": 5
}
